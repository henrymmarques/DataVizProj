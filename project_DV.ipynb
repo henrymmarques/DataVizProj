{
 "cells": [
  {
   "cell_type": "code",
   "execution_count": 112,
   "id": "a5903100",
   "metadata": {},
   "outputs": [],
   "source": [
    "import pandas as pd\n",
    "import numpy as np\n",
    "import plotly.graph_objects as go\n",
    "import plotly.express as px\n",
    "\n",
    "import warnings\n",
    "warnings.simplefilter(action='ignore', category=FutureWarning)\n",
    "## pip freeze >> requirements.txt"
   ]
  },
  {
   "cell_type": "code",
   "execution_count": 176,
   "id": "799a0546",
   "metadata": {},
   "outputs": [],
   "source": [
    "data = pd.read_csv('World Energy Consumption.csv')\n",
    "# continents = pd.read_excel('country_continent_map.xlsx')\n",
    "continents = pd.read_csv('country_continent_map.csv')"
   ]
  },
  {
   "cell_type": "code",
   "execution_count": 177,
   "id": "62644c5f",
   "metadata": {},
   "outputs": [
    {
     "data": {
      "text/html": [
       "<div>\n",
       "<style scoped>\n",
       "    .dataframe tbody tr th:only-of-type {\n",
       "        vertical-align: middle;\n",
       "    }\n",
       "\n",
       "    .dataframe tbody tr th {\n",
       "        vertical-align: top;\n",
       "    }\n",
       "\n",
       "    .dataframe thead th {\n",
       "        text-align: right;\n",
       "    }\n",
       "</style>\n",
       "<table border=\"1\" class=\"dataframe\">\n",
       "  <thead>\n",
       "    <tr style=\"text-align: right;\">\n",
       "      <th></th>\n",
       "      <th>country</th>\n",
       "      <th>iso-3</th>\n",
       "      <th>iso-2</th>\n",
       "      <th>region</th>\n",
       "      <th>subregion</th>\n",
       "      <th>continent</th>\n",
       "    </tr>\n",
       "  </thead>\n",
       "  <tbody>\n",
       "    <tr>\n",
       "      <th>0</th>\n",
       "      <td>Algeria</td>\n",
       "      <td>DZA</td>\n",
       "      <td>DZ</td>\n",
       "      <td>Africa</td>\n",
       "      <td>Northern Africa</td>\n",
       "      <td>Africa</td>\n",
       "    </tr>\n",
       "    <tr>\n",
       "      <th>1</th>\n",
       "      <td>Angola</td>\n",
       "      <td>AGO</td>\n",
       "      <td>AO</td>\n",
       "      <td>Africa</td>\n",
       "      <td>Middle Africa, Sub-Saharan Africa</td>\n",
       "      <td>Africa</td>\n",
       "    </tr>\n",
       "    <tr>\n",
       "      <th>2</th>\n",
       "      <td>Benin</td>\n",
       "      <td>BEN</td>\n",
       "      <td>BJ</td>\n",
       "      <td>Africa</td>\n",
       "      <td>Western Africa, Sub-Saharan Africa</td>\n",
       "      <td>Africa</td>\n",
       "    </tr>\n",
       "    <tr>\n",
       "      <th>3</th>\n",
       "      <td>Botswana</td>\n",
       "      <td>BWA</td>\n",
       "      <td>BW</td>\n",
       "      <td>Africa</td>\n",
       "      <td>Southern Africa, Sub-Saharan Africa</td>\n",
       "      <td>Africa</td>\n",
       "    </tr>\n",
       "    <tr>\n",
       "      <th>4</th>\n",
       "      <td>Burkina Faso</td>\n",
       "      <td>BFA</td>\n",
       "      <td>BF</td>\n",
       "      <td>Africa</td>\n",
       "      <td>Western Africa, Sub-Saharan Africa</td>\n",
       "      <td>Africa</td>\n",
       "    </tr>\n",
       "    <tr>\n",
       "      <th>...</th>\n",
       "      <td>...</td>\n",
       "      <td>...</td>\n",
       "      <td>...</td>\n",
       "      <td>...</td>\n",
       "      <td>...</td>\n",
       "      <td>...</td>\n",
       "    </tr>\n",
       "    <tr>\n",
       "      <th>229</th>\n",
       "      <td>Paraguay</td>\n",
       "      <td>PRY</td>\n",
       "      <td>PY</td>\n",
       "      <td>South America</td>\n",
       "      <td>South America, Latin America</td>\n",
       "      <td>South America</td>\n",
       "    </tr>\n",
       "    <tr>\n",
       "      <th>230</th>\n",
       "      <td>Peru</td>\n",
       "      <td>PER</td>\n",
       "      <td>PE</td>\n",
       "      <td>South America</td>\n",
       "      <td>South America, Latin America</td>\n",
       "      <td>South America</td>\n",
       "    </tr>\n",
       "    <tr>\n",
       "      <th>231</th>\n",
       "      <td>Suriname</td>\n",
       "      <td>SUR</td>\n",
       "      <td>SR</td>\n",
       "      <td>South America</td>\n",
       "      <td>South America, Latin America</td>\n",
       "      <td>South America</td>\n",
       "    </tr>\n",
       "    <tr>\n",
       "      <th>232</th>\n",
       "      <td>Uruguay</td>\n",
       "      <td>URY</td>\n",
       "      <td>UY</td>\n",
       "      <td>South America</td>\n",
       "      <td>South America, Latin America</td>\n",
       "      <td>South America</td>\n",
       "    </tr>\n",
       "    <tr>\n",
       "      <th>233</th>\n",
       "      <td>Venezuela</td>\n",
       "      <td>VEN</td>\n",
       "      <td>VE</td>\n",
       "      <td>South America</td>\n",
       "      <td>South America, Latin America</td>\n",
       "      <td>South America</td>\n",
       "    </tr>\n",
       "  </tbody>\n",
       "</table>\n",
       "<p>234 rows × 6 columns</p>\n",
       "</div>"
      ],
      "text/plain": [
       "          country iso-3 iso-2         region  \\\n",
       "0         Algeria   DZA    DZ         Africa   \n",
       "1          Angola   AGO    AO         Africa   \n",
       "2           Benin   BEN    BJ         Africa   \n",
       "3        Botswana   BWA    BW         Africa   \n",
       "4    Burkina Faso   BFA    BF         Africa   \n",
       "..            ...   ...   ...            ...   \n",
       "229      Paraguay   PRY    PY  South America   \n",
       "230          Peru   PER    PE  South America   \n",
       "231      Suriname   SUR    SR  South America   \n",
       "232       Uruguay   URY    UY  South America   \n",
       "233     Venezuela   VEN    VE  South America   \n",
       "\n",
       "                               subregion      continent  \n",
       "0                        Northern Africa         Africa  \n",
       "1      Middle Africa, Sub-Saharan Africa         Africa  \n",
       "2     Western Africa, Sub-Saharan Africa         Africa  \n",
       "3    Southern Africa, Sub-Saharan Africa         Africa  \n",
       "4     Western Africa, Sub-Saharan Africa         Africa  \n",
       "..                                   ...            ...  \n",
       "229         South America, Latin America  South America  \n",
       "230         South America, Latin America  South America  \n",
       "231         South America, Latin America  South America  \n",
       "232         South America, Latin America  South America  \n",
       "233         South America, Latin America  South America  \n",
       "\n",
       "[234 rows x 6 columns]"
      ]
     },
     "execution_count": 177,
     "metadata": {},
     "output_type": "execute_result"
    }
   ],
   "source": [
    "continents"
   ]
  },
  {
   "cell_type": "code",
   "execution_count": 3,
   "id": "9ebb6f87",
   "metadata": {},
   "outputs": [
    {
     "data": {
      "text/html": [
       "<div>\n",
       "<style scoped>\n",
       "    .dataframe tbody tr th:only-of-type {\n",
       "        vertical-align: middle;\n",
       "    }\n",
       "\n",
       "    .dataframe tbody tr th {\n",
       "        vertical-align: top;\n",
       "    }\n",
       "\n",
       "    .dataframe thead th {\n",
       "        text-align: right;\n",
       "    }\n",
       "</style>\n",
       "<table border=\"1\" class=\"dataframe\">\n",
       "  <thead>\n",
       "    <tr style=\"text-align: right;\">\n",
       "      <th></th>\n",
       "      <th>iso_code</th>\n",
       "      <th>country</th>\n",
       "      <th>year</th>\n",
       "      <th>coal_prod_change_pct</th>\n",
       "      <th>coal_prod_change_twh</th>\n",
       "      <th>gas_prod_change_pct</th>\n",
       "      <th>gas_prod_change_twh</th>\n",
       "      <th>oil_prod_change_pct</th>\n",
       "      <th>oil_prod_change_twh</th>\n",
       "      <th>energy_cons_change_pct</th>\n",
       "      <th>...</th>\n",
       "      <th>solar_elec_per_capita</th>\n",
       "      <th>solar_energy_per_capita</th>\n",
       "      <th>gdp</th>\n",
       "      <th>wind_share_elec</th>\n",
       "      <th>wind_cons_change_pct</th>\n",
       "      <th>wind_share_energy</th>\n",
       "      <th>wind_cons_change_twh</th>\n",
       "      <th>wind_consumption</th>\n",
       "      <th>wind_elec_per_capita</th>\n",
       "      <th>wind_energy_per_capita</th>\n",
       "    </tr>\n",
       "  </thead>\n",
       "  <tbody>\n",
       "    <tr>\n",
       "      <th>0</th>\n",
       "      <td>AFG</td>\n",
       "      <td>Afghanistan</td>\n",
       "      <td>1900</td>\n",
       "      <td>NaN</td>\n",
       "      <td>NaN</td>\n",
       "      <td>NaN</td>\n",
       "      <td>NaN</td>\n",
       "      <td>NaN</td>\n",
       "      <td>NaN</td>\n",
       "      <td>NaN</td>\n",
       "      <td>...</td>\n",
       "      <td>NaN</td>\n",
       "      <td>NaN</td>\n",
       "      <td>NaN</td>\n",
       "      <td>NaN</td>\n",
       "      <td>NaN</td>\n",
       "      <td>NaN</td>\n",
       "      <td>NaN</td>\n",
       "      <td>NaN</td>\n",
       "      <td>NaN</td>\n",
       "      <td>NaN</td>\n",
       "    </tr>\n",
       "    <tr>\n",
       "      <th>1</th>\n",
       "      <td>AFG</td>\n",
       "      <td>Afghanistan</td>\n",
       "      <td>1901</td>\n",
       "      <td>NaN</td>\n",
       "      <td>0.0</td>\n",
       "      <td>NaN</td>\n",
       "      <td>NaN</td>\n",
       "      <td>NaN</td>\n",
       "      <td>NaN</td>\n",
       "      <td>NaN</td>\n",
       "      <td>...</td>\n",
       "      <td>NaN</td>\n",
       "      <td>NaN</td>\n",
       "      <td>NaN</td>\n",
       "      <td>NaN</td>\n",
       "      <td>NaN</td>\n",
       "      <td>NaN</td>\n",
       "      <td>NaN</td>\n",
       "      <td>NaN</td>\n",
       "      <td>NaN</td>\n",
       "      <td>NaN</td>\n",
       "    </tr>\n",
       "    <tr>\n",
       "      <th>2</th>\n",
       "      <td>AFG</td>\n",
       "      <td>Afghanistan</td>\n",
       "      <td>1902</td>\n",
       "      <td>NaN</td>\n",
       "      <td>0.0</td>\n",
       "      <td>NaN</td>\n",
       "      <td>NaN</td>\n",
       "      <td>NaN</td>\n",
       "      <td>NaN</td>\n",
       "      <td>NaN</td>\n",
       "      <td>...</td>\n",
       "      <td>NaN</td>\n",
       "      <td>NaN</td>\n",
       "      <td>NaN</td>\n",
       "      <td>NaN</td>\n",
       "      <td>NaN</td>\n",
       "      <td>NaN</td>\n",
       "      <td>NaN</td>\n",
       "      <td>NaN</td>\n",
       "      <td>NaN</td>\n",
       "      <td>NaN</td>\n",
       "    </tr>\n",
       "    <tr>\n",
       "      <th>3</th>\n",
       "      <td>AFG</td>\n",
       "      <td>Afghanistan</td>\n",
       "      <td>1903</td>\n",
       "      <td>NaN</td>\n",
       "      <td>0.0</td>\n",
       "      <td>NaN</td>\n",
       "      <td>NaN</td>\n",
       "      <td>NaN</td>\n",
       "      <td>NaN</td>\n",
       "      <td>NaN</td>\n",
       "      <td>...</td>\n",
       "      <td>NaN</td>\n",
       "      <td>NaN</td>\n",
       "      <td>NaN</td>\n",
       "      <td>NaN</td>\n",
       "      <td>NaN</td>\n",
       "      <td>NaN</td>\n",
       "      <td>NaN</td>\n",
       "      <td>NaN</td>\n",
       "      <td>NaN</td>\n",
       "      <td>NaN</td>\n",
       "    </tr>\n",
       "    <tr>\n",
       "      <th>4</th>\n",
       "      <td>AFG</td>\n",
       "      <td>Afghanistan</td>\n",
       "      <td>1904</td>\n",
       "      <td>NaN</td>\n",
       "      <td>0.0</td>\n",
       "      <td>NaN</td>\n",
       "      <td>NaN</td>\n",
       "      <td>NaN</td>\n",
       "      <td>NaN</td>\n",
       "      <td>NaN</td>\n",
       "      <td>...</td>\n",
       "      <td>NaN</td>\n",
       "      <td>NaN</td>\n",
       "      <td>NaN</td>\n",
       "      <td>NaN</td>\n",
       "      <td>NaN</td>\n",
       "      <td>NaN</td>\n",
       "      <td>NaN</td>\n",
       "      <td>NaN</td>\n",
       "      <td>NaN</td>\n",
       "      <td>NaN</td>\n",
       "    </tr>\n",
       "  </tbody>\n",
       "</table>\n",
       "<p>5 rows × 122 columns</p>\n",
       "</div>"
      ],
      "text/plain": [
       "  iso_code      country  year  coal_prod_change_pct  coal_prod_change_twh  \\\n",
       "0      AFG  Afghanistan  1900                   NaN                   NaN   \n",
       "1      AFG  Afghanistan  1901                   NaN                   0.0   \n",
       "2      AFG  Afghanistan  1902                   NaN                   0.0   \n",
       "3      AFG  Afghanistan  1903                   NaN                   0.0   \n",
       "4      AFG  Afghanistan  1904                   NaN                   0.0   \n",
       "\n",
       "   gas_prod_change_pct  gas_prod_change_twh  oil_prod_change_pct  \\\n",
       "0                  NaN                  NaN                  NaN   \n",
       "1                  NaN                  NaN                  NaN   \n",
       "2                  NaN                  NaN                  NaN   \n",
       "3                  NaN                  NaN                  NaN   \n",
       "4                  NaN                  NaN                  NaN   \n",
       "\n",
       "   oil_prod_change_twh  energy_cons_change_pct  ...  solar_elec_per_capita  \\\n",
       "0                  NaN                     NaN  ...                    NaN   \n",
       "1                  NaN                     NaN  ...                    NaN   \n",
       "2                  NaN                     NaN  ...                    NaN   \n",
       "3                  NaN                     NaN  ...                    NaN   \n",
       "4                  NaN                     NaN  ...                    NaN   \n",
       "\n",
       "   solar_energy_per_capita  gdp  wind_share_elec  wind_cons_change_pct  \\\n",
       "0                      NaN  NaN              NaN                   NaN   \n",
       "1                      NaN  NaN              NaN                   NaN   \n",
       "2                      NaN  NaN              NaN                   NaN   \n",
       "3                      NaN  NaN              NaN                   NaN   \n",
       "4                      NaN  NaN              NaN                   NaN   \n",
       "\n",
       "   wind_share_energy  wind_cons_change_twh  wind_consumption  \\\n",
       "0                NaN                   NaN               NaN   \n",
       "1                NaN                   NaN               NaN   \n",
       "2                NaN                   NaN               NaN   \n",
       "3                NaN                   NaN               NaN   \n",
       "4                NaN                   NaN               NaN   \n",
       "\n",
       "   wind_elec_per_capita  wind_energy_per_capita  \n",
       "0                   NaN                     NaN  \n",
       "1                   NaN                     NaN  \n",
       "2                   NaN                     NaN  \n",
       "3                   NaN                     NaN  \n",
       "4                   NaN                     NaN  \n",
       "\n",
       "[5 rows x 122 columns]"
      ]
     },
     "execution_count": 3,
     "metadata": {},
     "output_type": "execute_result"
    }
   ],
   "source": [
    "data.head()"
   ]
  },
  {
   "cell_type": "code",
   "execution_count": 4,
   "id": "850effa2",
   "metadata": {},
   "outputs": [
    {
     "data": {
      "text/html": [
       "<div>\n",
       "<style scoped>\n",
       "    .dataframe tbody tr th:only-of-type {\n",
       "        vertical-align: middle;\n",
       "    }\n",
       "\n",
       "    .dataframe tbody tr th {\n",
       "        vertical-align: top;\n",
       "    }\n",
       "\n",
       "    .dataframe thead th {\n",
       "        text-align: right;\n",
       "    }\n",
       "</style>\n",
       "<table border=\"1\" class=\"dataframe\">\n",
       "  <thead>\n",
       "    <tr style=\"text-align: right;\">\n",
       "      <th></th>\n",
       "      <th>count</th>\n",
       "      <th>mean</th>\n",
       "      <th>std</th>\n",
       "      <th>min</th>\n",
       "      <th>25%</th>\n",
       "      <th>50%</th>\n",
       "      <th>75%</th>\n",
       "      <th>max</th>\n",
       "    </tr>\n",
       "  </thead>\n",
       "  <tbody>\n",
       "    <tr>\n",
       "      <th>year</th>\n",
       "      <td>17432.0</td>\n",
       "      <td>1.973094e+03</td>\n",
       "      <td>3.433400e+01</td>\n",
       "      <td>1900.000</td>\n",
       "      <td>1946.000</td>\n",
       "      <td>1983.0000</td>\n",
       "      <td>2002.00000</td>\n",
       "      <td>2.020000e+03</td>\n",
       "    </tr>\n",
       "    <tr>\n",
       "      <th>coal_prod_change_pct</th>\n",
       "      <td>7445.0</td>\n",
       "      <td>2.083077e+01</td>\n",
       "      <td>6.971787e+02</td>\n",
       "      <td>-100.000</td>\n",
       "      <td>-1.532</td>\n",
       "      <td>0.0000</td>\n",
       "      <td>7.69000</td>\n",
       "      <td>4.496575e+04</td>\n",
       "    </tr>\n",
       "    <tr>\n",
       "      <th>coal_prod_change_twh</th>\n",
       "      <td>10394.0</td>\n",
       "      <td>8.798102e+00</td>\n",
       "      <td>1.355037e+02</td>\n",
       "      <td>-2326.870</td>\n",
       "      <td>0.000</td>\n",
       "      <td>0.0000</td>\n",
       "      <td>0.33400</td>\n",
       "      <td>3.060593e+03</td>\n",
       "    </tr>\n",
       "    <tr>\n",
       "      <th>gas_prod_change_pct</th>\n",
       "      <td>4862.0</td>\n",
       "      <td>1.921623e+14</td>\n",
       "      <td>1.339910e+16</td>\n",
       "      <td>-100.000</td>\n",
       "      <td>0.000</td>\n",
       "      <td>2.5835</td>\n",
       "      <td>9.70350</td>\n",
       "      <td>9.342930e+17</td>\n",
       "    </tr>\n",
       "    <tr>\n",
       "      <th>gas_prod_change_twh</th>\n",
       "      <td>7893.0</td>\n",
       "      <td>1.436902e+01</td>\n",
       "      <td>8.541565e+01</td>\n",
       "      <td>-1054.320</td>\n",
       "      <td>0.000</td>\n",
       "      <td>0.0000</td>\n",
       "      <td>2.55900</td>\n",
       "      <td>2.112975e+03</td>\n",
       "    </tr>\n",
       "    <tr>\n",
       "      <th>...</th>\n",
       "      <td>...</td>\n",
       "      <td>...</td>\n",
       "      <td>...</td>\n",
       "      <td>...</td>\n",
       "      <td>...</td>\n",
       "      <td>...</td>\n",
       "      <td>...</td>\n",
       "      <td>...</td>\n",
       "    </tr>\n",
       "    <tr>\n",
       "      <th>wind_share_energy</th>\n",
       "      <td>4284.0</td>\n",
       "      <td>3.454057e-01</td>\n",
       "      <td>1.337962e+00</td>\n",
       "      <td>0.000</td>\n",
       "      <td>0.000</td>\n",
       "      <td>0.0000</td>\n",
       "      <td>0.02000</td>\n",
       "      <td>2.066000e+01</td>\n",
       "    </tr>\n",
       "    <tr>\n",
       "      <th>wind_cons_change_twh</th>\n",
       "      <td>4207.0</td>\n",
       "      <td>2.163830e+00</td>\n",
       "      <td>1.701315e+01</td>\n",
       "      <td>-10.409</td>\n",
       "      <td>0.000</td>\n",
       "      <td>0.0000</td>\n",
       "      <td>0.01000</td>\n",
       "      <td>4.287360e+02</td>\n",
       "    </tr>\n",
       "    <tr>\n",
       "      <th>wind_consumption</th>\n",
       "      <td>4290.0</td>\n",
       "      <td>1.508094e+01</td>\n",
       "      <td>1.266741e+02</td>\n",
       "      <td>0.000</td>\n",
       "      <td>0.000</td>\n",
       "      <td>0.0000</td>\n",
       "      <td>0.14100</td>\n",
       "      <td>3.540051e+03</td>\n",
       "    </tr>\n",
       "    <tr>\n",
       "      <th>wind_elec_per_capita</th>\n",
       "      <td>5499.0</td>\n",
       "      <td>5.362578e+01</td>\n",
       "      <td>2.095435e+02</td>\n",
       "      <td>0.000</td>\n",
       "      <td>0.000</td>\n",
       "      <td>0.0000</td>\n",
       "      <td>3.04650</td>\n",
       "      <td>2.825425e+03</td>\n",
       "    </tr>\n",
       "    <tr>\n",
       "      <th>wind_energy_per_capita</th>\n",
       "      <td>4290.0</td>\n",
       "      <td>1.340031e+02</td>\n",
       "      <td>5.133680e+02</td>\n",
       "      <td>0.000</td>\n",
       "      <td>0.000</td>\n",
       "      <td>0.0000</td>\n",
       "      <td>4.74475</td>\n",
       "      <td>6.928363e+03</td>\n",
       "    </tr>\n",
       "  </tbody>\n",
       "</table>\n",
       "<p>120 rows × 8 columns</p>\n",
       "</div>"
      ],
      "text/plain": [
       "                          count          mean           std       min  \\\n",
       "year                    17432.0  1.973094e+03  3.433400e+01  1900.000   \n",
       "coal_prod_change_pct     7445.0  2.083077e+01  6.971787e+02  -100.000   \n",
       "coal_prod_change_twh    10394.0  8.798102e+00  1.355037e+02 -2326.870   \n",
       "gas_prod_change_pct      4862.0  1.921623e+14  1.339910e+16  -100.000   \n",
       "gas_prod_change_twh      7893.0  1.436902e+01  8.541565e+01 -1054.320   \n",
       "...                         ...           ...           ...       ...   \n",
       "wind_share_energy        4284.0  3.454057e-01  1.337962e+00     0.000   \n",
       "wind_cons_change_twh     4207.0  2.163830e+00  1.701315e+01   -10.409   \n",
       "wind_consumption         4290.0  1.508094e+01  1.266741e+02     0.000   \n",
       "wind_elec_per_capita     5499.0  5.362578e+01  2.095435e+02     0.000   \n",
       "wind_energy_per_capita   4290.0  1.340031e+02  5.133680e+02     0.000   \n",
       "\n",
       "                             25%        50%         75%           max  \n",
       "year                    1946.000  1983.0000  2002.00000  2.020000e+03  \n",
       "coal_prod_change_pct      -1.532     0.0000     7.69000  4.496575e+04  \n",
       "coal_prod_change_twh       0.000     0.0000     0.33400  3.060593e+03  \n",
       "gas_prod_change_pct        0.000     2.5835     9.70350  9.342930e+17  \n",
       "gas_prod_change_twh        0.000     0.0000     2.55900  2.112975e+03  \n",
       "...                          ...        ...         ...           ...  \n",
       "wind_share_energy          0.000     0.0000     0.02000  2.066000e+01  \n",
       "wind_cons_change_twh       0.000     0.0000     0.01000  4.287360e+02  \n",
       "wind_consumption           0.000     0.0000     0.14100  3.540051e+03  \n",
       "wind_elec_per_capita       0.000     0.0000     3.04650  2.825425e+03  \n",
       "wind_energy_per_capita     0.000     0.0000     4.74475  6.928363e+03  \n",
       "\n",
       "[120 rows x 8 columns]"
      ]
     },
     "execution_count": 4,
     "metadata": {},
     "output_type": "execute_result"
    }
   ],
   "source": [
    "data.describe().T"
   ]
  },
  {
   "cell_type": "code",
   "execution_count": 158,
   "id": "563f5944",
   "metadata": {},
   "outputs": [
    {
     "name": "stdout",
     "output_type": "stream",
     "text": [
      " There are 242 countries.\n"
     ]
    }
   ],
   "source": [
    "print(f' There are {data.country.unique().size} countries.')"
   ]
  },
  {
   "cell_type": "code",
   "execution_count": 159,
   "id": "85b41367",
   "metadata": {},
   "outputs": [],
   "source": [
    "continents = continents[['country', 'iso-3', 'region', 'subregion']]"
   ]
  },
  {
   "cell_type": "code",
   "execution_count": 160,
   "id": "c559951a",
   "metadata": {},
   "outputs": [
    {
     "data": {
      "text/html": [
       "<div>\n",
       "<style scoped>\n",
       "    .dataframe tbody tr th:only-of-type {\n",
       "        vertical-align: middle;\n",
       "    }\n",
       "\n",
       "    .dataframe tbody tr th {\n",
       "        vertical-align: top;\n",
       "    }\n",
       "\n",
       "    .dataframe thead th {\n",
       "        text-align: right;\n",
       "    }\n",
       "</style>\n",
       "<table border=\"1\" class=\"dataframe\">\n",
       "  <thead>\n",
       "    <tr style=\"text-align: right;\">\n",
       "      <th></th>\n",
       "      <th>country</th>\n",
       "      <th>iso-3</th>\n",
       "      <th>region</th>\n",
       "      <th>subregion</th>\n",
       "    </tr>\n",
       "  </thead>\n",
       "  <tbody>\n",
       "    <tr>\n",
       "      <th>0</th>\n",
       "      <td>Algeria</td>\n",
       "      <td>DZA</td>\n",
       "      <td>Africa</td>\n",
       "      <td>Northern Africa</td>\n",
       "    </tr>\n",
       "    <tr>\n",
       "      <th>1</th>\n",
       "      <td>Angola</td>\n",
       "      <td>AGO</td>\n",
       "      <td>Africa</td>\n",
       "      <td>Middle Africa, Sub-Saharan Africa</td>\n",
       "    </tr>\n",
       "    <tr>\n",
       "      <th>2</th>\n",
       "      <td>Benin</td>\n",
       "      <td>BEN</td>\n",
       "      <td>Africa</td>\n",
       "      <td>Western Africa, Sub-Saharan Africa</td>\n",
       "    </tr>\n",
       "    <tr>\n",
       "      <th>3</th>\n",
       "      <td>Botswana</td>\n",
       "      <td>BWA</td>\n",
       "      <td>Africa</td>\n",
       "      <td>Southern Africa, Sub-Saharan Africa</td>\n",
       "    </tr>\n",
       "    <tr>\n",
       "      <th>4</th>\n",
       "      <td>Burkina Faso</td>\n",
       "      <td>BFA</td>\n",
       "      <td>Africa</td>\n",
       "      <td>Western Africa, Sub-Saharan Africa</td>\n",
       "    </tr>\n",
       "    <tr>\n",
       "      <th>...</th>\n",
       "      <td>...</td>\n",
       "      <td>...</td>\n",
       "      <td>...</td>\n",
       "      <td>...</td>\n",
       "    </tr>\n",
       "    <tr>\n",
       "      <th>229</th>\n",
       "      <td>Paraguay</td>\n",
       "      <td>PRY</td>\n",
       "      <td>South America</td>\n",
       "      <td>South America, Latin America</td>\n",
       "    </tr>\n",
       "    <tr>\n",
       "      <th>230</th>\n",
       "      <td>Peru</td>\n",
       "      <td>PER</td>\n",
       "      <td>South America</td>\n",
       "      <td>South America, Latin America</td>\n",
       "    </tr>\n",
       "    <tr>\n",
       "      <th>231</th>\n",
       "      <td>Suriname</td>\n",
       "      <td>SUR</td>\n",
       "      <td>South America</td>\n",
       "      <td>South America, Latin America</td>\n",
       "    </tr>\n",
       "    <tr>\n",
       "      <th>232</th>\n",
       "      <td>Uruguay</td>\n",
       "      <td>URY</td>\n",
       "      <td>South America</td>\n",
       "      <td>South America, Latin America</td>\n",
       "    </tr>\n",
       "    <tr>\n",
       "      <th>233</th>\n",
       "      <td>Venezuela</td>\n",
       "      <td>VEN</td>\n",
       "      <td>South America</td>\n",
       "      <td>South America, Latin America</td>\n",
       "    </tr>\n",
       "  </tbody>\n",
       "</table>\n",
       "<p>234 rows × 4 columns</p>\n",
       "</div>"
      ],
      "text/plain": [
       "          country iso-3         region                            subregion\n",
       "0         Algeria   DZA         Africa                      Northern Africa\n",
       "1          Angola   AGO         Africa    Middle Africa, Sub-Saharan Africa\n",
       "2           Benin   BEN         Africa   Western Africa, Sub-Saharan Africa\n",
       "3        Botswana   BWA         Africa  Southern Africa, Sub-Saharan Africa\n",
       "4    Burkina Faso   BFA         Africa   Western Africa, Sub-Saharan Africa\n",
       "..            ...   ...            ...                                  ...\n",
       "229      Paraguay   PRY  South America         South America, Latin America\n",
       "230          Peru   PER  South America         South America, Latin America\n",
       "231      Suriname   SUR  South America         South America, Latin America\n",
       "232       Uruguay   URY  South America         South America, Latin America\n",
       "233     Venezuela   VEN  South America         South America, Latin America\n",
       "\n",
       "[234 rows x 4 columns]"
      ]
     },
     "execution_count": 160,
     "metadata": {},
     "output_type": "execute_result"
    }
   ],
   "source": [
    "continents"
   ]
  },
  {
   "cell_type": "code",
   "execution_count": 162,
   "id": "e1763fe1",
   "metadata": {},
   "outputs": [
    {
     "name": "stdout",
     "output_type": "stream",
     "text": [
      "0          Asia\n",
      "1          Asia\n",
      "2          Asia\n",
      "3          Asia\n",
      "4          Asia\n",
      "          ...  \n",
      "17427    Africa\n",
      "17428    Africa\n",
      "17429    Africa\n",
      "17430    Africa\n",
      "17431    Africa\n",
      "Name: iso_code, Length: 17432, dtype: object\n"
     ]
    }
   ],
   "source": [
    "regions = data.iso_code.replace(continents.set_index('iso-3')['region'])\n",
    "print(regions)"
   ]
  },
  {
   "cell_type": "code",
   "execution_count": 163,
   "id": "1c6ed499",
   "metadata": {},
   "outputs": [],
   "source": [
    "data['region']=regions"
   ]
  },
  {
   "cell_type": "code",
   "execution_count": 164,
   "id": "a336e737",
   "metadata": {},
   "outputs": [
    {
     "data": {
      "text/plain": [
       "array(['Africa', 'Asia Pacific', 'CIS', 'Central America',\n",
       "       'Czechoslovakia', 'Eastern Africa', 'Europe', 'Europe (other)',\n",
       "       'Falkland Islands ', 'Middle Africa', 'Middle East',\n",
       "       'North America', 'OPEC', 'Other Asia & Pacific', 'Other CIS',\n",
       "       'Other Caribbean', 'Other Middle East', 'Other Northern Africa',\n",
       "       'Other South America', 'Other Southern Africa', 'Reunion',\n",
       "       'South & Central America', 'USSR', 'United States Pacific Islands',\n",
       "       'Western Africa', 'Yugoslavia'], dtype=object)"
      ]
     },
     "execution_count": 164,
     "metadata": {},
     "output_type": "execute_result"
    }
   ],
   "source": [
    "data[data['iso_code'].isna()]['country'].unique()"
   ]
  },
  {
   "cell_type": "code",
   "execution_count": 165,
   "id": "c581a317",
   "metadata": {},
   "outputs": [
    {
     "data": {
      "text/html": [
       "<div>\n",
       "<style scoped>\n",
       "    .dataframe tbody tr th:only-of-type {\n",
       "        vertical-align: middle;\n",
       "    }\n",
       "\n",
       "    .dataframe tbody tr th {\n",
       "        vertical-align: top;\n",
       "    }\n",
       "\n",
       "    .dataframe thead th {\n",
       "        text-align: right;\n",
       "    }\n",
       "</style>\n",
       "<table border=\"1\" class=\"dataframe\">\n",
       "  <thead>\n",
       "    <tr style=\"text-align: right;\">\n",
       "      <th></th>\n",
       "      <th>iso_code</th>\n",
       "      <th>country</th>\n",
       "      <th>year</th>\n",
       "      <th>coal_prod_change_pct</th>\n",
       "      <th>coal_prod_change_twh</th>\n",
       "      <th>gas_prod_change_pct</th>\n",
       "      <th>gas_prod_change_twh</th>\n",
       "      <th>oil_prod_change_pct</th>\n",
       "      <th>oil_prod_change_twh</th>\n",
       "      <th>energy_cons_change_pct</th>\n",
       "      <th>...</th>\n",
       "      <th>solar_energy_per_capita</th>\n",
       "      <th>gdp</th>\n",
       "      <th>wind_share_elec</th>\n",
       "      <th>wind_cons_change_pct</th>\n",
       "      <th>wind_share_energy</th>\n",
       "      <th>wind_cons_change_twh</th>\n",
       "      <th>wind_consumption</th>\n",
       "      <th>wind_elec_per_capita</th>\n",
       "      <th>wind_energy_per_capita</th>\n",
       "      <th>region</th>\n",
       "    </tr>\n",
       "  </thead>\n",
       "  <tbody>\n",
       "    <tr>\n",
       "      <th>0</th>\n",
       "      <td>AFG</td>\n",
       "      <td>Afghanistan</td>\n",
       "      <td>1900</td>\n",
       "      <td>NaN</td>\n",
       "      <td>NaN</td>\n",
       "      <td>NaN</td>\n",
       "      <td>NaN</td>\n",
       "      <td>NaN</td>\n",
       "      <td>NaN</td>\n",
       "      <td>NaN</td>\n",
       "      <td>...</td>\n",
       "      <td>NaN</td>\n",
       "      <td>NaN</td>\n",
       "      <td>NaN</td>\n",
       "      <td>NaN</td>\n",
       "      <td>NaN</td>\n",
       "      <td>NaN</td>\n",
       "      <td>NaN</td>\n",
       "      <td>NaN</td>\n",
       "      <td>NaN</td>\n",
       "      <td>Asia</td>\n",
       "    </tr>\n",
       "    <tr>\n",
       "      <th>1</th>\n",
       "      <td>AFG</td>\n",
       "      <td>Afghanistan</td>\n",
       "      <td>1901</td>\n",
       "      <td>NaN</td>\n",
       "      <td>0.000</td>\n",
       "      <td>NaN</td>\n",
       "      <td>NaN</td>\n",
       "      <td>NaN</td>\n",
       "      <td>NaN</td>\n",
       "      <td>NaN</td>\n",
       "      <td>...</td>\n",
       "      <td>NaN</td>\n",
       "      <td>NaN</td>\n",
       "      <td>NaN</td>\n",
       "      <td>NaN</td>\n",
       "      <td>NaN</td>\n",
       "      <td>NaN</td>\n",
       "      <td>NaN</td>\n",
       "      <td>NaN</td>\n",
       "      <td>NaN</td>\n",
       "      <td>Asia</td>\n",
       "    </tr>\n",
       "    <tr>\n",
       "      <th>2</th>\n",
       "      <td>AFG</td>\n",
       "      <td>Afghanistan</td>\n",
       "      <td>1902</td>\n",
       "      <td>NaN</td>\n",
       "      <td>0.000</td>\n",
       "      <td>NaN</td>\n",
       "      <td>NaN</td>\n",
       "      <td>NaN</td>\n",
       "      <td>NaN</td>\n",
       "      <td>NaN</td>\n",
       "      <td>...</td>\n",
       "      <td>NaN</td>\n",
       "      <td>NaN</td>\n",
       "      <td>NaN</td>\n",
       "      <td>NaN</td>\n",
       "      <td>NaN</td>\n",
       "      <td>NaN</td>\n",
       "      <td>NaN</td>\n",
       "      <td>NaN</td>\n",
       "      <td>NaN</td>\n",
       "      <td>Asia</td>\n",
       "    </tr>\n",
       "    <tr>\n",
       "      <th>3</th>\n",
       "      <td>AFG</td>\n",
       "      <td>Afghanistan</td>\n",
       "      <td>1903</td>\n",
       "      <td>NaN</td>\n",
       "      <td>0.000</td>\n",
       "      <td>NaN</td>\n",
       "      <td>NaN</td>\n",
       "      <td>NaN</td>\n",
       "      <td>NaN</td>\n",
       "      <td>NaN</td>\n",
       "      <td>...</td>\n",
       "      <td>NaN</td>\n",
       "      <td>NaN</td>\n",
       "      <td>NaN</td>\n",
       "      <td>NaN</td>\n",
       "      <td>NaN</td>\n",
       "      <td>NaN</td>\n",
       "      <td>NaN</td>\n",
       "      <td>NaN</td>\n",
       "      <td>NaN</td>\n",
       "      <td>Asia</td>\n",
       "    </tr>\n",
       "    <tr>\n",
       "      <th>4</th>\n",
       "      <td>AFG</td>\n",
       "      <td>Afghanistan</td>\n",
       "      <td>1904</td>\n",
       "      <td>NaN</td>\n",
       "      <td>0.000</td>\n",
       "      <td>NaN</td>\n",
       "      <td>NaN</td>\n",
       "      <td>NaN</td>\n",
       "      <td>NaN</td>\n",
       "      <td>NaN</td>\n",
       "      <td>...</td>\n",
       "      <td>NaN</td>\n",
       "      <td>NaN</td>\n",
       "      <td>NaN</td>\n",
       "      <td>NaN</td>\n",
       "      <td>NaN</td>\n",
       "      <td>NaN</td>\n",
       "      <td>NaN</td>\n",
       "      <td>NaN</td>\n",
       "      <td>NaN</td>\n",
       "      <td>Asia</td>\n",
       "    </tr>\n",
       "    <tr>\n",
       "      <th>...</th>\n",
       "      <td>...</td>\n",
       "      <td>...</td>\n",
       "      <td>...</td>\n",
       "      <td>...</td>\n",
       "      <td>...</td>\n",
       "      <td>...</td>\n",
       "      <td>...</td>\n",
       "      <td>...</td>\n",
       "      <td>...</td>\n",
       "      <td>...</td>\n",
       "      <td>...</td>\n",
       "      <td>...</td>\n",
       "      <td>...</td>\n",
       "      <td>...</td>\n",
       "      <td>...</td>\n",
       "      <td>...</td>\n",
       "      <td>...</td>\n",
       "      <td>...</td>\n",
       "      <td>...</td>\n",
       "      <td>...</td>\n",
       "      <td>...</td>\n",
       "    </tr>\n",
       "    <tr>\n",
       "      <th>17427</th>\n",
       "      <td>ZWE</td>\n",
       "      <td>Zimbabwe</td>\n",
       "      <td>2015</td>\n",
       "      <td>-25.013</td>\n",
       "      <td>-10.847</td>\n",
       "      <td>NaN</td>\n",
       "      <td>NaN</td>\n",
       "      <td>NaN</td>\n",
       "      <td>NaN</td>\n",
       "      <td>-0.789</td>\n",
       "      <td>...</td>\n",
       "      <td>NaN</td>\n",
       "      <td>2.503057e+10</td>\n",
       "      <td>0.0</td>\n",
       "      <td>NaN</td>\n",
       "      <td>NaN</td>\n",
       "      <td>NaN</td>\n",
       "      <td>NaN</td>\n",
       "      <td>0.0</td>\n",
       "      <td>NaN</td>\n",
       "      <td>Africa</td>\n",
       "    </tr>\n",
       "    <tr>\n",
       "      <th>17428</th>\n",
       "      <td>ZWE</td>\n",
       "      <td>Zimbabwe</td>\n",
       "      <td>2016</td>\n",
       "      <td>-37.694</td>\n",
       "      <td>-12.257</td>\n",
       "      <td>NaN</td>\n",
       "      <td>NaN</td>\n",
       "      <td>NaN</td>\n",
       "      <td>NaN</td>\n",
       "      <td>-14.633</td>\n",
       "      <td>...</td>\n",
       "      <td>NaN</td>\n",
       "      <td>2.515176e+10</td>\n",
       "      <td>0.0</td>\n",
       "      <td>NaN</td>\n",
       "      <td>NaN</td>\n",
       "      <td>NaN</td>\n",
       "      <td>NaN</td>\n",
       "      <td>0.0</td>\n",
       "      <td>NaN</td>\n",
       "      <td>Africa</td>\n",
       "    </tr>\n",
       "    <tr>\n",
       "      <th>17429</th>\n",
       "      <td>ZWE</td>\n",
       "      <td>Zimbabwe</td>\n",
       "      <td>2017</td>\n",
       "      <td>8.375</td>\n",
       "      <td>1.697</td>\n",
       "      <td>NaN</td>\n",
       "      <td>NaN</td>\n",
       "      <td>NaN</td>\n",
       "      <td>NaN</td>\n",
       "      <td>NaN</td>\n",
       "      <td>...</td>\n",
       "      <td>NaN</td>\n",
       "      <td>NaN</td>\n",
       "      <td>0.0</td>\n",
       "      <td>NaN</td>\n",
       "      <td>NaN</td>\n",
       "      <td>NaN</td>\n",
       "      <td>NaN</td>\n",
       "      <td>0.0</td>\n",
       "      <td>NaN</td>\n",
       "      <td>Africa</td>\n",
       "    </tr>\n",
       "    <tr>\n",
       "      <th>17430</th>\n",
       "      <td>ZWE</td>\n",
       "      <td>Zimbabwe</td>\n",
       "      <td>2018</td>\n",
       "      <td>22.555</td>\n",
       "      <td>4.952</td>\n",
       "      <td>NaN</td>\n",
       "      <td>NaN</td>\n",
       "      <td>NaN</td>\n",
       "      <td>NaN</td>\n",
       "      <td>NaN</td>\n",
       "      <td>...</td>\n",
       "      <td>NaN</td>\n",
       "      <td>NaN</td>\n",
       "      <td>0.0</td>\n",
       "      <td>NaN</td>\n",
       "      <td>NaN</td>\n",
       "      <td>NaN</td>\n",
       "      <td>NaN</td>\n",
       "      <td>0.0</td>\n",
       "      <td>NaN</td>\n",
       "      <td>Africa</td>\n",
       "    </tr>\n",
       "    <tr>\n",
       "      <th>17431</th>\n",
       "      <td>ZWE</td>\n",
       "      <td>Zimbabwe</td>\n",
       "      <td>2019</td>\n",
       "      <td>-35.015</td>\n",
       "      <td>-9.422</td>\n",
       "      <td>NaN</td>\n",
       "      <td>NaN</td>\n",
       "      <td>NaN</td>\n",
       "      <td>NaN</td>\n",
       "      <td>NaN</td>\n",
       "      <td>...</td>\n",
       "      <td>NaN</td>\n",
       "      <td>NaN</td>\n",
       "      <td>0.0</td>\n",
       "      <td>NaN</td>\n",
       "      <td>NaN</td>\n",
       "      <td>NaN</td>\n",
       "      <td>NaN</td>\n",
       "      <td>0.0</td>\n",
       "      <td>NaN</td>\n",
       "      <td>Africa</td>\n",
       "    </tr>\n",
       "  </tbody>\n",
       "</table>\n",
       "<p>17432 rows × 123 columns</p>\n",
       "</div>"
      ],
      "text/plain": [
       "      iso_code      country  year  coal_prod_change_pct  coal_prod_change_twh  \\\n",
       "0          AFG  Afghanistan  1900                   NaN                   NaN   \n",
       "1          AFG  Afghanistan  1901                   NaN                 0.000   \n",
       "2          AFG  Afghanistan  1902                   NaN                 0.000   \n",
       "3          AFG  Afghanistan  1903                   NaN                 0.000   \n",
       "4          AFG  Afghanistan  1904                   NaN                 0.000   \n",
       "...        ...          ...   ...                   ...                   ...   \n",
       "17427      ZWE     Zimbabwe  2015               -25.013               -10.847   \n",
       "17428      ZWE     Zimbabwe  2016               -37.694               -12.257   \n",
       "17429      ZWE     Zimbabwe  2017                 8.375                 1.697   \n",
       "17430      ZWE     Zimbabwe  2018                22.555                 4.952   \n",
       "17431      ZWE     Zimbabwe  2019               -35.015                -9.422   \n",
       "\n",
       "       gas_prod_change_pct  gas_prod_change_twh  oil_prod_change_pct  \\\n",
       "0                      NaN                  NaN                  NaN   \n",
       "1                      NaN                  NaN                  NaN   \n",
       "2                      NaN                  NaN                  NaN   \n",
       "3                      NaN                  NaN                  NaN   \n",
       "4                      NaN                  NaN                  NaN   \n",
       "...                    ...                  ...                  ...   \n",
       "17427                  NaN                  NaN                  NaN   \n",
       "17428                  NaN                  NaN                  NaN   \n",
       "17429                  NaN                  NaN                  NaN   \n",
       "17430                  NaN                  NaN                  NaN   \n",
       "17431                  NaN                  NaN                  NaN   \n",
       "\n",
       "       oil_prod_change_twh  energy_cons_change_pct  ...  \\\n",
       "0                      NaN                     NaN  ...   \n",
       "1                      NaN                     NaN  ...   \n",
       "2                      NaN                     NaN  ...   \n",
       "3                      NaN                     NaN  ...   \n",
       "4                      NaN                     NaN  ...   \n",
       "...                    ...                     ...  ...   \n",
       "17427                  NaN                  -0.789  ...   \n",
       "17428                  NaN                 -14.633  ...   \n",
       "17429                  NaN                     NaN  ...   \n",
       "17430                  NaN                     NaN  ...   \n",
       "17431                  NaN                     NaN  ...   \n",
       "\n",
       "       solar_energy_per_capita           gdp  wind_share_elec  \\\n",
       "0                          NaN           NaN              NaN   \n",
       "1                          NaN           NaN              NaN   \n",
       "2                          NaN           NaN              NaN   \n",
       "3                          NaN           NaN              NaN   \n",
       "4                          NaN           NaN              NaN   \n",
       "...                        ...           ...              ...   \n",
       "17427                      NaN  2.503057e+10              0.0   \n",
       "17428                      NaN  2.515176e+10              0.0   \n",
       "17429                      NaN           NaN              0.0   \n",
       "17430                      NaN           NaN              0.0   \n",
       "17431                      NaN           NaN              0.0   \n",
       "\n",
       "       wind_cons_change_pct  wind_share_energy  wind_cons_change_twh  \\\n",
       "0                       NaN                NaN                   NaN   \n",
       "1                       NaN                NaN                   NaN   \n",
       "2                       NaN                NaN                   NaN   \n",
       "3                       NaN                NaN                   NaN   \n",
       "4                       NaN                NaN                   NaN   \n",
       "...                     ...                ...                   ...   \n",
       "17427                   NaN                NaN                   NaN   \n",
       "17428                   NaN                NaN                   NaN   \n",
       "17429                   NaN                NaN                   NaN   \n",
       "17430                   NaN                NaN                   NaN   \n",
       "17431                   NaN                NaN                   NaN   \n",
       "\n",
       "       wind_consumption  wind_elec_per_capita  wind_energy_per_capita  region  \n",
       "0                   NaN                   NaN                     NaN    Asia  \n",
       "1                   NaN                   NaN                     NaN    Asia  \n",
       "2                   NaN                   NaN                     NaN    Asia  \n",
       "3                   NaN                   NaN                     NaN    Asia  \n",
       "4                   NaN                   NaN                     NaN    Asia  \n",
       "...                 ...                   ...                     ...     ...  \n",
       "17427               NaN                   0.0                     NaN  Africa  \n",
       "17428               NaN                   0.0                     NaN  Africa  \n",
       "17429               NaN                   0.0                     NaN  Africa  \n",
       "17430               NaN                   0.0                     NaN  Africa  \n",
       "17431               NaN                   0.0                     NaN  Africa  \n",
       "\n",
       "[17432 rows x 123 columns]"
      ]
     },
     "execution_count": 165,
     "metadata": {},
     "output_type": "execute_result"
    }
   ],
   "source": [
    "data"
   ]
  },
  {
   "cell_type": "code",
   "execution_count": 11,
   "id": "1126a20c",
   "metadata": {},
   "outputs": [],
   "source": [
    "##Apagar estas linhas porque nao identificam um continente por completo\n",
    "## Pode-se apagar todas as que têm o ISO a null"
   ]
  },
  {
   "cell_type": "code",
   "execution_count": 166,
   "id": "65c9face",
   "metadata": {},
   "outputs": [],
   "source": [
    "data = data[data['iso_code'].notna()]"
   ]
  },
  {
   "cell_type": "code",
   "execution_count": 169,
   "id": "eec1d977",
   "metadata": {},
   "outputs": [
    {
     "name": "stdout",
     "output_type": "stream",
     "text": [
      "0         South Central Asia, Southern Asia\n",
      "1         South Central Asia, Southern Asia\n",
      "2         South Central Asia, Southern Asia\n",
      "3         South Central Asia, Southern Asia\n",
      "4         South Central Asia, Southern Asia\n",
      "                        ...                \n",
      "17427    Eastern Africa, Sub-Saharan Africa\n",
      "17428    Eastern Africa, Sub-Saharan Africa\n",
      "17429    Eastern Africa, Sub-Saharan Africa\n",
      "17430    Eastern Africa, Sub-Saharan Africa\n",
      "17431    Eastern Africa, Sub-Saharan Africa\n",
      "Name: iso_code, Length: 15630, dtype: object\n"
     ]
    }
   ],
   "source": [
    "sub_regions = data.iso_code.replace(continents.set_index('iso-3')['subregion'])\n",
    "print(sub_regions)"
   ]
  },
  {
   "cell_type": "code",
   "execution_count": 170,
   "id": "08f9630c",
   "metadata": {},
   "outputs": [
    {
     "name": "stderr",
     "output_type": "stream",
     "text": [
      "C:\\Users\\henri\\AppData\\Local\\Temp\\ipykernel_19852\\1214029690.py:1: SettingWithCopyWarning:\n",
      "\n",
      "\n",
      "A value is trying to be set on a copy of a slice from a DataFrame.\n",
      "Try using .loc[row_indexer,col_indexer] = value instead\n",
      "\n",
      "See the caveats in the documentation: https://pandas.pydata.org/pandas-docs/stable/user_guide/indexing.html#returning-a-view-versus-a-copy\n",
      "\n"
     ]
    },
    {
     "data": {
      "text/plain": [
       "array(['South Central Asia, Southern Asia', 'Southern Europe',\n",
       "       'Northern Africa', 'Polynesia',\n",
       "       'Middle Africa, Sub-Saharan Africa', 'Caribbean',\n",
       "       'South America, Latin America', 'Western Asia',\n",
       "       'Australia and New Zealand', 'Western Europe',\n",
       "       'Western Asia, The Middle East',\n",
       "       'Southern Asia, South Central Asia', 'Eastern Europe',\n",
       "       'Central America, Latin America',\n",
       "       'Western Africa, Sub-Saharan Africa', 'Northern America',\n",
       "       'Southern Africa, Sub-Saharan Africa', 'South-Eastern Asia',\n",
       "       'Eastern Africa, Sub-Saharan Africa', 'Eastern Asia',\n",
       "       'Eastern Europe, The Middle East', 'Northern Europe',\n",
       "       'Northern Africa, The Middle East', 'Melanesia',\n",
       "       'Caribbean, Latin America', 'Micronesia',\n",
       "       'Southern Asia, The Middle East', 'Central Asia', 'OWID_KOS',\n",
       "       'Central Asia, South Central Asia', 'ANT', 'SHN', 'OWID_WRL'],\n",
       "      dtype=object)"
      ]
     },
     "execution_count": 170,
     "metadata": {},
     "output_type": "execute_result"
    }
   ],
   "source": [
    "data['sub_region']=sub_regions\n",
    "data['sub_region'].unique()"
   ]
  },
  {
   "cell_type": "code",
   "execution_count": 15,
   "id": "56ee2aa9",
   "metadata": {},
   "outputs": [
    {
     "data": {
      "text/html": [
       "<div>\n",
       "<style scoped>\n",
       "    .dataframe tbody tr th:only-of-type {\n",
       "        vertical-align: middle;\n",
       "    }\n",
       "\n",
       "    .dataframe tbody tr th {\n",
       "        vertical-align: top;\n",
       "    }\n",
       "\n",
       "    .dataframe thead th {\n",
       "        text-align: right;\n",
       "    }\n",
       "</style>\n",
       "<table border=\"1\" class=\"dataframe\">\n",
       "  <thead>\n",
       "    <tr style=\"text-align: right;\">\n",
       "      <th></th>\n",
       "      <th>iso_code</th>\n",
       "      <th>country</th>\n",
       "      <th>year</th>\n",
       "      <th>coal_prod_change_pct</th>\n",
       "      <th>coal_prod_change_twh</th>\n",
       "      <th>gas_prod_change_pct</th>\n",
       "      <th>gas_prod_change_twh</th>\n",
       "      <th>oil_prod_change_pct</th>\n",
       "      <th>oil_prod_change_twh</th>\n",
       "      <th>energy_cons_change_pct</th>\n",
       "      <th>...</th>\n",
       "      <th>gdp</th>\n",
       "      <th>wind_share_elec</th>\n",
       "      <th>wind_cons_change_pct</th>\n",
       "      <th>wind_share_energy</th>\n",
       "      <th>wind_cons_change_twh</th>\n",
       "      <th>wind_consumption</th>\n",
       "      <th>wind_elec_per_capita</th>\n",
       "      <th>wind_energy_per_capita</th>\n",
       "      <th>region</th>\n",
       "      <th>sub_region</th>\n",
       "    </tr>\n",
       "  </thead>\n",
       "  <tbody>\n",
       "    <tr>\n",
       "      <th>12547</th>\n",
       "      <td>PER</td>\n",
       "      <td>Peru</td>\n",
       "      <td>1985</td>\n",
       "      <td>0.0</td>\n",
       "      <td>NaN</td>\n",
       "      <td>-22.034</td>\n",
       "      <td>-1.502</td>\n",
       "      <td>2.090</td>\n",
       "      <td>2.347</td>\n",
       "      <td>-0.845</td>\n",
       "      <td>...</td>\n",
       "      <td>6.929451e+10</td>\n",
       "      <td>0.0</td>\n",
       "      <td>NaN</td>\n",
       "      <td>0.0</td>\n",
       "      <td>0.0</td>\n",
       "      <td>0.0</td>\n",
       "      <td>0.0</td>\n",
       "      <td>0.0</td>\n",
       "      <td>Americas</td>\n",
       "      <td>Latin America and the Caribbean</td>\n",
       "    </tr>\n",
       "    <tr>\n",
       "      <th>2363</th>\n",
       "      <td>BRN</td>\n",
       "      <td>Brunei</td>\n",
       "      <td>1988</td>\n",
       "      <td>NaN</td>\n",
       "      <td>NaN</td>\n",
       "      <td>3.896</td>\n",
       "      <td>3.266</td>\n",
       "      <td>-3.153</td>\n",
       "      <td>-2.769</td>\n",
       "      <td>-13.374</td>\n",
       "      <td>...</td>\n",
       "      <td>NaN</td>\n",
       "      <td>NaN</td>\n",
       "      <td>NaN</td>\n",
       "      <td>NaN</td>\n",
       "      <td>NaN</td>\n",
       "      <td>NaN</td>\n",
       "      <td>NaN</td>\n",
       "      <td>NaN</td>\n",
       "      <td>Asia</td>\n",
       "      <td>South-eastern Asia</td>\n",
       "    </tr>\n",
       "    <tr>\n",
       "      <th>11434</th>\n",
       "      <td>MNP</td>\n",
       "      <td>Northern Mariana Islands</td>\n",
       "      <td>1996</td>\n",
       "      <td>NaN</td>\n",
       "      <td>0.0</td>\n",
       "      <td>NaN</td>\n",
       "      <td>NaN</td>\n",
       "      <td>NaN</td>\n",
       "      <td>NaN</td>\n",
       "      <td>NaN</td>\n",
       "      <td>...</td>\n",
       "      <td>NaN</td>\n",
       "      <td>NaN</td>\n",
       "      <td>NaN</td>\n",
       "      <td>NaN</td>\n",
       "      <td>NaN</td>\n",
       "      <td>NaN</td>\n",
       "      <td>NaN</td>\n",
       "      <td>NaN</td>\n",
       "      <td>Oceania</td>\n",
       "      <td>Micronesia</td>\n",
       "    </tr>\n",
       "    <tr>\n",
       "      <th>16904</th>\n",
       "      <td>OWID_WRL</td>\n",
       "      <td>World</td>\n",
       "      <td>1900</td>\n",
       "      <td>NaN</td>\n",
       "      <td>NaN</td>\n",
       "      <td>NaN</td>\n",
       "      <td>NaN</td>\n",
       "      <td>NaN</td>\n",
       "      <td>NaN</td>\n",
       "      <td>NaN</td>\n",
       "      <td>...</td>\n",
       "      <td>NaN</td>\n",
       "      <td>NaN</td>\n",
       "      <td>NaN</td>\n",
       "      <td>NaN</td>\n",
       "      <td>NaN</td>\n",
       "      <td>NaN</td>\n",
       "      <td>NaN</td>\n",
       "      <td>NaN</td>\n",
       "      <td>OWID_WRL</td>\n",
       "      <td>OWID_WRL</td>\n",
       "    </tr>\n",
       "    <tr>\n",
       "      <th>6296</th>\n",
       "      <td>GRC</td>\n",
       "      <td>Greece</td>\n",
       "      <td>1901</td>\n",
       "      <td>0.0</td>\n",
       "      <td>0.0</td>\n",
       "      <td>NaN</td>\n",
       "      <td>0.000</td>\n",
       "      <td>NaN</td>\n",
       "      <td>0.000</td>\n",
       "      <td>NaN</td>\n",
       "      <td>...</td>\n",
       "      <td>8.135116e+09</td>\n",
       "      <td>NaN</td>\n",
       "      <td>NaN</td>\n",
       "      <td>NaN</td>\n",
       "      <td>NaN</td>\n",
       "      <td>NaN</td>\n",
       "      <td>NaN</td>\n",
       "      <td>NaN</td>\n",
       "      <td>Europe</td>\n",
       "      <td>Southern Europe</td>\n",
       "    </tr>\n",
       "  </tbody>\n",
       "</table>\n",
       "<p>5 rows × 124 columns</p>\n",
       "</div>"
      ],
      "text/plain": [
       "       iso_code                   country  year  coal_prod_change_pct  \\\n",
       "12547       PER                      Peru  1985                   0.0   \n",
       "2363        BRN                    Brunei  1988                   NaN   \n",
       "11434       MNP  Northern Mariana Islands  1996                   NaN   \n",
       "16904  OWID_WRL                     World  1900                   NaN   \n",
       "6296        GRC                    Greece  1901                   0.0   \n",
       "\n",
       "       coal_prod_change_twh  gas_prod_change_pct  gas_prod_change_twh  \\\n",
       "12547                   NaN              -22.034               -1.502   \n",
       "2363                    NaN                3.896                3.266   \n",
       "11434                   0.0                  NaN                  NaN   \n",
       "16904                   NaN                  NaN                  NaN   \n",
       "6296                    0.0                  NaN                0.000   \n",
       "\n",
       "       oil_prod_change_pct  oil_prod_change_twh  energy_cons_change_pct  ...  \\\n",
       "12547                2.090                2.347                  -0.845  ...   \n",
       "2363                -3.153               -2.769                 -13.374  ...   \n",
       "11434                  NaN                  NaN                     NaN  ...   \n",
       "16904                  NaN                  NaN                     NaN  ...   \n",
       "6296                   NaN                0.000                     NaN  ...   \n",
       "\n",
       "                gdp  wind_share_elec  wind_cons_change_pct  wind_share_energy  \\\n",
       "12547  6.929451e+10              0.0                   NaN                0.0   \n",
       "2363            NaN              NaN                   NaN                NaN   \n",
       "11434           NaN              NaN                   NaN                NaN   \n",
       "16904           NaN              NaN                   NaN                NaN   \n",
       "6296   8.135116e+09              NaN                   NaN                NaN   \n",
       "\n",
       "       wind_cons_change_twh  wind_consumption  wind_elec_per_capita  \\\n",
       "12547                   0.0               0.0                   0.0   \n",
       "2363                    NaN               NaN                   NaN   \n",
       "11434                   NaN               NaN                   NaN   \n",
       "16904                   NaN               NaN                   NaN   \n",
       "6296                    NaN               NaN                   NaN   \n",
       "\n",
       "       wind_energy_per_capita    region                       sub_region  \n",
       "12547                     0.0  Americas  Latin America and the Caribbean  \n",
       "2363                      NaN      Asia               South-eastern Asia  \n",
       "11434                     NaN   Oceania                       Micronesia  \n",
       "16904                     NaN  OWID_WRL                         OWID_WRL  \n",
       "6296                      NaN    Europe                  Southern Europe  \n",
       "\n",
       "[5 rows x 124 columns]"
      ]
     },
     "execution_count": 15,
     "metadata": {},
     "output_type": "execute_result"
    }
   ],
   "source": [
    "data.sample(5)"
   ]
  },
  {
   "cell_type": "code",
   "execution_count": 171,
   "id": "b6b82322",
   "metadata": {},
   "outputs": [
    {
     "data": {
      "text/plain": [
       "11505"
      ]
     },
     "execution_count": 171,
     "metadata": {},
     "output_type": "execute_result"
    }
   ],
   "source": [
    "data['renewables_consumption'].isna().sum()"
   ]
  },
  {
   "cell_type": "code",
   "execution_count": 17,
   "id": "602d5870",
   "metadata": {},
   "outputs": [],
   "source": [
    "portugal=data[data['iso_code']=='PRT']"
   ]
  },
  {
   "cell_type": "markdown",
   "id": "aa6c381c",
   "metadata": {},
   "source": [
    "oil_consumption, fossil_fuel, desde 1965\n"
   ]
  },
  {
   "cell_type": "code",
   "execution_count": 18,
   "id": "b77aaf9d",
   "metadata": {},
   "outputs": [
    {
     "data": {
      "text/html": [
       "<div>\n",
       "<style scoped>\n",
       "    .dataframe tbody tr th:only-of-type {\n",
       "        vertical-align: middle;\n",
       "    }\n",
       "\n",
       "    .dataframe tbody tr th {\n",
       "        vertical-align: top;\n",
       "    }\n",
       "\n",
       "    .dataframe thead th {\n",
       "        text-align: right;\n",
       "    }\n",
       "</style>\n",
       "<table border=\"1\" class=\"dataframe\">\n",
       "  <thead>\n",
       "    <tr style=\"text-align: right;\">\n",
       "      <th></th>\n",
       "      <th>iso_code</th>\n",
       "      <th>country</th>\n",
       "      <th>year</th>\n",
       "      <th>coal_prod_change_pct</th>\n",
       "      <th>coal_prod_change_twh</th>\n",
       "      <th>gas_prod_change_pct</th>\n",
       "      <th>gas_prod_change_twh</th>\n",
       "      <th>oil_prod_change_pct</th>\n",
       "      <th>oil_prod_change_twh</th>\n",
       "      <th>energy_cons_change_pct</th>\n",
       "      <th>...</th>\n",
       "      <th>gdp</th>\n",
       "      <th>wind_share_elec</th>\n",
       "      <th>wind_cons_change_pct</th>\n",
       "      <th>wind_share_energy</th>\n",
       "      <th>wind_cons_change_twh</th>\n",
       "      <th>wind_consumption</th>\n",
       "      <th>wind_elec_per_capita</th>\n",
       "      <th>wind_energy_per_capita</th>\n",
       "      <th>region</th>\n",
       "      <th>sub_region</th>\n",
       "    </tr>\n",
       "  </thead>\n",
       "  <tbody>\n",
       "    <tr>\n",
       "      <th>12890</th>\n",
       "      <td>PRT</td>\n",
       "      <td>Portugal</td>\n",
       "      <td>1965</td>\n",
       "      <td>0.0</td>\n",
       "      <td>NaN</td>\n",
       "      <td>NaN</td>\n",
       "      <td>NaN</td>\n",
       "      <td>NaN</td>\n",
       "      <td>NaN</td>\n",
       "      <td>NaN</td>\n",
       "      <td>...</td>\n",
       "      <td>4.832893e+10</td>\n",
       "      <td>NaN</td>\n",
       "      <td>NaN</td>\n",
       "      <td>0.0</td>\n",
       "      <td>NaN</td>\n",
       "      <td>0.0</td>\n",
       "      <td>NaN</td>\n",
       "      <td>0.0</td>\n",
       "      <td>Europe</td>\n",
       "      <td>Southern Europe</td>\n",
       "    </tr>\n",
       "    <tr>\n",
       "      <th>12891</th>\n",
       "      <td>PRT</td>\n",
       "      <td>Portugal</td>\n",
       "      <td>1966</td>\n",
       "      <td>0.0</td>\n",
       "      <td>NaN</td>\n",
       "      <td>NaN</td>\n",
       "      <td>NaN</td>\n",
       "      <td>NaN</td>\n",
       "      <td>NaN</td>\n",
       "      <td>9.172</td>\n",
       "      <td>...</td>\n",
       "      <td>5.013594e+10</td>\n",
       "      <td>NaN</td>\n",
       "      <td>NaN</td>\n",
       "      <td>0.0</td>\n",
       "      <td>0.0</td>\n",
       "      <td>0.0</td>\n",
       "      <td>NaN</td>\n",
       "      <td>0.0</td>\n",
       "      <td>Europe</td>\n",
       "      <td>Southern Europe</td>\n",
       "    </tr>\n",
       "    <tr>\n",
       "      <th>12892</th>\n",
       "      <td>PRT</td>\n",
       "      <td>Portugal</td>\n",
       "      <td>1967</td>\n",
       "      <td>0.0</td>\n",
       "      <td>NaN</td>\n",
       "      <td>NaN</td>\n",
       "      <td>NaN</td>\n",
       "      <td>NaN</td>\n",
       "      <td>NaN</td>\n",
       "      <td>6.994</td>\n",
       "      <td>...</td>\n",
       "      <td>5.441774e+10</td>\n",
       "      <td>NaN</td>\n",
       "      <td>NaN</td>\n",
       "      <td>0.0</td>\n",
       "      <td>0.0</td>\n",
       "      <td>0.0</td>\n",
       "      <td>NaN</td>\n",
       "      <td>0.0</td>\n",
       "      <td>Europe</td>\n",
       "      <td>Southern Europe</td>\n",
       "    </tr>\n",
       "    <tr>\n",
       "      <th>12893</th>\n",
       "      <td>PRT</td>\n",
       "      <td>Portugal</td>\n",
       "      <td>1968</td>\n",
       "      <td>0.0</td>\n",
       "      <td>NaN</td>\n",
       "      <td>NaN</td>\n",
       "      <td>NaN</td>\n",
       "      <td>NaN</td>\n",
       "      <td>NaN</td>\n",
       "      <td>1.922</td>\n",
       "      <td>...</td>\n",
       "      <td>5.977617e+10</td>\n",
       "      <td>NaN</td>\n",
       "      <td>NaN</td>\n",
       "      <td>0.0</td>\n",
       "      <td>0.0</td>\n",
       "      <td>0.0</td>\n",
       "      <td>NaN</td>\n",
       "      <td>0.0</td>\n",
       "      <td>Europe</td>\n",
       "      <td>Southern Europe</td>\n",
       "    </tr>\n",
       "    <tr>\n",
       "      <th>12894</th>\n",
       "      <td>PRT</td>\n",
       "      <td>Portugal</td>\n",
       "      <td>1969</td>\n",
       "      <td>0.0</td>\n",
       "      <td>NaN</td>\n",
       "      <td>NaN</td>\n",
       "      <td>NaN</td>\n",
       "      <td>NaN</td>\n",
       "      <td>NaN</td>\n",
       "      <td>8.112</td>\n",
       "      <td>...</td>\n",
       "      <td>6.115913e+10</td>\n",
       "      <td>NaN</td>\n",
       "      <td>NaN</td>\n",
       "      <td>0.0</td>\n",
       "      <td>0.0</td>\n",
       "      <td>0.0</td>\n",
       "      <td>NaN</td>\n",
       "      <td>0.0</td>\n",
       "      <td>Europe</td>\n",
       "      <td>Southern Europe</td>\n",
       "    </tr>\n",
       "  </tbody>\n",
       "</table>\n",
       "<p>5 rows × 124 columns</p>\n",
       "</div>"
      ],
      "text/plain": [
       "      iso_code   country  year  coal_prod_change_pct  coal_prod_change_twh  \\\n",
       "12890      PRT  Portugal  1965                   0.0                   NaN   \n",
       "12891      PRT  Portugal  1966                   0.0                   NaN   \n",
       "12892      PRT  Portugal  1967                   0.0                   NaN   \n",
       "12893      PRT  Portugal  1968                   0.0                   NaN   \n",
       "12894      PRT  Portugal  1969                   0.0                   NaN   \n",
       "\n",
       "       gas_prod_change_pct  gas_prod_change_twh  oil_prod_change_pct  \\\n",
       "12890                  NaN                  NaN                  NaN   \n",
       "12891                  NaN                  NaN                  NaN   \n",
       "12892                  NaN                  NaN                  NaN   \n",
       "12893                  NaN                  NaN                  NaN   \n",
       "12894                  NaN                  NaN                  NaN   \n",
       "\n",
       "       oil_prod_change_twh  energy_cons_change_pct  ...           gdp  \\\n",
       "12890                  NaN                     NaN  ...  4.832893e+10   \n",
       "12891                  NaN                   9.172  ...  5.013594e+10   \n",
       "12892                  NaN                   6.994  ...  5.441774e+10   \n",
       "12893                  NaN                   1.922  ...  5.977617e+10   \n",
       "12894                  NaN                   8.112  ...  6.115913e+10   \n",
       "\n",
       "       wind_share_elec  wind_cons_change_pct  wind_share_energy  \\\n",
       "12890              NaN                   NaN                0.0   \n",
       "12891              NaN                   NaN                0.0   \n",
       "12892              NaN                   NaN                0.0   \n",
       "12893              NaN                   NaN                0.0   \n",
       "12894              NaN                   NaN                0.0   \n",
       "\n",
       "       wind_cons_change_twh  wind_consumption  wind_elec_per_capita  \\\n",
       "12890                   NaN               0.0                   NaN   \n",
       "12891                   0.0               0.0                   NaN   \n",
       "12892                   0.0               0.0                   NaN   \n",
       "12893                   0.0               0.0                   NaN   \n",
       "12894                   0.0               0.0                   NaN   \n",
       "\n",
       "       wind_energy_per_capita  region       sub_region  \n",
       "12890                     0.0  Europe  Southern Europe  \n",
       "12891                     0.0  Europe  Southern Europe  \n",
       "12892                     0.0  Europe  Southern Europe  \n",
       "12893                     0.0  Europe  Southern Europe  \n",
       "12894                     0.0  Europe  Southern Europe  \n",
       "\n",
       "[5 rows x 124 columns]"
      ]
     },
     "execution_count": 18,
     "metadata": {},
     "output_type": "execute_result"
    }
   ],
   "source": [
    "portugal[portugal['renewables_consumption'].notna()].head(5)"
   ]
  },
  {
   "cell_type": "code",
   "execution_count": 172,
   "id": "d81c7907",
   "metadata": {},
   "outputs": [],
   "source": [
    "europe=data[data['region']=='Europe']"
   ]
  },
  {
   "cell_type": "code",
   "execution_count": 173,
   "id": "2d5d4286",
   "metadata": {},
   "outputs": [
    {
     "data": {
      "text/html": [
       "<div>\n",
       "<style scoped>\n",
       "    .dataframe tbody tr th:only-of-type {\n",
       "        vertical-align: middle;\n",
       "    }\n",
       "\n",
       "    .dataframe tbody tr th {\n",
       "        vertical-align: top;\n",
       "    }\n",
       "\n",
       "    .dataframe thead th {\n",
       "        text-align: right;\n",
       "    }\n",
       "</style>\n",
       "<table border=\"1\" class=\"dataframe\">\n",
       "  <thead>\n",
       "    <tr style=\"text-align: right;\">\n",
       "      <th></th>\n",
       "      <th>iso_code</th>\n",
       "      <th>country</th>\n",
       "      <th>year</th>\n",
       "      <th>coal_prod_change_pct</th>\n",
       "      <th>coal_prod_change_twh</th>\n",
       "      <th>gas_prod_change_pct</th>\n",
       "      <th>gas_prod_change_twh</th>\n",
       "      <th>oil_prod_change_pct</th>\n",
       "      <th>oil_prod_change_twh</th>\n",
       "      <th>energy_cons_change_pct</th>\n",
       "      <th>...</th>\n",
       "      <th>gdp</th>\n",
       "      <th>wind_share_elec</th>\n",
       "      <th>wind_cons_change_pct</th>\n",
       "      <th>wind_share_energy</th>\n",
       "      <th>wind_cons_change_twh</th>\n",
       "      <th>wind_consumption</th>\n",
       "      <th>wind_elec_per_capita</th>\n",
       "      <th>wind_energy_per_capita</th>\n",
       "      <th>region</th>\n",
       "      <th>sub_region</th>\n",
       "    </tr>\n",
       "  </thead>\n",
       "  <tbody>\n",
       "    <tr>\n",
       "      <th>240</th>\n",
       "      <td>ALB</td>\n",
       "      <td>Albania</td>\n",
       "      <td>1900</td>\n",
       "      <td>NaN</td>\n",
       "      <td>NaN</td>\n",
       "      <td>NaN</td>\n",
       "      <td>NaN</td>\n",
       "      <td>NaN</td>\n",
       "      <td>NaN</td>\n",
       "      <td>NaN</td>\n",
       "      <td>...</td>\n",
       "      <td>8.088000e+08</td>\n",
       "      <td>NaN</td>\n",
       "      <td>NaN</td>\n",
       "      <td>NaN</td>\n",
       "      <td>NaN</td>\n",
       "      <td>NaN</td>\n",
       "      <td>NaN</td>\n",
       "      <td>NaN</td>\n",
       "      <td>Europe</td>\n",
       "      <td>Southern Europe</td>\n",
       "    </tr>\n",
       "    <tr>\n",
       "      <th>241</th>\n",
       "      <td>ALB</td>\n",
       "      <td>Albania</td>\n",
       "      <td>1901</td>\n",
       "      <td>NaN</td>\n",
       "      <td>0.000</td>\n",
       "      <td>NaN</td>\n",
       "      <td>0.000</td>\n",
       "      <td>NaN</td>\n",
       "      <td>0.000</td>\n",
       "      <td>NaN</td>\n",
       "      <td>...</td>\n",
       "      <td>NaN</td>\n",
       "      <td>NaN</td>\n",
       "      <td>NaN</td>\n",
       "      <td>NaN</td>\n",
       "      <td>NaN</td>\n",
       "      <td>NaN</td>\n",
       "      <td>NaN</td>\n",
       "      <td>NaN</td>\n",
       "      <td>Europe</td>\n",
       "      <td>Southern Europe</td>\n",
       "    </tr>\n",
       "    <tr>\n",
       "      <th>242</th>\n",
       "      <td>ALB</td>\n",
       "      <td>Albania</td>\n",
       "      <td>1902</td>\n",
       "      <td>NaN</td>\n",
       "      <td>0.000</td>\n",
       "      <td>NaN</td>\n",
       "      <td>0.000</td>\n",
       "      <td>NaN</td>\n",
       "      <td>0.000</td>\n",
       "      <td>NaN</td>\n",
       "      <td>...</td>\n",
       "      <td>NaN</td>\n",
       "      <td>NaN</td>\n",
       "      <td>NaN</td>\n",
       "      <td>NaN</td>\n",
       "      <td>NaN</td>\n",
       "      <td>NaN</td>\n",
       "      <td>NaN</td>\n",
       "      <td>NaN</td>\n",
       "      <td>Europe</td>\n",
       "      <td>Southern Europe</td>\n",
       "    </tr>\n",
       "    <tr>\n",
       "      <th>243</th>\n",
       "      <td>ALB</td>\n",
       "      <td>Albania</td>\n",
       "      <td>1903</td>\n",
       "      <td>NaN</td>\n",
       "      <td>0.000</td>\n",
       "      <td>NaN</td>\n",
       "      <td>0.000</td>\n",
       "      <td>NaN</td>\n",
       "      <td>0.000</td>\n",
       "      <td>NaN</td>\n",
       "      <td>...</td>\n",
       "      <td>NaN</td>\n",
       "      <td>NaN</td>\n",
       "      <td>NaN</td>\n",
       "      <td>NaN</td>\n",
       "      <td>NaN</td>\n",
       "      <td>NaN</td>\n",
       "      <td>NaN</td>\n",
       "      <td>NaN</td>\n",
       "      <td>Europe</td>\n",
       "      <td>Southern Europe</td>\n",
       "    </tr>\n",
       "    <tr>\n",
       "      <th>244</th>\n",
       "      <td>ALB</td>\n",
       "      <td>Albania</td>\n",
       "      <td>1904</td>\n",
       "      <td>NaN</td>\n",
       "      <td>0.000</td>\n",
       "      <td>NaN</td>\n",
       "      <td>0.000</td>\n",
       "      <td>NaN</td>\n",
       "      <td>0.000</td>\n",
       "      <td>NaN</td>\n",
       "      <td>...</td>\n",
       "      <td>NaN</td>\n",
       "      <td>NaN</td>\n",
       "      <td>NaN</td>\n",
       "      <td>NaN</td>\n",
       "      <td>NaN</td>\n",
       "      <td>NaN</td>\n",
       "      <td>NaN</td>\n",
       "      <td>NaN</td>\n",
       "      <td>Europe</td>\n",
       "      <td>Southern Europe</td>\n",
       "    </tr>\n",
       "    <tr>\n",
       "      <th>...</th>\n",
       "      <td>...</td>\n",
       "      <td>...</td>\n",
       "      <td>...</td>\n",
       "      <td>...</td>\n",
       "      <td>...</td>\n",
       "      <td>...</td>\n",
       "      <td>...</td>\n",
       "      <td>...</td>\n",
       "      <td>...</td>\n",
       "      <td>...</td>\n",
       "      <td>...</td>\n",
       "      <td>...</td>\n",
       "      <td>...</td>\n",
       "      <td>...</td>\n",
       "      <td>...</td>\n",
       "      <td>...</td>\n",
       "      <td>...</td>\n",
       "      <td>...</td>\n",
       "      <td>...</td>\n",
       "      <td>...</td>\n",
       "      <td>...</td>\n",
       "    </tr>\n",
       "    <tr>\n",
       "      <th>16244</th>\n",
       "      <td>GBR</td>\n",
       "      <td>United Kingdom</td>\n",
       "      <td>2016</td>\n",
       "      <td>-51.098</td>\n",
       "      <td>-31.996</td>\n",
       "      <td>2.649</td>\n",
       "      <td>10.770</td>\n",
       "      <td>4.763</td>\n",
       "      <td>25.043</td>\n",
       "      <td>-1.191</td>\n",
       "      <td>...</td>\n",
       "      <td>2.580000e+12</td>\n",
       "      <td>11.097</td>\n",
       "      <td>-8.292</td>\n",
       "      <td>4.197</td>\n",
       "      <td>-8.448</td>\n",
       "      <td>93.437</td>\n",
       "      <td>560.423</td>\n",
       "      <td>1409.350</td>\n",
       "      <td>Europe</td>\n",
       "      <td>Northern Europe</td>\n",
       "    </tr>\n",
       "    <tr>\n",
       "      <th>16245</th>\n",
       "      <td>GBR</td>\n",
       "      <td>United Kingdom</td>\n",
       "      <td>2017</td>\n",
       "      <td>-25.755</td>\n",
       "      <td>-7.887</td>\n",
       "      <td>0.351</td>\n",
       "      <td>1.465</td>\n",
       "      <td>-1.716</td>\n",
       "      <td>-9.454</td>\n",
       "      <td>-0.283</td>\n",
       "      <td>...</td>\n",
       "      <td>NaN</td>\n",
       "      <td>14.894</td>\n",
       "      <td>32.798</td>\n",
       "      <td>5.590</td>\n",
       "      <td>30.646</td>\n",
       "      <td>124.083</td>\n",
       "      <td>743.823</td>\n",
       "      <td>1859.558</td>\n",
       "      <td>Europe</td>\n",
       "      <td>Northern Europe</td>\n",
       "    </tr>\n",
       "    <tr>\n",
       "      <th>16246</th>\n",
       "      <td>GBR</td>\n",
       "      <td>United Kingdom</td>\n",
       "      <td>2018</td>\n",
       "      <td>-15.312</td>\n",
       "      <td>-3.481</td>\n",
       "      <td>-3.260</td>\n",
       "      <td>-13.656</td>\n",
       "      <td>9.093</td>\n",
       "      <td>49.232</td>\n",
       "      <td>-0.337</td>\n",
       "      <td>...</td>\n",
       "      <td>NaN</td>\n",
       "      <td>17.336</td>\n",
       "      <td>13.979</td>\n",
       "      <td>6.393</td>\n",
       "      <td>17.345</td>\n",
       "      <td>141.428</td>\n",
       "      <td>847.517</td>\n",
       "      <td>2106.403</td>\n",
       "      <td>Europe</td>\n",
       "      <td>Northern Europe</td>\n",
       "    </tr>\n",
       "    <tr>\n",
       "      <th>16247</th>\n",
       "      <td>GBR</td>\n",
       "      <td>United Kingdom</td>\n",
       "      <td>2019</td>\n",
       "      <td>-16.060</td>\n",
       "      <td>-3.092</td>\n",
       "      <td>-2.196</td>\n",
       "      <td>-8.897</td>\n",
       "      <td>1.811</td>\n",
       "      <td>10.695</td>\n",
       "      <td>-1.560</td>\n",
       "      <td>...</td>\n",
       "      <td>NaN</td>\n",
       "      <td>20.195</td>\n",
       "      <td>12.291</td>\n",
       "      <td>7.292</td>\n",
       "      <td>17.382</td>\n",
       "      <td>158.810</td>\n",
       "      <td>955.536</td>\n",
       "      <td>2351.701</td>\n",
       "      <td>Europe</td>\n",
       "      <td>Northern Europe</td>\n",
       "    </tr>\n",
       "    <tr>\n",
       "      <th>16248</th>\n",
       "      <td>GBR</td>\n",
       "      <td>United Kingdom</td>\n",
       "      <td>2020</td>\n",
       "      <td>NaN</td>\n",
       "      <td>NaN</td>\n",
       "      <td>NaN</td>\n",
       "      <td>NaN</td>\n",
       "      <td>NaN</td>\n",
       "      <td>NaN</td>\n",
       "      <td>NaN</td>\n",
       "      <td>...</td>\n",
       "      <td>NaN</td>\n",
       "      <td>24.151</td>\n",
       "      <td>NaN</td>\n",
       "      <td>NaN</td>\n",
       "      <td>NaN</td>\n",
       "      <td>NaN</td>\n",
       "      <td>1086.757</td>\n",
       "      <td>NaN</td>\n",
       "      <td>Europe</td>\n",
       "      <td>Northern Europe</td>\n",
       "    </tr>\n",
       "  </tbody>\n",
       "</table>\n",
       "<p>3401 rows × 124 columns</p>\n",
       "</div>"
      ],
      "text/plain": [
       "      iso_code         country  year  coal_prod_change_pct  \\\n",
       "240        ALB         Albania  1900                   NaN   \n",
       "241        ALB         Albania  1901                   NaN   \n",
       "242        ALB         Albania  1902                   NaN   \n",
       "243        ALB         Albania  1903                   NaN   \n",
       "244        ALB         Albania  1904                   NaN   \n",
       "...        ...             ...   ...                   ...   \n",
       "16244      GBR  United Kingdom  2016               -51.098   \n",
       "16245      GBR  United Kingdom  2017               -25.755   \n",
       "16246      GBR  United Kingdom  2018               -15.312   \n",
       "16247      GBR  United Kingdom  2019               -16.060   \n",
       "16248      GBR  United Kingdom  2020                   NaN   \n",
       "\n",
       "       coal_prod_change_twh  gas_prod_change_pct  gas_prod_change_twh  \\\n",
       "240                     NaN                  NaN                  NaN   \n",
       "241                   0.000                  NaN                0.000   \n",
       "242                   0.000                  NaN                0.000   \n",
       "243                   0.000                  NaN                0.000   \n",
       "244                   0.000                  NaN                0.000   \n",
       "...                     ...                  ...                  ...   \n",
       "16244               -31.996                2.649               10.770   \n",
       "16245                -7.887                0.351                1.465   \n",
       "16246                -3.481               -3.260              -13.656   \n",
       "16247                -3.092               -2.196               -8.897   \n",
       "16248                   NaN                  NaN                  NaN   \n",
       "\n",
       "       oil_prod_change_pct  oil_prod_change_twh  energy_cons_change_pct  ...  \\\n",
       "240                    NaN                  NaN                     NaN  ...   \n",
       "241                    NaN                0.000                     NaN  ...   \n",
       "242                    NaN                0.000                     NaN  ...   \n",
       "243                    NaN                0.000                     NaN  ...   \n",
       "244                    NaN                0.000                     NaN  ...   \n",
       "...                    ...                  ...                     ...  ...   \n",
       "16244                4.763               25.043                  -1.191  ...   \n",
       "16245               -1.716               -9.454                  -0.283  ...   \n",
       "16246                9.093               49.232                  -0.337  ...   \n",
       "16247                1.811               10.695                  -1.560  ...   \n",
       "16248                  NaN                  NaN                     NaN  ...   \n",
       "\n",
       "                gdp  wind_share_elec  wind_cons_change_pct  wind_share_energy  \\\n",
       "240    8.088000e+08              NaN                   NaN                NaN   \n",
       "241             NaN              NaN                   NaN                NaN   \n",
       "242             NaN              NaN                   NaN                NaN   \n",
       "243             NaN              NaN                   NaN                NaN   \n",
       "244             NaN              NaN                   NaN                NaN   \n",
       "...             ...              ...                   ...                ...   \n",
       "16244  2.580000e+12           11.097                -8.292              4.197   \n",
       "16245           NaN           14.894                32.798              5.590   \n",
       "16246           NaN           17.336                13.979              6.393   \n",
       "16247           NaN           20.195                12.291              7.292   \n",
       "16248           NaN           24.151                   NaN                NaN   \n",
       "\n",
       "       wind_cons_change_twh  wind_consumption  wind_elec_per_capita  \\\n",
       "240                     NaN               NaN                   NaN   \n",
       "241                     NaN               NaN                   NaN   \n",
       "242                     NaN               NaN                   NaN   \n",
       "243                     NaN               NaN                   NaN   \n",
       "244                     NaN               NaN                   NaN   \n",
       "...                     ...               ...                   ...   \n",
       "16244                -8.448            93.437               560.423   \n",
       "16245                30.646           124.083               743.823   \n",
       "16246                17.345           141.428               847.517   \n",
       "16247                17.382           158.810               955.536   \n",
       "16248                   NaN               NaN              1086.757   \n",
       "\n",
       "       wind_energy_per_capita  region       sub_region  \n",
       "240                       NaN  Europe  Southern Europe  \n",
       "241                       NaN  Europe  Southern Europe  \n",
       "242                       NaN  Europe  Southern Europe  \n",
       "243                       NaN  Europe  Southern Europe  \n",
       "244                       NaN  Europe  Southern Europe  \n",
       "...                       ...     ...              ...  \n",
       "16244                1409.350  Europe  Northern Europe  \n",
       "16245                1859.558  Europe  Northern Europe  \n",
       "16246                2106.403  Europe  Northern Europe  \n",
       "16247                2351.701  Europe  Northern Europe  \n",
       "16248                     NaN  Europe  Northern Europe  \n",
       "\n",
       "[3401 rows x 124 columns]"
      ]
     },
     "execution_count": 173,
     "metadata": {},
     "output_type": "execute_result"
    }
   ],
   "source": [
    "europe"
   ]
  },
  {
   "cell_type": "code",
   "execution_count": 20,
   "id": "5fccfb47",
   "metadata": {},
   "outputs": [
    {
     "data": {
      "text/plain": [
       "33"
      ]
     },
     "execution_count": 20,
     "metadata": {},
     "output_type": "execute_result"
    }
   ],
   "source": [
    "europe[europe['renewables_consumption'].notna()]['country'].unique().size"
   ]
  },
  {
   "cell_type": "code",
   "execution_count": 21,
   "id": "7041806d",
   "metadata": {},
   "outputs": [
    {
     "data": {
      "text/plain": [
       "41"
      ]
     },
     "execution_count": 21,
     "metadata": {},
     "output_type": "execute_result"
    }
   ],
   "source": [
    "europe['country'].unique().size"
   ]
  },
  {
   "cell_type": "code",
   "execution_count": 22,
   "id": "3221436e",
   "metadata": {},
   "outputs": [],
   "source": [
    "asia=data[data['region']=='Asia']"
   ]
  },
  {
   "cell_type": "code",
   "execution_count": 23,
   "id": "67b6ea07",
   "metadata": {},
   "outputs": [
    {
     "data": {
      "text/plain": [
       "array(['Azerbaijan', 'Bangladesh', 'China', 'Cyprus', 'Hong Kong',\n",
       "       'India', 'Indonesia', 'Iran', 'Iraq', 'Israel', 'Japan',\n",
       "       'Kazakhstan', 'Kuwait', 'Malaysia', 'Oman', 'Pakistan',\n",
       "       'Philippines', 'Qatar', 'Saudi Arabia', 'Singapore', 'South Korea',\n",
       "       'Sri Lanka', 'Taiwan', 'Thailand', 'Turkey', 'Turkmenistan',\n",
       "       'United Arab Emirates', 'Uzbekistan', 'Vietnam'], dtype=object)"
      ]
     },
     "execution_count": 23,
     "metadata": {},
     "output_type": "execute_result"
    }
   ],
   "source": [
    "asia[asia['fossil_fuel_consumption'].notna()]['country'].unique()"
   ]
  },
  {
   "cell_type": "code",
   "execution_count": 24,
   "id": "9ba6f781",
   "metadata": {},
   "outputs": [
    {
     "data": {
      "text/plain": [
       "array(['Afghanistan', 'Armenia', 'Azerbaijan', 'Bahrain', 'Bangladesh',\n",
       "       'Bhutan', 'Brunei', 'Cambodia', 'China', 'Cyprus', 'Georgia',\n",
       "       'Hong Kong', 'India', 'Indonesia', 'Iran', 'Iraq', 'Israel',\n",
       "       'Japan', 'Jordan', 'Kazakhstan', 'Kuwait', 'Kyrgyzstan', 'Laos',\n",
       "       'Lebanon', 'Macau', 'Malaysia', 'Maldives', 'Mongolia', 'Myanmar',\n",
       "       'Nepal', 'North Korea', 'Oman', 'Pakistan', 'Palestine',\n",
       "       'Philippines', 'Qatar', 'Saudi Arabia', 'Singapore', 'South Korea',\n",
       "       'Sri Lanka', 'Syria', 'Taiwan', 'Tajikistan', 'Thailand', 'Timor',\n",
       "       'Turkey', 'Turkmenistan', 'United Arab Emirates', 'Uzbekistan',\n",
       "       'Vietnam', 'Yemen'], dtype=object)"
      ]
     },
     "execution_count": 24,
     "metadata": {},
     "output_type": "execute_result"
    }
   ],
   "source": [
    "asia['country'].unique()"
   ]
  },
  {
   "cell_type": "code",
   "execution_count": 25,
   "id": "3d96efa9",
   "metadata": {},
   "outputs": [
    {
     "data": {
      "text/plain": [
       "216"
      ]
     },
     "execution_count": 25,
     "metadata": {},
     "output_type": "execute_result"
    }
   ],
   "source": [
    "data['country'].unique().size"
   ]
  },
  {
   "cell_type": "code",
   "execution_count": 70,
   "id": "4249435b",
   "metadata": {},
   "outputs": [],
   "source": [
    "oil_consumption_df=data[data['oil_consumption'].notna()][['oil_consumption', 'year', 'iso_code', 'country', 'region', 'sub_region' ]]"
   ]
  },
  {
   "cell_type": "code",
   "execution_count": 71,
   "id": "ee7c0fb6",
   "metadata": {},
   "outputs": [
    {
     "data": {
      "text/plain": [
       "80"
      ]
     },
     "execution_count": 71,
     "metadata": {},
     "output_type": "execute_result"
    }
   ],
   "source": [
    "oil_consumption_df['country'].unique().size"
   ]
  },
  {
   "cell_type": "code",
   "execution_count": 72,
   "id": "f32cf91d",
   "metadata": {},
   "outputs": [
    {
     "data": {
      "text/html": [
       "<div>\n",
       "<style scoped>\n",
       "    .dataframe tbody tr th:only-of-type {\n",
       "        vertical-align: middle;\n",
       "    }\n",
       "\n",
       "    .dataframe tbody tr th {\n",
       "        vertical-align: top;\n",
       "    }\n",
       "\n",
       "    .dataframe thead th {\n",
       "        text-align: right;\n",
       "    }\n",
       "</style>\n",
       "<table border=\"1\" class=\"dataframe\">\n",
       "  <thead>\n",
       "    <tr style=\"text-align: right;\">\n",
       "      <th></th>\n",
       "      <th>oil_consumption</th>\n",
       "      <th>year</th>\n",
       "      <th>iso_code</th>\n",
       "      <th>country</th>\n",
       "      <th>region</th>\n",
       "      <th>sub_region</th>\n",
       "    </tr>\n",
       "  </thead>\n",
       "  <tbody>\n",
       "    <tr>\n",
       "      <th>16969</th>\n",
       "      <td>18108.643</td>\n",
       "      <td>1965</td>\n",
       "      <td>OWID_WRL</td>\n",
       "      <td>World</td>\n",
       "      <td>OWID_WRL</td>\n",
       "      <td>OWID_WRL</td>\n",
       "    </tr>\n",
       "    <tr>\n",
       "      <th>16970</th>\n",
       "      <td>19496.471</td>\n",
       "      <td>1966</td>\n",
       "      <td>OWID_WRL</td>\n",
       "      <td>World</td>\n",
       "      <td>OWID_WRL</td>\n",
       "      <td>OWID_WRL</td>\n",
       "    </tr>\n",
       "    <tr>\n",
       "      <th>16971</th>\n",
       "      <td>20890.580</td>\n",
       "      <td>1967</td>\n",
       "      <td>OWID_WRL</td>\n",
       "      <td>World</td>\n",
       "      <td>OWID_WRL</td>\n",
       "      <td>OWID_WRL</td>\n",
       "    </tr>\n",
       "    <tr>\n",
       "      <th>16972</th>\n",
       "      <td>22675.466</td>\n",
       "      <td>1968</td>\n",
       "      <td>OWID_WRL</td>\n",
       "      <td>World</td>\n",
       "      <td>OWID_WRL</td>\n",
       "      <td>OWID_WRL</td>\n",
       "    </tr>\n",
       "    <tr>\n",
       "      <th>16973</th>\n",
       "      <td>24576.884</td>\n",
       "      <td>1969</td>\n",
       "      <td>OWID_WRL</td>\n",
       "      <td>World</td>\n",
       "      <td>OWID_WRL</td>\n",
       "      <td>OWID_WRL</td>\n",
       "    </tr>\n",
       "  </tbody>\n",
       "</table>\n",
       "</div>"
      ],
      "text/plain": [
       "       oil_consumption  year  iso_code country    region sub_region\n",
       "16969        18108.643  1965  OWID_WRL   World  OWID_WRL   OWID_WRL\n",
       "16970        19496.471  1966  OWID_WRL   World  OWID_WRL   OWID_WRL\n",
       "16971        20890.580  1967  OWID_WRL   World  OWID_WRL   OWID_WRL\n",
       "16972        22675.466  1968  OWID_WRL   World  OWID_WRL   OWID_WRL\n",
       "16973        24576.884  1969  OWID_WRL   World  OWID_WRL   OWID_WRL"
      ]
     },
     "execution_count": 72,
     "metadata": {},
     "output_type": "execute_result"
    }
   ],
   "source": [
    "oil_consumption_df[oil_consumption_df['country']=='World'].head(5)"
   ]
  },
  {
   "cell_type": "code",
   "execution_count": 119,
   "id": "00e33c4b",
   "metadata": {},
   "outputs": [
    {
     "data": {
      "application/vnd.plotly.v1+json": {
       "config": {
        "plotlyServerURL": "https://plot.ly"
       },
       "data": [
        {
         "cliponaxis": false,
         "hovertemplate": "<b>Year:</b> %{x}<br><b>Oil Consumption:</b> %{y:.1f}",
         "marker": {
          "color": "orange"
         },
         "name": "",
         "text": [
          18108.643,
          19496.471,
          20890.58,
          22675.466,
          24576.884,
          26708.063,
          28204.844,
          30377.966,
          32746.14,
          32272.443,
          31948.433,
          34029.701,
          35214.625,
          36425.795,
          37024.093,
          35577.233,
          34295.875,
          33197.934,
          32968.737,
          33738.791,
          33789.184,
          34802.722,
          35499.484,
          36703.079,
          37299.85,
          37690.886,
          37691.227,
          38344.368,
          38099.268,
          38934.965,
          39444.693,
          40380.497,
          41413.258,
          41624.432,
          42371.384,
          42897.191,
          43278.157,
          43639.207,
          44609.516,
          46255.707,
          46824.25,
          47366.831,
          47957.516,
          47565.65,
          46653.505,
          48087.136,
          48549.975,
          49156.72,
          49688.511,
          50013.654,
          50891.976,
          51920.156,
          52567.52,
          53181.125,
          53619.925
         ],
         "textfont": {
          "size": 12
         },
         "textposition": "outside",
         "texttemplate": "%{y:.2s}",
         "type": "bar",
         "x": [
          1965,
          1966,
          1967,
          1968,
          1969,
          1970,
          1971,
          1972,
          1973,
          1974,
          1975,
          1976,
          1977,
          1978,
          1979,
          1980,
          1981,
          1982,
          1983,
          1984,
          1985,
          1986,
          1987,
          1988,
          1989,
          1990,
          1991,
          1992,
          1993,
          1994,
          1995,
          1996,
          1997,
          1998,
          1999,
          2000,
          2001,
          2002,
          2003,
          2004,
          2005,
          2006,
          2007,
          2008,
          2009,
          2010,
          2011,
          2012,
          2013,
          2014,
          2015,
          2016,
          2017,
          2018,
          2019
         ],
         "y": [
          18108.643,
          19496.471,
          20890.58,
          22675.466,
          24576.884,
          26708.063,
          28204.844,
          30377.966,
          32746.14,
          32272.443,
          31948.433,
          34029.701,
          35214.625,
          36425.795,
          37024.093,
          35577.233,
          34295.875,
          33197.934,
          32968.737,
          33738.791,
          33789.184,
          34802.722,
          35499.484,
          36703.079,
          37299.85,
          37690.886,
          37691.227,
          38344.368,
          38099.268,
          38934.965,
          39444.693,
          40380.497,
          41413.258,
          41624.432,
          42371.384,
          42897.191,
          43278.157,
          43639.207,
          44609.516,
          46255.707,
          46824.25,
          47366.831,
          47957.516,
          47565.65,
          46653.505,
          48087.136,
          48549.975,
          49156.72,
          49688.511,
          50013.654,
          50891.976,
          51920.156,
          52567.52,
          53181.125,
          53619.925
         ]
        }
       ],
       "layout": {
        "plot_bgcolor": "white",
        "template": {
         "data": {
          "bar": [
           {
            "error_x": {
             "color": "#2a3f5f"
            },
            "error_y": {
             "color": "#2a3f5f"
            },
            "marker": {
             "line": {
              "color": "#E5ECF6",
              "width": 0.5
             },
             "pattern": {
              "fillmode": "overlay",
              "size": 10,
              "solidity": 0.2
             }
            },
            "type": "bar"
           }
          ],
          "barpolar": [
           {
            "marker": {
             "line": {
              "color": "#E5ECF6",
              "width": 0.5
             },
             "pattern": {
              "fillmode": "overlay",
              "size": 10,
              "solidity": 0.2
             }
            },
            "type": "barpolar"
           }
          ],
          "carpet": [
           {
            "aaxis": {
             "endlinecolor": "#2a3f5f",
             "gridcolor": "white",
             "linecolor": "white",
             "minorgridcolor": "white",
             "startlinecolor": "#2a3f5f"
            },
            "baxis": {
             "endlinecolor": "#2a3f5f",
             "gridcolor": "white",
             "linecolor": "white",
             "minorgridcolor": "white",
             "startlinecolor": "#2a3f5f"
            },
            "type": "carpet"
           }
          ],
          "choropleth": [
           {
            "colorbar": {
             "outlinewidth": 0,
             "ticks": ""
            },
            "type": "choropleth"
           }
          ],
          "contour": [
           {
            "colorbar": {
             "outlinewidth": 0,
             "ticks": ""
            },
            "colorscale": [
             [
              0,
              "#0d0887"
             ],
             [
              0.1111111111111111,
              "#46039f"
             ],
             [
              0.2222222222222222,
              "#7201a8"
             ],
             [
              0.3333333333333333,
              "#9c179e"
             ],
             [
              0.4444444444444444,
              "#bd3786"
             ],
             [
              0.5555555555555556,
              "#d8576b"
             ],
             [
              0.6666666666666666,
              "#ed7953"
             ],
             [
              0.7777777777777778,
              "#fb9f3a"
             ],
             [
              0.8888888888888888,
              "#fdca26"
             ],
             [
              1,
              "#f0f921"
             ]
            ],
            "type": "contour"
           }
          ],
          "contourcarpet": [
           {
            "colorbar": {
             "outlinewidth": 0,
             "ticks": ""
            },
            "type": "contourcarpet"
           }
          ],
          "heatmap": [
           {
            "colorbar": {
             "outlinewidth": 0,
             "ticks": ""
            },
            "colorscale": [
             [
              0,
              "#0d0887"
             ],
             [
              0.1111111111111111,
              "#46039f"
             ],
             [
              0.2222222222222222,
              "#7201a8"
             ],
             [
              0.3333333333333333,
              "#9c179e"
             ],
             [
              0.4444444444444444,
              "#bd3786"
             ],
             [
              0.5555555555555556,
              "#d8576b"
             ],
             [
              0.6666666666666666,
              "#ed7953"
             ],
             [
              0.7777777777777778,
              "#fb9f3a"
             ],
             [
              0.8888888888888888,
              "#fdca26"
             ],
             [
              1,
              "#f0f921"
             ]
            ],
            "type": "heatmap"
           }
          ],
          "heatmapgl": [
           {
            "colorbar": {
             "outlinewidth": 0,
             "ticks": ""
            },
            "colorscale": [
             [
              0,
              "#0d0887"
             ],
             [
              0.1111111111111111,
              "#46039f"
             ],
             [
              0.2222222222222222,
              "#7201a8"
             ],
             [
              0.3333333333333333,
              "#9c179e"
             ],
             [
              0.4444444444444444,
              "#bd3786"
             ],
             [
              0.5555555555555556,
              "#d8576b"
             ],
             [
              0.6666666666666666,
              "#ed7953"
             ],
             [
              0.7777777777777778,
              "#fb9f3a"
             ],
             [
              0.8888888888888888,
              "#fdca26"
             ],
             [
              1,
              "#f0f921"
             ]
            ],
            "type": "heatmapgl"
           }
          ],
          "histogram": [
           {
            "marker": {
             "pattern": {
              "fillmode": "overlay",
              "size": 10,
              "solidity": 0.2
             }
            },
            "type": "histogram"
           }
          ],
          "histogram2d": [
           {
            "colorbar": {
             "outlinewidth": 0,
             "ticks": ""
            },
            "colorscale": [
             [
              0,
              "#0d0887"
             ],
             [
              0.1111111111111111,
              "#46039f"
             ],
             [
              0.2222222222222222,
              "#7201a8"
             ],
             [
              0.3333333333333333,
              "#9c179e"
             ],
             [
              0.4444444444444444,
              "#bd3786"
             ],
             [
              0.5555555555555556,
              "#d8576b"
             ],
             [
              0.6666666666666666,
              "#ed7953"
             ],
             [
              0.7777777777777778,
              "#fb9f3a"
             ],
             [
              0.8888888888888888,
              "#fdca26"
             ],
             [
              1,
              "#f0f921"
             ]
            ],
            "type": "histogram2d"
           }
          ],
          "histogram2dcontour": [
           {
            "colorbar": {
             "outlinewidth": 0,
             "ticks": ""
            },
            "colorscale": [
             [
              0,
              "#0d0887"
             ],
             [
              0.1111111111111111,
              "#46039f"
             ],
             [
              0.2222222222222222,
              "#7201a8"
             ],
             [
              0.3333333333333333,
              "#9c179e"
             ],
             [
              0.4444444444444444,
              "#bd3786"
             ],
             [
              0.5555555555555556,
              "#d8576b"
             ],
             [
              0.6666666666666666,
              "#ed7953"
             ],
             [
              0.7777777777777778,
              "#fb9f3a"
             ],
             [
              0.8888888888888888,
              "#fdca26"
             ],
             [
              1,
              "#f0f921"
             ]
            ],
            "type": "histogram2dcontour"
           }
          ],
          "mesh3d": [
           {
            "colorbar": {
             "outlinewidth": 0,
             "ticks": ""
            },
            "type": "mesh3d"
           }
          ],
          "parcoords": [
           {
            "line": {
             "colorbar": {
              "outlinewidth": 0,
              "ticks": ""
             }
            },
            "type": "parcoords"
           }
          ],
          "pie": [
           {
            "automargin": true,
            "type": "pie"
           }
          ],
          "scatter": [
           {
            "fillpattern": {
             "fillmode": "overlay",
             "size": 10,
             "solidity": 0.2
            },
            "type": "scatter"
           }
          ],
          "scatter3d": [
           {
            "line": {
             "colorbar": {
              "outlinewidth": 0,
              "ticks": ""
             }
            },
            "marker": {
             "colorbar": {
              "outlinewidth": 0,
              "ticks": ""
             }
            },
            "type": "scatter3d"
           }
          ],
          "scattercarpet": [
           {
            "marker": {
             "colorbar": {
              "outlinewidth": 0,
              "ticks": ""
             }
            },
            "type": "scattercarpet"
           }
          ],
          "scattergeo": [
           {
            "marker": {
             "colorbar": {
              "outlinewidth": 0,
              "ticks": ""
             }
            },
            "type": "scattergeo"
           }
          ],
          "scattergl": [
           {
            "marker": {
             "colorbar": {
              "outlinewidth": 0,
              "ticks": ""
             }
            },
            "type": "scattergl"
           }
          ],
          "scattermapbox": [
           {
            "marker": {
             "colorbar": {
              "outlinewidth": 0,
              "ticks": ""
             }
            },
            "type": "scattermapbox"
           }
          ],
          "scatterpolar": [
           {
            "marker": {
             "colorbar": {
              "outlinewidth": 0,
              "ticks": ""
             }
            },
            "type": "scatterpolar"
           }
          ],
          "scatterpolargl": [
           {
            "marker": {
             "colorbar": {
              "outlinewidth": 0,
              "ticks": ""
             }
            },
            "type": "scatterpolargl"
           }
          ],
          "scatterternary": [
           {
            "marker": {
             "colorbar": {
              "outlinewidth": 0,
              "ticks": ""
             }
            },
            "type": "scatterternary"
           }
          ],
          "surface": [
           {
            "colorbar": {
             "outlinewidth": 0,
             "ticks": ""
            },
            "colorscale": [
             [
              0,
              "#0d0887"
             ],
             [
              0.1111111111111111,
              "#46039f"
             ],
             [
              0.2222222222222222,
              "#7201a8"
             ],
             [
              0.3333333333333333,
              "#9c179e"
             ],
             [
              0.4444444444444444,
              "#bd3786"
             ],
             [
              0.5555555555555556,
              "#d8576b"
             ],
             [
              0.6666666666666666,
              "#ed7953"
             ],
             [
              0.7777777777777778,
              "#fb9f3a"
             ],
             [
              0.8888888888888888,
              "#fdca26"
             ],
             [
              1,
              "#f0f921"
             ]
            ],
            "type": "surface"
           }
          ],
          "table": [
           {
            "cells": {
             "fill": {
              "color": "#EBF0F8"
             },
             "line": {
              "color": "white"
             }
            },
            "header": {
             "fill": {
              "color": "#C8D4E3"
             },
             "line": {
              "color": "white"
             }
            },
            "type": "table"
           }
          ]
         },
         "layout": {
          "annotationdefaults": {
           "arrowcolor": "#2a3f5f",
           "arrowhead": 0,
           "arrowwidth": 1
          },
          "autotypenumbers": "strict",
          "coloraxis": {
           "colorbar": {
            "outlinewidth": 0,
            "ticks": ""
           }
          },
          "colorscale": {
           "diverging": [
            [
             0,
             "#8e0152"
            ],
            [
             0.1,
             "#c51b7d"
            ],
            [
             0.2,
             "#de77ae"
            ],
            [
             0.3,
             "#f1b6da"
            ],
            [
             0.4,
             "#fde0ef"
            ],
            [
             0.5,
             "#f7f7f7"
            ],
            [
             0.6,
             "#e6f5d0"
            ],
            [
             0.7,
             "#b8e186"
            ],
            [
             0.8,
             "#7fbc41"
            ],
            [
             0.9,
             "#4d9221"
            ],
            [
             1,
             "#276419"
            ]
           ],
           "sequential": [
            [
             0,
             "#0d0887"
            ],
            [
             0.1111111111111111,
             "#46039f"
            ],
            [
             0.2222222222222222,
             "#7201a8"
            ],
            [
             0.3333333333333333,
             "#9c179e"
            ],
            [
             0.4444444444444444,
             "#bd3786"
            ],
            [
             0.5555555555555556,
             "#d8576b"
            ],
            [
             0.6666666666666666,
             "#ed7953"
            ],
            [
             0.7777777777777778,
             "#fb9f3a"
            ],
            [
             0.8888888888888888,
             "#fdca26"
            ],
            [
             1,
             "#f0f921"
            ]
           ],
           "sequentialminus": [
            [
             0,
             "#0d0887"
            ],
            [
             0.1111111111111111,
             "#46039f"
            ],
            [
             0.2222222222222222,
             "#7201a8"
            ],
            [
             0.3333333333333333,
             "#9c179e"
            ],
            [
             0.4444444444444444,
             "#bd3786"
            ],
            [
             0.5555555555555556,
             "#d8576b"
            ],
            [
             0.6666666666666666,
             "#ed7953"
            ],
            [
             0.7777777777777778,
             "#fb9f3a"
            ],
            [
             0.8888888888888888,
             "#fdca26"
            ],
            [
             1,
             "#f0f921"
            ]
           ]
          },
          "colorway": [
           "#636efa",
           "#EF553B",
           "#00cc96",
           "#ab63fa",
           "#FFA15A",
           "#19d3f3",
           "#FF6692",
           "#B6E880",
           "#FF97FF",
           "#FECB52"
          ],
          "font": {
           "color": "#2a3f5f"
          },
          "geo": {
           "bgcolor": "white",
           "lakecolor": "white",
           "landcolor": "#E5ECF6",
           "showlakes": true,
           "showland": true,
           "subunitcolor": "white"
          },
          "hoverlabel": {
           "align": "left"
          },
          "hovermode": "closest",
          "mapbox": {
           "style": "light"
          },
          "paper_bgcolor": "white",
          "plot_bgcolor": "#E5ECF6",
          "polar": {
           "angularaxis": {
            "gridcolor": "white",
            "linecolor": "white",
            "ticks": ""
           },
           "bgcolor": "#E5ECF6",
           "radialaxis": {
            "gridcolor": "white",
            "linecolor": "white",
            "ticks": ""
           }
          },
          "scene": {
           "xaxis": {
            "backgroundcolor": "#E5ECF6",
            "gridcolor": "white",
            "gridwidth": 2,
            "linecolor": "white",
            "showbackground": true,
            "ticks": "",
            "zerolinecolor": "white"
           },
           "yaxis": {
            "backgroundcolor": "#E5ECF6",
            "gridcolor": "white",
            "gridwidth": 2,
            "linecolor": "white",
            "showbackground": true,
            "ticks": "",
            "zerolinecolor": "white"
           },
           "zaxis": {
            "backgroundcolor": "#E5ECF6",
            "gridcolor": "white",
            "gridwidth": 2,
            "linecolor": "white",
            "showbackground": true,
            "ticks": "",
            "zerolinecolor": "white"
           }
          },
          "shapedefaults": {
           "line": {
            "color": "#2a3f5f"
           }
          },
          "ternary": {
           "aaxis": {
            "gridcolor": "white",
            "linecolor": "white",
            "ticks": ""
           },
           "baxis": {
            "gridcolor": "white",
            "linecolor": "white",
            "ticks": ""
           },
           "bgcolor": "#E5ECF6",
           "caxis": {
            "gridcolor": "white",
            "linecolor": "white",
            "ticks": ""
           }
          },
          "title": {
           "x": 0.05
          },
          "xaxis": {
           "automargin": true,
           "gridcolor": "white",
           "linecolor": "white",
           "ticks": "",
           "title": {
            "standoff": 15
           },
           "zerolinecolor": "white",
           "zerolinewidth": 2
          },
          "yaxis": {
           "automargin": true,
           "gridcolor": "white",
           "linecolor": "white",
           "ticks": "",
           "title": {
            "standoff": 15
           },
           "zerolinecolor": "white",
           "zerolinewidth": 2
          }
         }
        },
        "title": {
         "text": "WorldWide Oil Consumption by Year"
        },
        "xaxis": {
         "dtick": 1,
         "tickangle": -90,
         "tickmode": "linear",
         "title": {
          "text": "Year"
         }
        },
        "yaxis": {
         "title": {
          "text": "Oil Consumption (terawatt-hours)"
         }
        }
       }
      }
     },
     "metadata": {},
     "output_type": "display_data"
    }
   ],
   "source": [
    "\n",
    "# filter the data\n",
    "world_data = oil_consumption_df[oil_consumption_df['country'] == 'World']\n",
    "\n",
    "# create the bar chart trace\n",
    "trace = go.Bar(\n",
    "    x=world_data['year'],\n",
    "    y=world_data['oil_consumption'],\n",
    "    text=world_data['oil_consumption'],\n",
    "    texttemplate='%{y:.2s}',\n",
    "    textposition='outside',\n",
    "    cliponaxis=False,\n",
    "    marker=dict(color='orange'),\n",
    "    hovertemplate='<b>Year:</b> %{x}<br><b>Oil Consumption:</b> %{y:.1f}',\n",
    "    name=''\n",
    ")\n",
    "\n",
    "# create the layout\n",
    "layout = go.Layout(\n",
    "    title='WorldWide Oil Consumption by Year',\n",
    "    xaxis=dict(\n",
    "        title='Year',\n",
    "        tickmode='linear',\n",
    "        dtick=1,\n",
    "        tickangle=270\n",
    "    ),\n",
    "    yaxis=dict(\n",
    "        title='Oil Consumption (terawatt-hours)'\n",
    "    ),\n",
    "    plot_bgcolor='white',\n",
    "    hoverlabel=dict()\n",
    ")\n",
    "\n",
    "# create the figure\n",
    "fig = go.Figure(data=[trace], layout=layout)\n",
    "\n",
    "# update the text font size\n",
    "fig.update_traces(textfont_size=12)\n",
    "\n",
    "# show the figure\n",
    "fig.show()"
   ]
  },
  {
   "cell_type": "code",
   "execution_count": 125,
   "id": "b8bd53b1",
   "metadata": {},
   "outputs": [
    {
     "data": {
      "application/vnd.plotly.v1+json": {
       "config": {
        "plotlyServerURL": "https://plot.ly"
       },
       "data": [
        {
         "hovertemplate": "<b>%{x}</b> <br><b>Oil Consumption:</b> %{y:.1f}",
         "marker": {
          "color": "orange"
         },
         "name": "",
         "showlegend": false,
         "type": "bar",
         "visible": true,
         "x": [
          "Africa",
          "Americas",
          "Asia",
          "Europe",
          "Oceania"
         ],
         "y": [
          175.703,
          8114.648,
          2140.479,
          4885.226000000001,
          213.754
         ]
        },
        {
         "hovertemplate": "<b>%{x}</b> <br><b>Oil Consumption:</b> %{y:.1f}",
         "marker": {
          "color": "orange"
         },
         "name": "",
         "showlegend": false,
         "type": "bar",
         "visible": false,
         "x": [
          "Africa",
          "Americas",
          "Asia",
          "Europe",
          "Oceania"
         ],
         "y": [
          197.316,
          8531.336,
          2411.725,
          5354.3150000000005,
          250.18200000000002
         ]
        },
        {
         "hovertemplate": "<b>%{x}</b> <br><b>Oil Consumption:</b> %{y:.1f}",
         "marker": {
          "color": "orange"
         },
         "name": "",
         "showlegend": false,
         "type": "bar",
         "visible": false,
         "x": [
          "Africa",
          "Americas",
          "Asia",
          "Europe",
          "Oceania"
         ],
         "y": [
          188.177,
          8877.165,
          2772.076,
          5799.923,
          272.34000000000003
         ]
        },
        {
         "hovertemplate": "<b>%{x}</b> <br><b>Oil Consumption:</b> %{y:.1f}",
         "marker": {
          "color": "orange"
         },
         "name": "",
         "showlegend": false,
         "type": "bar",
         "visible": false,
         "x": [
          "Africa",
          "Americas",
          "Asia",
          "Europe",
          "Oceania"
         ],
         "y": [
          201.386,
          9506.594,
          3141.3,
          6367.548,
          294.281
         ]
        },
        {
         "hovertemplate": "<b>%{x}</b> <br><b>Oil Consumption:</b> %{y:.1f}",
         "marker": {
          "color": "orange"
         },
         "name": "",
         "showlegend": false,
         "type": "bar",
         "visible": false,
         "x": [
          "Africa",
          "Americas",
          "Asia",
          "Europe",
          "Oceania"
         ],
         "y": [
          193.56099999999998,
          10003.527,
          3626.06,
          7093.748,
          302.953
         ]
        },
        {
         "hovertemplate": "<b>%{x}</b> <br><b>Oil Consumption:</b> %{y:.1f}",
         "marker": {
          "color": "orange"
         },
         "name": "",
         "showlegend": false,
         "type": "bar",
         "visible": false,
         "x": [
          "Africa",
          "Americas",
          "Asia",
          "Europe",
          "Oceania"
         ],
         "y": [
          221.87099999999998,
          10423.696,
          4173.971,
          7860.726,
          337.80600000000004
         ]
        },
        {
         "hovertemplate": "<b>%{x}</b> <br><b>Oil Consumption:</b> %{y:.1f}",
         "marker": {
          "color": "orange"
         },
         "name": "",
         "showlegend": false,
         "type": "bar",
         "visible": false,
         "x": [
          "Africa",
          "Americas",
          "Asia",
          "Europe",
          "Oceania"
         ],
         "y": [
          238.23000000000002,
          10810.169,
          4641.868,
          8213.785,
          354.72200000000004
         ]
        },
        {
         "hovertemplate": "<b>%{x}</b> <br><b>Oil Consumption:</b> %{y:.1f}",
         "marker": {
          "color": "orange"
         },
         "name": "",
         "showlegend": false,
         "type": "bar",
         "visible": false,
         "x": [
          "Africa",
          "Americas",
          "Asia",
          "Europe",
          "Oceania"
         ],
         "y": [
          263.16499999999996,
          11672.577000000001,
          5028.43,
          8788.159,
          363.977
         ]
        },
        {
         "hovertemplate": "<b>%{x}</b> <br><b>Oil Consumption:</b> %{y:.1f}",
         "marker": {
          "color": "orange"
         },
         "name": "",
         "showlegend": false,
         "type": "bar",
         "visible": false,
         "x": [
          "Africa",
          "Americas",
          "Asia",
          "Europe",
          "Oceania"
         ],
         "y": [
          278.535,
          12374.487000000001,
          5726.288,
          9397.875,
          387.856
         ]
        },
        {
         "hovertemplate": "<b>%{x}</b> <br><b>Oil Consumption:</b> %{y:.1f}",
         "marker": {
          "color": "orange"
         },
         "name": "",
         "showlegend": false,
         "type": "bar",
         "visible": false,
         "x": [
          "Africa",
          "Americas",
          "Asia",
          "Europe",
          "Oceania"
         ],
         "y": [
          289.222,
          12090.139000000001,
          5704.995000000001,
          8816.163,
          405.567
         ]
        },
        {
         "hovertemplate": "<b>%{x}</b> <br><b>Oil Consumption:</b> %{y:.1f}",
         "marker": {
          "color": "orange"
         },
         "name": "",
         "showlegend": false,
         "type": "bar",
         "visible": false,
         "x": [
          "Africa",
          "Americas",
          "Asia",
          "Europe",
          "Oceania"
         ],
         "y": [
          311.822,
          11915.299,
          5659.576999999999,
          8490.864,
          400.22900000000004
         ]
        },
        {
         "hovertemplate": "<b>%{x}</b> <br><b>Oil Consumption:</b> %{y:.1f}",
         "marker": {
          "color": "orange"
         },
         "name": "",
         "showlegend": false,
         "type": "bar",
         "visible": false,
         "x": [
          "Africa",
          "Americas",
          "Asia",
          "Europe",
          "Oceania"
         ],
         "y": [
          340.132,
          12761.296,
          6101.4980000000005,
          9061.644,
          409.374
         ]
        },
        {
         "hovertemplate": "<b>%{x}</b> <br><b>Oil Consumption:</b> %{y:.1f}",
         "marker": {
          "color": "orange"
         },
         "name": "",
         "showlegend": false,
         "type": "bar",
         "visible": false,
         "x": [
          "Africa",
          "Americas",
          "Asia",
          "Europe",
          "Oceania"
         ],
         "y": [
          357.31899999999996,
          13394.934000000001,
          6499.773,
          8940.698,
          426.172
         ]
        },
        {
         "hovertemplate": "<b>%{x}</b> <br><b>Oil Consumption:</b> %{y:.1f}",
         "marker": {
          "color": "orange"
         },
         "name": "",
         "showlegend": false,
         "type": "bar",
         "visible": false,
         "x": [
          "Africa",
          "Americas",
          "Asia",
          "Europe",
          "Oceania"
         ],
         "y": [
          373.53,
          13409.352,
          6898.509,
          9381.219000000001,
          426.636
         ]
        },
        {
         "hovertemplate": "<b>%{x}</b> <br><b>Oil Consumption:</b> %{y:.1f}",
         "marker": {
          "color": "orange"
         },
         "name": "",
         "showlegend": false,
         "type": "bar",
         "visible": false,
         "x": [
          "Africa",
          "Americas",
          "Asia",
          "Europe",
          "Oceania"
         ],
         "y": [
          394.71000000000004,
          13335.978000000001,
          7145.349,
          9611.578,
          433.628
         ]
        },
        {
         "hovertemplate": "<b>%{x}</b> <br><b>Oil Consumption:</b> %{y:.1f}",
         "marker": {
          "color": "orange"
         },
         "name": "",
         "showlegend": false,
         "type": "bar",
         "visible": false,
         "x": [
          "Africa",
          "Americas",
          "Asia",
          "Europe",
          "Oceania"
         ],
         "y": [
          416.946,
          12633.767,
          6775.175,
          8950.654,
          415.951
         ]
        },
        {
         "hovertemplate": "<b>%{x}</b> <br><b>Oil Consumption:</b> %{y:.1f}",
         "marker": {
          "color": "orange"
         },
         "name": "",
         "showlegend": false,
         "type": "bar",
         "visible": false,
         "x": [
          "Africa",
          "Americas",
          "Asia",
          "Europe",
          "Oceania"
         ],
         "y": [
          456.774,
          11960.077,
          6704.801,
          8332.152,
          401.441
         ]
        },
        {
         "hovertemplate": "<b>%{x}</b> <br><b>Oil Consumption:</b> %{y:.1f}",
         "marker": {
          "color": "orange"
         },
         "name": "",
         "showlegend": false,
         "type": "bar",
         "visible": false,
         "x": [
          "Africa",
          "Americas",
          "Asia",
          "Europe",
          "Oceania"
         ],
         "y": [
          490.381,
          11400.489000000001,
          6633.816,
          7889.64,
          403.07
         ]
        },
        {
         "hovertemplate": "<b>%{x}</b> <br><b>Oil Consumption:</b> %{y:.1f}",
         "marker": {
          "color": "orange"
         },
         "name": "",
         "showlegend": false,
         "type": "bar",
         "visible": false,
         "x": [
          "Africa",
          "Americas",
          "Asia",
          "Europe",
          "Oceania"
         ],
         "y": [
          522.49,
          11227.935,
          6875.609,
          7636.402,
          395.098
         ]
        },
        {
         "hovertemplate": "<b>%{x}</b> <br><b>Oil Consumption:</b> %{y:.1f}",
         "marker": {
          "color": "orange"
         },
         "name": "",
         "showlegend": false,
         "type": "bar",
         "visible": false,
         "x": [
          "Africa",
          "Americas",
          "Asia",
          "Europe",
          "Oceania"
         ],
         "y": [
          565.285,
          11551.428,
          7204.876,
          7696.821,
          412.419
         ]
        },
        {
         "hovertemplate": "<b>%{x}</b> <br><b>Oil Consumption:</b> %{y:.1f}",
         "marker": {
          "color": "orange"
         },
         "name": "",
         "showlegend": false,
         "type": "bar",
         "visible": false,
         "x": [
          "Africa",
          "Americas",
          "Asia",
          "Europe",
          "Oceania"
         ],
         "y": [
          567.5319999999999,
          11547.726999999999,
          7839.829,
          11804.678,
          393.604
         ]
        },
        {
         "hovertemplate": "<b>%{x}</b> <br><b>Oil Consumption:</b> %{y:.1f}",
         "marker": {
          "color": "orange"
         },
         "name": "",
         "showlegend": false,
         "type": "bar",
         "visible": false,
         "x": [
          "Africa",
          "Americas",
          "Asia",
          "Europe",
          "Oceania"
         ],
         "y": [
          563.238,
          12027.611,
          8049.35,
          12141.598,
          398.281
         ]
        },
        {
         "hovertemplate": "<b>%{x}</b> <br><b>Oil Consumption:</b> %{y:.1f}",
         "marker": {
          "color": "orange"
         },
         "name": "",
         "showlegend": false,
         "type": "bar",
         "visible": false,
         "x": [
          "Africa",
          "Americas",
          "Asia",
          "Europe",
          "Oceania"
         ],
         "y": [
          583.434,
          12314.359999999999,
          8334.517,
          12172.819,
          412.607
         ]
        },
        {
         "hovertemplate": "<b>%{x}</b> <br><b>Oil Consumption:</b> %{y:.1f}",
         "marker": {
          "color": "orange"
         },
         "name": "",
         "showlegend": false,
         "type": "bar",
         "visible": false,
         "x": [
          "Africa",
          "Americas",
          "Asia",
          "Europe",
          "Oceania"
         ],
         "y": [
          608.8820000000001,
          12776.332999999999,
          9010.368,
          12147.068,
          428.65
         ]
        },
        {
         "hovertemplate": "<b>%{x}</b> <br><b>Oil Consumption:</b> %{y:.1f}",
         "marker": {
          "color": "orange"
         },
         "name": "",
         "showlegend": false,
         "type": "bar",
         "visible": false,
         "x": [
          "Africa",
          "Americas",
          "Asia",
          "Europe",
          "Oceania"
         ],
         "y": [
          636.6320000000001,
          12838.126,
          9463.636,
          12176.532,
          443.07300000000004
         ]
        },
        {
         "hovertemplate": "<b>%{x}</b> <br><b>Oil Consumption:</b> %{y:.1f}",
         "marker": {
          "color": "orange"
         },
         "name": "",
         "showlegend": false,
         "type": "bar",
         "visible": false,
         "x": [
          "Africa",
          "Americas",
          "Asia",
          "Europe",
          "Oceania"
         ],
         "y": [
          658.3489999999999,
          12643.974999999999,
          9924.957,
          12344.046,
          454.04
         ]
        },
        {
         "hovertemplate": "<b>%{x}</b> <br><b>Oil Consumption:</b> %{y:.1f}",
         "marker": {
          "color": "orange"
         },
         "name": "",
         "showlegend": false,
         "type": "bar",
         "visible": false,
         "x": [
          "Africa",
          "Americas",
          "Asia",
          "Europe",
          "Oceania"
         ],
         "y": [
          654.12,
          12445.322,
          10368.731,
          12177.102,
          443.815
         ]
        },
        {
         "hovertemplate": "<b>%{x}</b> <br><b>Oil Consumption:</b> %{y:.1f}",
         "marker": {
          "color": "orange"
         },
         "name": "",
         "showlegend": false,
         "type": "bar",
         "visible": false,
         "x": [
          "Africa",
          "Americas",
          "Asia",
          "Europe",
          "Oceania"
         ],
         "y": [
          665.723,
          12802.014999999998,
          11017.629,
          11859.226,
          446.783
         ]
        },
        {
         "hovertemplate": "<b>%{x}</b> <br><b>Oil Consumption:</b> %{y:.1f}",
         "marker": {
          "color": "orange"
         },
         "name": "",
         "showlegend": false,
         "type": "bar",
         "visible": false,
         "x": [
          "Africa",
          "Americas",
          "Asia",
          "Europe",
          "Oceania"
         ],
         "y": [
          662.3009999999999,
          12900.955,
          11502.043,
          11026.217999999999,
          466.911
         ]
        },
        {
         "hovertemplate": "<b>%{x}</b> <br><b>Oil Consumption:</b> %{y:.1f}",
         "marker": {
          "color": "orange"
         },
         "name": "",
         "showlegend": false,
         "type": "bar",
         "visible": false,
         "x": [
          "Africa",
          "Americas",
          "Asia",
          "Europe",
          "Oceania"
         ],
         "y": [
          672.3019999999999,
          13327.204,
          12187.318000000001,
          10695.982,
          490.59799999999996
         ]
        },
        {
         "hovertemplate": "<b>%{x}</b> <br><b>Oil Consumption:</b> %{y:.1f}",
         "marker": {
          "color": "orange"
         },
         "name": "",
         "showlegend": false,
         "type": "bar",
         "visible": false,
         "x": [
          "Africa",
          "Americas",
          "Asia",
          "Europe",
          "Oceania"
         ],
         "y": [
          701.293,
          13328.803,
          12751.96,
          10534.539,
          509.351
         ]
        },
        {
         "hovertemplate": "<b>%{x}</b> <br><b>Oil Consumption:</b> %{y:.1f}",
         "marker": {
          "color": "orange"
         },
         "name": "",
         "showlegend": false,
         "type": "bar",
         "visible": false,
         "x": [
          "Africa",
          "Americas",
          "Asia",
          "Europe",
          "Oceania"
         ],
         "y": [
          714.879,
          13769.094000000001,
          13291.515,
          10418.894,
          517.295
         ]
        },
        {
         "hovertemplate": "<b>%{x}</b> <br><b>Oil Consumption:</b> %{y:.1f}",
         "marker": {
          "color": "orange"
         },
         "name": "",
         "showlegend": false,
         "type": "bar",
         "visible": false,
         "x": [
          "Africa",
          "Americas",
          "Asia",
          "Europe",
          "Oceania"
         ],
         "y": [
          739.312,
          14079.036,
          13905.598,
          10418.527,
          528.54
         ]
        },
        {
         "hovertemplate": "<b>%{x}</b> <br><b>Oil Consumption:</b> %{y:.1f}",
         "marker": {
          "color": "orange"
         },
         "name": "",
         "showlegend": false,
         "type": "bar",
         "visible": false,
         "x": [
          "Africa",
          "Americas",
          "Asia",
          "Europe",
          "Oceania"
         ],
         "y": [
          761.531,
          14395.962,
          13567.933,
          10573.06,
          529.127
         ]
        },
        {
         "hovertemplate": "<b>%{x}</b> <br><b>Oil Consumption:</b> %{y:.1f}",
         "marker": {
          "color": "orange"
         },
         "name": "",
         "showlegend": false,
         "type": "bar",
         "visible": false,
         "x": [
          "Africa",
          "Americas",
          "Asia",
          "Europe",
          "Oceania"
         ],
         "y": [
          777.9000000000001,
          14694.226999999999,
          14048.954,
          10508.585,
          544.157
         ]
        },
        {
         "hovertemplate": "<b>%{x}</b> <br><b>Oil Consumption:</b> %{y:.1f}",
         "marker": {
          "color": "orange"
         },
         "name": "",
         "showlegend": false,
         "type": "bar",
         "visible": false,
         "x": [
          "Africa",
          "Americas",
          "Asia",
          "Europe",
          "Oceania"
         ],
         "y": [
          774.134,
          14831.196,
          14535.364,
          10339.896999999999,
          543.275
         ]
        },
        {
         "hovertemplate": "<b>%{x}</b> <br><b>Oil Consumption:</b> %{y:.1f}",
         "marker": {
          "color": "orange"
         },
         "name": "",
         "showlegend": false,
         "type": "bar",
         "visible": false,
         "x": [
          "Africa",
          "Americas",
          "Asia",
          "Europe",
          "Oceania"
         ],
         "y": [
          771.0419999999999,
          14837.914,
          14640.885,
          10538.538,
          546.816
         ]
        },
        {
         "hovertemplate": "<b>%{x}</b> <br><b>Oil Consumption:</b> %{y:.1f}",
         "marker": {
          "color": "orange"
         },
         "name": "",
         "showlegend": false,
         "type": "bar",
         "visible": false,
         "x": [
          "Africa",
          "Americas",
          "Asia",
          "Europe",
          "Oceania"
         ],
         "y": [
          783.538,
          14809.853000000001,
          15100.440999999999,
          10415.912,
          547.776
         ]
        },
        {
         "hovertemplate": "<b>%{x}</b> <br><b>Oil Consumption:</b> %{y:.1f}",
         "marker": {
          "color": "orange"
         },
         "name": "",
         "showlegend": false,
         "type": "bar",
         "visible": false,
         "x": [
          "Africa",
          "Americas",
          "Asia",
          "Europe",
          "Oceania"
         ],
         "y": [
          806.607,
          14959.455000000002,
          15737.66,
          10514.195,
          552.2860000000001
         ]
        },
        {
         "hovertemplate": "<b>%{x}</b> <br><b>Oil Consumption:</b> %{y:.1f}",
         "marker": {
          "color": "orange"
         },
         "name": "",
         "showlegend": false,
         "type": "bar",
         "visible": false,
         "x": [
          "Africa",
          "Americas",
          "Asia",
          "Europe",
          "Oceania"
         ],
         "y": [
          846.928,
          15530.527,
          16628.324,
          10566.297,
          565.699
         ]
        },
        {
         "hovertemplate": "<b>%{x}</b> <br><b>Oil Consumption:</b> %{y:.1f}",
         "marker": {
          "color": "orange"
         },
         "name": "",
         "showlegend": false,
         "type": "bar",
         "visible": false,
         "x": [
          "Africa",
          "Americas",
          "Asia",
          "Europe",
          "Oceania"
         ],
         "y": [
          897.268,
          15640.786,
          16906.011,
          10615.413,
          564.823
         ]
        },
        {
         "hovertemplate": "<b>%{x}</b> <br><b>Oil Consumption:</b> %{y:.1f}",
         "marker": {
          "color": "orange"
         },
         "name": "",
         "showlegend": false,
         "type": "bar",
         "visible": false,
         "x": [
          "Africa",
          "Americas",
          "Asia",
          "Europe",
          "Oceania"
         ],
         "y": [
          897.123,
          15559.911000000002,
          17350.042,
          10710.008,
          604.846
         ]
        },
        {
         "hovertemplate": "<b>%{x}</b> <br><b>Oil Consumption:</b> %{y:.1f}",
         "marker": {
          "color": "orange"
         },
         "name": "",
         "showlegend": false,
         "type": "bar",
         "visible": false,
         "x": [
          "Africa",
          "Americas",
          "Asia",
          "Europe",
          "Oceania"
         ],
         "y": [
          947.858,
          15676.685,
          17951.088,
          10488.65,
          599.504
         ]
        },
        {
         "hovertemplate": "<b>%{x}</b> <br><b>Oil Consumption:</b> %{y:.1f}",
         "marker": {
          "color": "orange"
         },
         "name": "",
         "showlegend": false,
         "type": "bar",
         "visible": false,
         "x": [
          "Africa",
          "Americas",
          "Asia",
          "Europe",
          "Oceania"
         ],
         "y": [
          982.9739999999999,
          15063.402,
          18107.101,
          10448.773,
          600.934
         ]
        },
        {
         "hovertemplate": "<b>%{x}</b> <br><b>Oil Consumption:</b> %{y:.1f}",
         "marker": {
          "color": "orange"
         },
         "name": "",
         "showlegend": false,
         "type": "bar",
         "visible": false,
         "x": [
          "Africa",
          "Americas",
          "Asia",
          "Europe",
          "Oceania"
         ],
         "y": [
          1012.05,
          14399.437,
          18345.624,
          9929.388,
          594.482
         ]
        },
        {
         "hovertemplate": "<b>%{x}</b> <br><b>Oil Consumption:</b> %{y:.1f}",
         "marker": {
          "color": "orange"
         },
         "name": "",
         "showlegend": false,
         "type": "bar",
         "visible": false,
         "x": [
          "Africa",
          "Americas",
          "Asia",
          "Europe",
          "Oceania"
         ],
         "y": [
          1067.235,
          14794.826000000001,
          19345.470999999998,
          9879.087,
          589.981
         ]
        },
        {
         "hovertemplate": "<b>%{x}</b> <br><b>Oil Consumption:</b> %{y:.1f}",
         "marker": {
          "color": "orange"
         },
         "name": "",
         "showlegend": false,
         "type": "bar",
         "visible": false,
         "x": [
          "Africa",
          "Americas",
          "Asia",
          "Europe",
          "Oceania"
         ],
         "y": [
          1060.908,
          14775.224,
          19952.84,
          9765.371,
          625.288
         ]
        },
        {
         "hovertemplate": "<b>%{x}</b> <br><b>Oil Consumption:</b> %{y:.1f}",
         "marker": {
          "color": "orange"
         },
         "name": "",
         "showlegend": false,
         "type": "bar",
         "visible": false,
         "x": [
          "Africa",
          "Americas",
          "Asia",
          "Europe",
          "Oceania"
         ],
         "y": [
          1100.859,
          14639.688,
          20830.811,
          9525.923,
          644.744
         ]
        },
        {
         "hovertemplate": "<b>%{x}</b> <br><b>Oil Consumption:</b> %{y:.1f}",
         "marker": {
          "color": "orange"
         },
         "name": "",
         "showlegend": false,
         "type": "bar",
         "visible": false,
         "x": [
          "Africa",
          "Americas",
          "Asia",
          "Europe",
          "Oceania"
         ],
         "y": [
          1120.911,
          14877.924,
          21283.603,
          9319.392,
          655.51
         ]
        },
        {
         "hovertemplate": "<b>%{x}</b> <br><b>Oil Consumption:</b> %{y:.1f}",
         "marker": {
          "color": "orange"
         },
         "name": "",
         "showlegend": false,
         "type": "bar",
         "visible": false,
         "x": [
          "Africa",
          "Americas",
          "Asia",
          "Europe",
          "Oceania"
         ],
         "y": [
          1149.612,
          14925.681999999999,
          21580,
          9246.812,
          663.2479999999999
         ]
        },
        {
         "hovertemplate": "<b>%{x}</b> <br><b>Oil Consumption:</b> %{y:.1f}",
         "marker": {
          "color": "orange"
         },
         "name": "",
         "showlegend": false,
         "type": "bar",
         "visible": false,
         "x": [
          "Africa",
          "Americas",
          "Asia",
          "Europe",
          "Oceania"
         ],
         "y": [
          1191.752,
          14972.124,
          22365.259000000002,
          9241.077,
          646.7249999999999
         ]
        },
        {
         "hovertemplate": "<b>%{x}</b> <br><b>Oil Consumption:</b> %{y:.1f}",
         "marker": {
          "color": "orange"
         },
         "name": "",
         "showlegend": false,
         "type": "bar",
         "visible": false,
         "x": [
          "Africa",
          "Americas",
          "Asia",
          "Europe",
          "Oceania"
         ],
         "y": [
          1182.24,
          14953.565999999999,
          23158.998,
          9433.595,
          653.359
         ]
        },
        {
         "hovertemplate": "<b>%{x}</b> <br><b>Oil Consumption:</b> %{y:.1f}",
         "marker": {
          "color": "orange"
         },
         "name": "",
         "showlegend": false,
         "type": "bar",
         "visible": false,
         "x": [
          "Africa",
          "Americas",
          "Asia",
          "Europe",
          "Oceania"
         ],
         "y": [
          1150.493,
          14963.462,
          23638.224000000002,
          9526.873,
          682.959
         ]
        },
        {
         "hovertemplate": "<b>%{x}</b> <br><b>Oil Consumption:</b> %{y:.1f}",
         "marker": {
          "color": "orange"
         },
         "name": "",
         "showlegend": false,
         "type": "bar",
         "visible": false,
         "x": [
          "Africa",
          "Americas",
          "Asia",
          "Europe",
          "Oceania"
         ],
         "y": [
          1130.064,
          15114.953,
          24003.437,
          9561.695,
          698.529
         ]
        },
        {
         "hovertemplate": "<b>%{x}</b> <br><b>Oil Consumption:</b> %{y:.1f}",
         "marker": {
          "color": "orange"
         },
         "name": "",
         "showlegend": false,
         "type": "bar",
         "visible": false,
         "x": [
          "Africa",
          "Americas",
          "Asia",
          "Europe",
          "Oceania"
         ],
         "y": [
          1149.086,
          14984.942,
          24494.363,
          9556.416,
          694.3910000000001
         ]
        }
       ],
       "layout": {
        "plot_bgcolor": "white",
        "sliders": [
         {
          "active": 0,
          "steps": [
           {
            "args": [
             {
              "visible": [
               true,
               false,
               false,
               false,
               false,
               false,
               false,
               false,
               false,
               false,
               false,
               false,
               false,
               false,
               false,
               false,
               false,
               false,
               false,
               false,
               false,
               false,
               false,
               false,
               false,
               false,
               false,
               false,
               false,
               false,
               false,
               false,
               false,
               false,
               false,
               false,
               false,
               false,
               false,
               false,
               false,
               false,
               false,
               false,
               false,
               false,
               false,
               false,
               false,
               false,
               false,
               false,
               false,
               false,
               false
              ]
             },
             {
              "title": "Oil consumption by continent in 1965"
             }
            ],
            "label": "1965",
            "method": "update"
           },
           {
            "args": [
             {
              "visible": [
               false,
               true,
               false,
               false,
               false,
               false,
               false,
               false,
               false,
               false,
               false,
               false,
               false,
               false,
               false,
               false,
               false,
               false,
               false,
               false,
               false,
               false,
               false,
               false,
               false,
               false,
               false,
               false,
               false,
               false,
               false,
               false,
               false,
               false,
               false,
               false,
               false,
               false,
               false,
               false,
               false,
               false,
               false,
               false,
               false,
               false,
               false,
               false,
               false,
               false,
               false,
               false,
               false,
               false,
               false
              ]
             },
             {
              "title": "Oil consumption by continent in 1966"
             }
            ],
            "label": "1966",
            "method": "update"
           },
           {
            "args": [
             {
              "visible": [
               false,
               false,
               true,
               false,
               false,
               false,
               false,
               false,
               false,
               false,
               false,
               false,
               false,
               false,
               false,
               false,
               false,
               false,
               false,
               false,
               false,
               false,
               false,
               false,
               false,
               false,
               false,
               false,
               false,
               false,
               false,
               false,
               false,
               false,
               false,
               false,
               false,
               false,
               false,
               false,
               false,
               false,
               false,
               false,
               false,
               false,
               false,
               false,
               false,
               false,
               false,
               false,
               false,
               false,
               false
              ]
             },
             {
              "title": "Oil consumption by continent in 1967"
             }
            ],
            "label": "1967",
            "method": "update"
           },
           {
            "args": [
             {
              "visible": [
               false,
               false,
               false,
               true,
               false,
               false,
               false,
               false,
               false,
               false,
               false,
               false,
               false,
               false,
               false,
               false,
               false,
               false,
               false,
               false,
               false,
               false,
               false,
               false,
               false,
               false,
               false,
               false,
               false,
               false,
               false,
               false,
               false,
               false,
               false,
               false,
               false,
               false,
               false,
               false,
               false,
               false,
               false,
               false,
               false,
               false,
               false,
               false,
               false,
               false,
               false,
               false,
               false,
               false,
               false
              ]
             },
             {
              "title": "Oil consumption by continent in 1968"
             }
            ],
            "label": "1968",
            "method": "update"
           },
           {
            "args": [
             {
              "visible": [
               false,
               false,
               false,
               false,
               true,
               false,
               false,
               false,
               false,
               false,
               false,
               false,
               false,
               false,
               false,
               false,
               false,
               false,
               false,
               false,
               false,
               false,
               false,
               false,
               false,
               false,
               false,
               false,
               false,
               false,
               false,
               false,
               false,
               false,
               false,
               false,
               false,
               false,
               false,
               false,
               false,
               false,
               false,
               false,
               false,
               false,
               false,
               false,
               false,
               false,
               false,
               false,
               false,
               false,
               false
              ]
             },
             {
              "title": "Oil consumption by continent in 1969"
             }
            ],
            "label": "1969",
            "method": "update"
           },
           {
            "args": [
             {
              "visible": [
               false,
               false,
               false,
               false,
               false,
               true,
               false,
               false,
               false,
               false,
               false,
               false,
               false,
               false,
               false,
               false,
               false,
               false,
               false,
               false,
               false,
               false,
               false,
               false,
               false,
               false,
               false,
               false,
               false,
               false,
               false,
               false,
               false,
               false,
               false,
               false,
               false,
               false,
               false,
               false,
               false,
               false,
               false,
               false,
               false,
               false,
               false,
               false,
               false,
               false,
               false,
               false,
               false,
               false,
               false
              ]
             },
             {
              "title": "Oil consumption by continent in 1970"
             }
            ],
            "label": "1970",
            "method": "update"
           },
           {
            "args": [
             {
              "visible": [
               false,
               false,
               false,
               false,
               false,
               false,
               true,
               false,
               false,
               false,
               false,
               false,
               false,
               false,
               false,
               false,
               false,
               false,
               false,
               false,
               false,
               false,
               false,
               false,
               false,
               false,
               false,
               false,
               false,
               false,
               false,
               false,
               false,
               false,
               false,
               false,
               false,
               false,
               false,
               false,
               false,
               false,
               false,
               false,
               false,
               false,
               false,
               false,
               false,
               false,
               false,
               false,
               false,
               false,
               false
              ]
             },
             {
              "title": "Oil consumption by continent in 1971"
             }
            ],
            "label": "1971",
            "method": "update"
           },
           {
            "args": [
             {
              "visible": [
               false,
               false,
               false,
               false,
               false,
               false,
               false,
               true,
               false,
               false,
               false,
               false,
               false,
               false,
               false,
               false,
               false,
               false,
               false,
               false,
               false,
               false,
               false,
               false,
               false,
               false,
               false,
               false,
               false,
               false,
               false,
               false,
               false,
               false,
               false,
               false,
               false,
               false,
               false,
               false,
               false,
               false,
               false,
               false,
               false,
               false,
               false,
               false,
               false,
               false,
               false,
               false,
               false,
               false,
               false
              ]
             },
             {
              "title": "Oil consumption by continent in 1972"
             }
            ],
            "label": "1972",
            "method": "update"
           },
           {
            "args": [
             {
              "visible": [
               false,
               false,
               false,
               false,
               false,
               false,
               false,
               false,
               true,
               false,
               false,
               false,
               false,
               false,
               false,
               false,
               false,
               false,
               false,
               false,
               false,
               false,
               false,
               false,
               false,
               false,
               false,
               false,
               false,
               false,
               false,
               false,
               false,
               false,
               false,
               false,
               false,
               false,
               false,
               false,
               false,
               false,
               false,
               false,
               false,
               false,
               false,
               false,
               false,
               false,
               false,
               false,
               false,
               false,
               false
              ]
             },
             {
              "title": "Oil consumption by continent in 1973"
             }
            ],
            "label": "1973",
            "method": "update"
           },
           {
            "args": [
             {
              "visible": [
               false,
               false,
               false,
               false,
               false,
               false,
               false,
               false,
               false,
               true,
               false,
               false,
               false,
               false,
               false,
               false,
               false,
               false,
               false,
               false,
               false,
               false,
               false,
               false,
               false,
               false,
               false,
               false,
               false,
               false,
               false,
               false,
               false,
               false,
               false,
               false,
               false,
               false,
               false,
               false,
               false,
               false,
               false,
               false,
               false,
               false,
               false,
               false,
               false,
               false,
               false,
               false,
               false,
               false,
               false
              ]
             },
             {
              "title": "Oil consumption by continent in 1974"
             }
            ],
            "label": "1974",
            "method": "update"
           },
           {
            "args": [
             {
              "visible": [
               false,
               false,
               false,
               false,
               false,
               false,
               false,
               false,
               false,
               false,
               true,
               false,
               false,
               false,
               false,
               false,
               false,
               false,
               false,
               false,
               false,
               false,
               false,
               false,
               false,
               false,
               false,
               false,
               false,
               false,
               false,
               false,
               false,
               false,
               false,
               false,
               false,
               false,
               false,
               false,
               false,
               false,
               false,
               false,
               false,
               false,
               false,
               false,
               false,
               false,
               false,
               false,
               false,
               false,
               false
              ]
             },
             {
              "title": "Oil consumption by continent in 1975"
             }
            ],
            "label": "1975",
            "method": "update"
           },
           {
            "args": [
             {
              "visible": [
               false,
               false,
               false,
               false,
               false,
               false,
               false,
               false,
               false,
               false,
               false,
               true,
               false,
               false,
               false,
               false,
               false,
               false,
               false,
               false,
               false,
               false,
               false,
               false,
               false,
               false,
               false,
               false,
               false,
               false,
               false,
               false,
               false,
               false,
               false,
               false,
               false,
               false,
               false,
               false,
               false,
               false,
               false,
               false,
               false,
               false,
               false,
               false,
               false,
               false,
               false,
               false,
               false,
               false,
               false
              ]
             },
             {
              "title": "Oil consumption by continent in 1976"
             }
            ],
            "label": "1976",
            "method": "update"
           },
           {
            "args": [
             {
              "visible": [
               false,
               false,
               false,
               false,
               false,
               false,
               false,
               false,
               false,
               false,
               false,
               false,
               true,
               false,
               false,
               false,
               false,
               false,
               false,
               false,
               false,
               false,
               false,
               false,
               false,
               false,
               false,
               false,
               false,
               false,
               false,
               false,
               false,
               false,
               false,
               false,
               false,
               false,
               false,
               false,
               false,
               false,
               false,
               false,
               false,
               false,
               false,
               false,
               false,
               false,
               false,
               false,
               false,
               false,
               false
              ]
             },
             {
              "title": "Oil consumption by continent in 1977"
             }
            ],
            "label": "1977",
            "method": "update"
           },
           {
            "args": [
             {
              "visible": [
               false,
               false,
               false,
               false,
               false,
               false,
               false,
               false,
               false,
               false,
               false,
               false,
               false,
               true,
               false,
               false,
               false,
               false,
               false,
               false,
               false,
               false,
               false,
               false,
               false,
               false,
               false,
               false,
               false,
               false,
               false,
               false,
               false,
               false,
               false,
               false,
               false,
               false,
               false,
               false,
               false,
               false,
               false,
               false,
               false,
               false,
               false,
               false,
               false,
               false,
               false,
               false,
               false,
               false,
               false
              ]
             },
             {
              "title": "Oil consumption by continent in 1978"
             }
            ],
            "label": "1978",
            "method": "update"
           },
           {
            "args": [
             {
              "visible": [
               false,
               false,
               false,
               false,
               false,
               false,
               false,
               false,
               false,
               false,
               false,
               false,
               false,
               false,
               true,
               false,
               false,
               false,
               false,
               false,
               false,
               false,
               false,
               false,
               false,
               false,
               false,
               false,
               false,
               false,
               false,
               false,
               false,
               false,
               false,
               false,
               false,
               false,
               false,
               false,
               false,
               false,
               false,
               false,
               false,
               false,
               false,
               false,
               false,
               false,
               false,
               false,
               false,
               false,
               false
              ]
             },
             {
              "title": "Oil consumption by continent in 1979"
             }
            ],
            "label": "1979",
            "method": "update"
           },
           {
            "args": [
             {
              "visible": [
               false,
               false,
               false,
               false,
               false,
               false,
               false,
               false,
               false,
               false,
               false,
               false,
               false,
               false,
               false,
               true,
               false,
               false,
               false,
               false,
               false,
               false,
               false,
               false,
               false,
               false,
               false,
               false,
               false,
               false,
               false,
               false,
               false,
               false,
               false,
               false,
               false,
               false,
               false,
               false,
               false,
               false,
               false,
               false,
               false,
               false,
               false,
               false,
               false,
               false,
               false,
               false,
               false,
               false,
               false
              ]
             },
             {
              "title": "Oil consumption by continent in 1980"
             }
            ],
            "label": "1980",
            "method": "update"
           },
           {
            "args": [
             {
              "visible": [
               false,
               false,
               false,
               false,
               false,
               false,
               false,
               false,
               false,
               false,
               false,
               false,
               false,
               false,
               false,
               false,
               true,
               false,
               false,
               false,
               false,
               false,
               false,
               false,
               false,
               false,
               false,
               false,
               false,
               false,
               false,
               false,
               false,
               false,
               false,
               false,
               false,
               false,
               false,
               false,
               false,
               false,
               false,
               false,
               false,
               false,
               false,
               false,
               false,
               false,
               false,
               false,
               false,
               false,
               false
              ]
             },
             {
              "title": "Oil consumption by continent in 1981"
             }
            ],
            "label": "1981",
            "method": "update"
           },
           {
            "args": [
             {
              "visible": [
               false,
               false,
               false,
               false,
               false,
               false,
               false,
               false,
               false,
               false,
               false,
               false,
               false,
               false,
               false,
               false,
               false,
               true,
               false,
               false,
               false,
               false,
               false,
               false,
               false,
               false,
               false,
               false,
               false,
               false,
               false,
               false,
               false,
               false,
               false,
               false,
               false,
               false,
               false,
               false,
               false,
               false,
               false,
               false,
               false,
               false,
               false,
               false,
               false,
               false,
               false,
               false,
               false,
               false,
               false
              ]
             },
             {
              "title": "Oil consumption by continent in 1982"
             }
            ],
            "label": "1982",
            "method": "update"
           },
           {
            "args": [
             {
              "visible": [
               false,
               false,
               false,
               false,
               false,
               false,
               false,
               false,
               false,
               false,
               false,
               false,
               false,
               false,
               false,
               false,
               false,
               false,
               true,
               false,
               false,
               false,
               false,
               false,
               false,
               false,
               false,
               false,
               false,
               false,
               false,
               false,
               false,
               false,
               false,
               false,
               false,
               false,
               false,
               false,
               false,
               false,
               false,
               false,
               false,
               false,
               false,
               false,
               false,
               false,
               false,
               false,
               false,
               false,
               false
              ]
             },
             {
              "title": "Oil consumption by continent in 1983"
             }
            ],
            "label": "1983",
            "method": "update"
           },
           {
            "args": [
             {
              "visible": [
               false,
               false,
               false,
               false,
               false,
               false,
               false,
               false,
               false,
               false,
               false,
               false,
               false,
               false,
               false,
               false,
               false,
               false,
               false,
               true,
               false,
               false,
               false,
               false,
               false,
               false,
               false,
               false,
               false,
               false,
               false,
               false,
               false,
               false,
               false,
               false,
               false,
               false,
               false,
               false,
               false,
               false,
               false,
               false,
               false,
               false,
               false,
               false,
               false,
               false,
               false,
               false,
               false,
               false,
               false
              ]
             },
             {
              "title": "Oil consumption by continent in 1984"
             }
            ],
            "label": "1984",
            "method": "update"
           },
           {
            "args": [
             {
              "visible": [
               false,
               false,
               false,
               false,
               false,
               false,
               false,
               false,
               false,
               false,
               false,
               false,
               false,
               false,
               false,
               false,
               false,
               false,
               false,
               false,
               true,
               false,
               false,
               false,
               false,
               false,
               false,
               false,
               false,
               false,
               false,
               false,
               false,
               false,
               false,
               false,
               false,
               false,
               false,
               false,
               false,
               false,
               false,
               false,
               false,
               false,
               false,
               false,
               false,
               false,
               false,
               false,
               false,
               false,
               false
              ]
             },
             {
              "title": "Oil consumption by continent in 1985"
             }
            ],
            "label": "1985",
            "method": "update"
           },
           {
            "args": [
             {
              "visible": [
               false,
               false,
               false,
               false,
               false,
               false,
               false,
               false,
               false,
               false,
               false,
               false,
               false,
               false,
               false,
               false,
               false,
               false,
               false,
               false,
               false,
               true,
               false,
               false,
               false,
               false,
               false,
               false,
               false,
               false,
               false,
               false,
               false,
               false,
               false,
               false,
               false,
               false,
               false,
               false,
               false,
               false,
               false,
               false,
               false,
               false,
               false,
               false,
               false,
               false,
               false,
               false,
               false,
               false,
               false
              ]
             },
             {
              "title": "Oil consumption by continent in 1986"
             }
            ],
            "label": "1986",
            "method": "update"
           },
           {
            "args": [
             {
              "visible": [
               false,
               false,
               false,
               false,
               false,
               false,
               false,
               false,
               false,
               false,
               false,
               false,
               false,
               false,
               false,
               false,
               false,
               false,
               false,
               false,
               false,
               false,
               true,
               false,
               false,
               false,
               false,
               false,
               false,
               false,
               false,
               false,
               false,
               false,
               false,
               false,
               false,
               false,
               false,
               false,
               false,
               false,
               false,
               false,
               false,
               false,
               false,
               false,
               false,
               false,
               false,
               false,
               false,
               false,
               false
              ]
             },
             {
              "title": "Oil consumption by continent in 1987"
             }
            ],
            "label": "1987",
            "method": "update"
           },
           {
            "args": [
             {
              "visible": [
               false,
               false,
               false,
               false,
               false,
               false,
               false,
               false,
               false,
               false,
               false,
               false,
               false,
               false,
               false,
               false,
               false,
               false,
               false,
               false,
               false,
               false,
               false,
               true,
               false,
               false,
               false,
               false,
               false,
               false,
               false,
               false,
               false,
               false,
               false,
               false,
               false,
               false,
               false,
               false,
               false,
               false,
               false,
               false,
               false,
               false,
               false,
               false,
               false,
               false,
               false,
               false,
               false,
               false,
               false
              ]
             },
             {
              "title": "Oil consumption by continent in 1988"
             }
            ],
            "label": "1988",
            "method": "update"
           },
           {
            "args": [
             {
              "visible": [
               false,
               false,
               false,
               false,
               false,
               false,
               false,
               false,
               false,
               false,
               false,
               false,
               false,
               false,
               false,
               false,
               false,
               false,
               false,
               false,
               false,
               false,
               false,
               false,
               true,
               false,
               false,
               false,
               false,
               false,
               false,
               false,
               false,
               false,
               false,
               false,
               false,
               false,
               false,
               false,
               false,
               false,
               false,
               false,
               false,
               false,
               false,
               false,
               false,
               false,
               false,
               false,
               false,
               false,
               false
              ]
             },
             {
              "title": "Oil consumption by continent in 1989"
             }
            ],
            "label": "1989",
            "method": "update"
           },
           {
            "args": [
             {
              "visible": [
               false,
               false,
               false,
               false,
               false,
               false,
               false,
               false,
               false,
               false,
               false,
               false,
               false,
               false,
               false,
               false,
               false,
               false,
               false,
               false,
               false,
               false,
               false,
               false,
               false,
               true,
               false,
               false,
               false,
               false,
               false,
               false,
               false,
               false,
               false,
               false,
               false,
               false,
               false,
               false,
               false,
               false,
               false,
               false,
               false,
               false,
               false,
               false,
               false,
               false,
               false,
               false,
               false,
               false,
               false
              ]
             },
             {
              "title": "Oil consumption by continent in 1990"
             }
            ],
            "label": "1990",
            "method": "update"
           },
           {
            "args": [
             {
              "visible": [
               false,
               false,
               false,
               false,
               false,
               false,
               false,
               false,
               false,
               false,
               false,
               false,
               false,
               false,
               false,
               false,
               false,
               false,
               false,
               false,
               false,
               false,
               false,
               false,
               false,
               false,
               true,
               false,
               false,
               false,
               false,
               false,
               false,
               false,
               false,
               false,
               false,
               false,
               false,
               false,
               false,
               false,
               false,
               false,
               false,
               false,
               false,
               false,
               false,
               false,
               false,
               false,
               false,
               false,
               false
              ]
             },
             {
              "title": "Oil consumption by continent in 1991"
             }
            ],
            "label": "1991",
            "method": "update"
           },
           {
            "args": [
             {
              "visible": [
               false,
               false,
               false,
               false,
               false,
               false,
               false,
               false,
               false,
               false,
               false,
               false,
               false,
               false,
               false,
               false,
               false,
               false,
               false,
               false,
               false,
               false,
               false,
               false,
               false,
               false,
               false,
               true,
               false,
               false,
               false,
               false,
               false,
               false,
               false,
               false,
               false,
               false,
               false,
               false,
               false,
               false,
               false,
               false,
               false,
               false,
               false,
               false,
               false,
               false,
               false,
               false,
               false,
               false,
               false
              ]
             },
             {
              "title": "Oil consumption by continent in 1992"
             }
            ],
            "label": "1992",
            "method": "update"
           },
           {
            "args": [
             {
              "visible": [
               false,
               false,
               false,
               false,
               false,
               false,
               false,
               false,
               false,
               false,
               false,
               false,
               false,
               false,
               false,
               false,
               false,
               false,
               false,
               false,
               false,
               false,
               false,
               false,
               false,
               false,
               false,
               false,
               true,
               false,
               false,
               false,
               false,
               false,
               false,
               false,
               false,
               false,
               false,
               false,
               false,
               false,
               false,
               false,
               false,
               false,
               false,
               false,
               false,
               false,
               false,
               false,
               false,
               false,
               false
              ]
             },
             {
              "title": "Oil consumption by continent in 1993"
             }
            ],
            "label": "1993",
            "method": "update"
           },
           {
            "args": [
             {
              "visible": [
               false,
               false,
               false,
               false,
               false,
               false,
               false,
               false,
               false,
               false,
               false,
               false,
               false,
               false,
               false,
               false,
               false,
               false,
               false,
               false,
               false,
               false,
               false,
               false,
               false,
               false,
               false,
               false,
               false,
               true,
               false,
               false,
               false,
               false,
               false,
               false,
               false,
               false,
               false,
               false,
               false,
               false,
               false,
               false,
               false,
               false,
               false,
               false,
               false,
               false,
               false,
               false,
               false,
               false,
               false
              ]
             },
             {
              "title": "Oil consumption by continent in 1994"
             }
            ],
            "label": "1994",
            "method": "update"
           },
           {
            "args": [
             {
              "visible": [
               false,
               false,
               false,
               false,
               false,
               false,
               false,
               false,
               false,
               false,
               false,
               false,
               false,
               false,
               false,
               false,
               false,
               false,
               false,
               false,
               false,
               false,
               false,
               false,
               false,
               false,
               false,
               false,
               false,
               false,
               true,
               false,
               false,
               false,
               false,
               false,
               false,
               false,
               false,
               false,
               false,
               false,
               false,
               false,
               false,
               false,
               false,
               false,
               false,
               false,
               false,
               false,
               false,
               false,
               false
              ]
             },
             {
              "title": "Oil consumption by continent in 1995"
             }
            ],
            "label": "1995",
            "method": "update"
           },
           {
            "args": [
             {
              "visible": [
               false,
               false,
               false,
               false,
               false,
               false,
               false,
               false,
               false,
               false,
               false,
               false,
               false,
               false,
               false,
               false,
               false,
               false,
               false,
               false,
               false,
               false,
               false,
               false,
               false,
               false,
               false,
               false,
               false,
               false,
               false,
               true,
               false,
               false,
               false,
               false,
               false,
               false,
               false,
               false,
               false,
               false,
               false,
               false,
               false,
               false,
               false,
               false,
               false,
               false,
               false,
               false,
               false,
               false,
               false
              ]
             },
             {
              "title": "Oil consumption by continent in 1996"
             }
            ],
            "label": "1996",
            "method": "update"
           },
           {
            "args": [
             {
              "visible": [
               false,
               false,
               false,
               false,
               false,
               false,
               false,
               false,
               false,
               false,
               false,
               false,
               false,
               false,
               false,
               false,
               false,
               false,
               false,
               false,
               false,
               false,
               false,
               false,
               false,
               false,
               false,
               false,
               false,
               false,
               false,
               false,
               true,
               false,
               false,
               false,
               false,
               false,
               false,
               false,
               false,
               false,
               false,
               false,
               false,
               false,
               false,
               false,
               false,
               false,
               false,
               false,
               false,
               false,
               false
              ]
             },
             {
              "title": "Oil consumption by continent in 1997"
             }
            ],
            "label": "1997",
            "method": "update"
           },
           {
            "args": [
             {
              "visible": [
               false,
               false,
               false,
               false,
               false,
               false,
               false,
               false,
               false,
               false,
               false,
               false,
               false,
               false,
               false,
               false,
               false,
               false,
               false,
               false,
               false,
               false,
               false,
               false,
               false,
               false,
               false,
               false,
               false,
               false,
               false,
               false,
               false,
               true,
               false,
               false,
               false,
               false,
               false,
               false,
               false,
               false,
               false,
               false,
               false,
               false,
               false,
               false,
               false,
               false,
               false,
               false,
               false,
               false,
               false
              ]
             },
             {
              "title": "Oil consumption by continent in 1998"
             }
            ],
            "label": "1998",
            "method": "update"
           },
           {
            "args": [
             {
              "visible": [
               false,
               false,
               false,
               false,
               false,
               false,
               false,
               false,
               false,
               false,
               false,
               false,
               false,
               false,
               false,
               false,
               false,
               false,
               false,
               false,
               false,
               false,
               false,
               false,
               false,
               false,
               false,
               false,
               false,
               false,
               false,
               false,
               false,
               false,
               true,
               false,
               false,
               false,
               false,
               false,
               false,
               false,
               false,
               false,
               false,
               false,
               false,
               false,
               false,
               false,
               false,
               false,
               false,
               false,
               false
              ]
             },
             {
              "title": "Oil consumption by continent in 1999"
             }
            ],
            "label": "1999",
            "method": "update"
           },
           {
            "args": [
             {
              "visible": [
               false,
               false,
               false,
               false,
               false,
               false,
               false,
               false,
               false,
               false,
               false,
               false,
               false,
               false,
               false,
               false,
               false,
               false,
               false,
               false,
               false,
               false,
               false,
               false,
               false,
               false,
               false,
               false,
               false,
               false,
               false,
               false,
               false,
               false,
               false,
               true,
               false,
               false,
               false,
               false,
               false,
               false,
               false,
               false,
               false,
               false,
               false,
               false,
               false,
               false,
               false,
               false,
               false,
               false,
               false
              ]
             },
             {
              "title": "Oil consumption by continent in 2000"
             }
            ],
            "label": "2000",
            "method": "update"
           },
           {
            "args": [
             {
              "visible": [
               false,
               false,
               false,
               false,
               false,
               false,
               false,
               false,
               false,
               false,
               false,
               false,
               false,
               false,
               false,
               false,
               false,
               false,
               false,
               false,
               false,
               false,
               false,
               false,
               false,
               false,
               false,
               false,
               false,
               false,
               false,
               false,
               false,
               false,
               false,
               false,
               true,
               false,
               false,
               false,
               false,
               false,
               false,
               false,
               false,
               false,
               false,
               false,
               false,
               false,
               false,
               false,
               false,
               false,
               false
              ]
             },
             {
              "title": "Oil consumption by continent in 2001"
             }
            ],
            "label": "2001",
            "method": "update"
           },
           {
            "args": [
             {
              "visible": [
               false,
               false,
               false,
               false,
               false,
               false,
               false,
               false,
               false,
               false,
               false,
               false,
               false,
               false,
               false,
               false,
               false,
               false,
               false,
               false,
               false,
               false,
               false,
               false,
               false,
               false,
               false,
               false,
               false,
               false,
               false,
               false,
               false,
               false,
               false,
               false,
               false,
               true,
               false,
               false,
               false,
               false,
               false,
               false,
               false,
               false,
               false,
               false,
               false,
               false,
               false,
               false,
               false,
               false,
               false
              ]
             },
             {
              "title": "Oil consumption by continent in 2002"
             }
            ],
            "label": "2002",
            "method": "update"
           },
           {
            "args": [
             {
              "visible": [
               false,
               false,
               false,
               false,
               false,
               false,
               false,
               false,
               false,
               false,
               false,
               false,
               false,
               false,
               false,
               false,
               false,
               false,
               false,
               false,
               false,
               false,
               false,
               false,
               false,
               false,
               false,
               false,
               false,
               false,
               false,
               false,
               false,
               false,
               false,
               false,
               false,
               false,
               true,
               false,
               false,
               false,
               false,
               false,
               false,
               false,
               false,
               false,
               false,
               false,
               false,
               false,
               false,
               false,
               false
              ]
             },
             {
              "title": "Oil consumption by continent in 2003"
             }
            ],
            "label": "2003",
            "method": "update"
           },
           {
            "args": [
             {
              "visible": [
               false,
               false,
               false,
               false,
               false,
               false,
               false,
               false,
               false,
               false,
               false,
               false,
               false,
               false,
               false,
               false,
               false,
               false,
               false,
               false,
               false,
               false,
               false,
               false,
               false,
               false,
               false,
               false,
               false,
               false,
               false,
               false,
               false,
               false,
               false,
               false,
               false,
               false,
               false,
               true,
               false,
               false,
               false,
               false,
               false,
               false,
               false,
               false,
               false,
               false,
               false,
               false,
               false,
               false,
               false
              ]
             },
             {
              "title": "Oil consumption by continent in 2004"
             }
            ],
            "label": "2004",
            "method": "update"
           },
           {
            "args": [
             {
              "visible": [
               false,
               false,
               false,
               false,
               false,
               false,
               false,
               false,
               false,
               false,
               false,
               false,
               false,
               false,
               false,
               false,
               false,
               false,
               false,
               false,
               false,
               false,
               false,
               false,
               false,
               false,
               false,
               false,
               false,
               false,
               false,
               false,
               false,
               false,
               false,
               false,
               false,
               false,
               false,
               false,
               true,
               false,
               false,
               false,
               false,
               false,
               false,
               false,
               false,
               false,
               false,
               false,
               false,
               false,
               false
              ]
             },
             {
              "title": "Oil consumption by continent in 2005"
             }
            ],
            "label": "2005",
            "method": "update"
           },
           {
            "args": [
             {
              "visible": [
               false,
               false,
               false,
               false,
               false,
               false,
               false,
               false,
               false,
               false,
               false,
               false,
               false,
               false,
               false,
               false,
               false,
               false,
               false,
               false,
               false,
               false,
               false,
               false,
               false,
               false,
               false,
               false,
               false,
               false,
               false,
               false,
               false,
               false,
               false,
               false,
               false,
               false,
               false,
               false,
               false,
               true,
               false,
               false,
               false,
               false,
               false,
               false,
               false,
               false,
               false,
               false,
               false,
               false,
               false
              ]
             },
             {
              "title": "Oil consumption by continent in 2006"
             }
            ],
            "label": "2006",
            "method": "update"
           },
           {
            "args": [
             {
              "visible": [
               false,
               false,
               false,
               false,
               false,
               false,
               false,
               false,
               false,
               false,
               false,
               false,
               false,
               false,
               false,
               false,
               false,
               false,
               false,
               false,
               false,
               false,
               false,
               false,
               false,
               false,
               false,
               false,
               false,
               false,
               false,
               false,
               false,
               false,
               false,
               false,
               false,
               false,
               false,
               false,
               false,
               false,
               true,
               false,
               false,
               false,
               false,
               false,
               false,
               false,
               false,
               false,
               false,
               false,
               false
              ]
             },
             {
              "title": "Oil consumption by continent in 2007"
             }
            ],
            "label": "2007",
            "method": "update"
           },
           {
            "args": [
             {
              "visible": [
               false,
               false,
               false,
               false,
               false,
               false,
               false,
               false,
               false,
               false,
               false,
               false,
               false,
               false,
               false,
               false,
               false,
               false,
               false,
               false,
               false,
               false,
               false,
               false,
               false,
               false,
               false,
               false,
               false,
               false,
               false,
               false,
               false,
               false,
               false,
               false,
               false,
               false,
               false,
               false,
               false,
               false,
               false,
               true,
               false,
               false,
               false,
               false,
               false,
               false,
               false,
               false,
               false,
               false,
               false
              ]
             },
             {
              "title": "Oil consumption by continent in 2008"
             }
            ],
            "label": "2008",
            "method": "update"
           },
           {
            "args": [
             {
              "visible": [
               false,
               false,
               false,
               false,
               false,
               false,
               false,
               false,
               false,
               false,
               false,
               false,
               false,
               false,
               false,
               false,
               false,
               false,
               false,
               false,
               false,
               false,
               false,
               false,
               false,
               false,
               false,
               false,
               false,
               false,
               false,
               false,
               false,
               false,
               false,
               false,
               false,
               false,
               false,
               false,
               false,
               false,
               false,
               false,
               true,
               false,
               false,
               false,
               false,
               false,
               false,
               false,
               false,
               false,
               false
              ]
             },
             {
              "title": "Oil consumption by continent in 2009"
             }
            ],
            "label": "2009",
            "method": "update"
           },
           {
            "args": [
             {
              "visible": [
               false,
               false,
               false,
               false,
               false,
               false,
               false,
               false,
               false,
               false,
               false,
               false,
               false,
               false,
               false,
               false,
               false,
               false,
               false,
               false,
               false,
               false,
               false,
               false,
               false,
               false,
               false,
               false,
               false,
               false,
               false,
               false,
               false,
               false,
               false,
               false,
               false,
               false,
               false,
               false,
               false,
               false,
               false,
               false,
               false,
               true,
               false,
               false,
               false,
               false,
               false,
               false,
               false,
               false,
               false
              ]
             },
             {
              "title": "Oil consumption by continent in 2010"
             }
            ],
            "label": "2010",
            "method": "update"
           },
           {
            "args": [
             {
              "visible": [
               false,
               false,
               false,
               false,
               false,
               false,
               false,
               false,
               false,
               false,
               false,
               false,
               false,
               false,
               false,
               false,
               false,
               false,
               false,
               false,
               false,
               false,
               false,
               false,
               false,
               false,
               false,
               false,
               false,
               false,
               false,
               false,
               false,
               false,
               false,
               false,
               false,
               false,
               false,
               false,
               false,
               false,
               false,
               false,
               false,
               false,
               true,
               false,
               false,
               false,
               false,
               false,
               false,
               false,
               false
              ]
             },
             {
              "title": "Oil consumption by continent in 2011"
             }
            ],
            "label": "2011",
            "method": "update"
           },
           {
            "args": [
             {
              "visible": [
               false,
               false,
               false,
               false,
               false,
               false,
               false,
               false,
               false,
               false,
               false,
               false,
               false,
               false,
               false,
               false,
               false,
               false,
               false,
               false,
               false,
               false,
               false,
               false,
               false,
               false,
               false,
               false,
               false,
               false,
               false,
               false,
               false,
               false,
               false,
               false,
               false,
               false,
               false,
               false,
               false,
               false,
               false,
               false,
               false,
               false,
               false,
               true,
               false,
               false,
               false,
               false,
               false,
               false,
               false
              ]
             },
             {
              "title": "Oil consumption by continent in 2012"
             }
            ],
            "label": "2012",
            "method": "update"
           },
           {
            "args": [
             {
              "visible": [
               false,
               false,
               false,
               false,
               false,
               false,
               false,
               false,
               false,
               false,
               false,
               false,
               false,
               false,
               false,
               false,
               false,
               false,
               false,
               false,
               false,
               false,
               false,
               false,
               false,
               false,
               false,
               false,
               false,
               false,
               false,
               false,
               false,
               false,
               false,
               false,
               false,
               false,
               false,
               false,
               false,
               false,
               false,
               false,
               false,
               false,
               false,
               false,
               true,
               false,
               false,
               false,
               false,
               false,
               false
              ]
             },
             {
              "title": "Oil consumption by continent in 2013"
             }
            ],
            "label": "2013",
            "method": "update"
           },
           {
            "args": [
             {
              "visible": [
               false,
               false,
               false,
               false,
               false,
               false,
               false,
               false,
               false,
               false,
               false,
               false,
               false,
               false,
               false,
               false,
               false,
               false,
               false,
               false,
               false,
               false,
               false,
               false,
               false,
               false,
               false,
               false,
               false,
               false,
               false,
               false,
               false,
               false,
               false,
               false,
               false,
               false,
               false,
               false,
               false,
               false,
               false,
               false,
               false,
               false,
               false,
               false,
               false,
               true,
               false,
               false,
               false,
               false,
               false
              ]
             },
             {
              "title": "Oil consumption by continent in 2014"
             }
            ],
            "label": "2014",
            "method": "update"
           },
           {
            "args": [
             {
              "visible": [
               false,
               false,
               false,
               false,
               false,
               false,
               false,
               false,
               false,
               false,
               false,
               false,
               false,
               false,
               false,
               false,
               false,
               false,
               false,
               false,
               false,
               false,
               false,
               false,
               false,
               false,
               false,
               false,
               false,
               false,
               false,
               false,
               false,
               false,
               false,
               false,
               false,
               false,
               false,
               false,
               false,
               false,
               false,
               false,
               false,
               false,
               false,
               false,
               false,
               false,
               true,
               false,
               false,
               false,
               false
              ]
             },
             {
              "title": "Oil consumption by continent in 2015"
             }
            ],
            "label": "2015",
            "method": "update"
           },
           {
            "args": [
             {
              "visible": [
               false,
               false,
               false,
               false,
               false,
               false,
               false,
               false,
               false,
               false,
               false,
               false,
               false,
               false,
               false,
               false,
               false,
               false,
               false,
               false,
               false,
               false,
               false,
               false,
               false,
               false,
               false,
               false,
               false,
               false,
               false,
               false,
               false,
               false,
               false,
               false,
               false,
               false,
               false,
               false,
               false,
               false,
               false,
               false,
               false,
               false,
               false,
               false,
               false,
               false,
               false,
               true,
               false,
               false,
               false
              ]
             },
             {
              "title": "Oil consumption by continent in 2016"
             }
            ],
            "label": "2016",
            "method": "update"
           },
           {
            "args": [
             {
              "visible": [
               false,
               false,
               false,
               false,
               false,
               false,
               false,
               false,
               false,
               false,
               false,
               false,
               false,
               false,
               false,
               false,
               false,
               false,
               false,
               false,
               false,
               false,
               false,
               false,
               false,
               false,
               false,
               false,
               false,
               false,
               false,
               false,
               false,
               false,
               false,
               false,
               false,
               false,
               false,
               false,
               false,
               false,
               false,
               false,
               false,
               false,
               false,
               false,
               false,
               false,
               false,
               false,
               true,
               false,
               false
              ]
             },
             {
              "title": "Oil consumption by continent in 2017"
             }
            ],
            "label": "2017",
            "method": "update"
           },
           {
            "args": [
             {
              "visible": [
               false,
               false,
               false,
               false,
               false,
               false,
               false,
               false,
               false,
               false,
               false,
               false,
               false,
               false,
               false,
               false,
               false,
               false,
               false,
               false,
               false,
               false,
               false,
               false,
               false,
               false,
               false,
               false,
               false,
               false,
               false,
               false,
               false,
               false,
               false,
               false,
               false,
               false,
               false,
               false,
               false,
               false,
               false,
               false,
               false,
               false,
               false,
               false,
               false,
               false,
               false,
               false,
               false,
               true,
               false
              ]
             },
             {
              "title": "Oil consumption by continent in 2018"
             }
            ],
            "label": "2018",
            "method": "update"
           },
           {
            "args": [
             {
              "visible": [
               false,
               false,
               false,
               false,
               false,
               false,
               false,
               false,
               false,
               false,
               false,
               false,
               false,
               false,
               false,
               false,
               false,
               false,
               false,
               false,
               false,
               false,
               false,
               false,
               false,
               false,
               false,
               false,
               false,
               false,
               false,
               false,
               false,
               false,
               false,
               false,
               false,
               false,
               false,
               false,
               false,
               false,
               false,
               false,
               false,
               false,
               false,
               false,
               false,
               false,
               false,
               false,
               false,
               false,
               true
              ]
             },
             {
              "title": "Oil consumption by continent in 2019"
             }
            ],
            "label": "2019",
            "method": "update"
           }
          ]
         }
        ],
        "template": {
         "data": {
          "bar": [
           {
            "error_x": {
             "color": "#2a3f5f"
            },
            "error_y": {
             "color": "#2a3f5f"
            },
            "marker": {
             "line": {
              "color": "#E5ECF6",
              "width": 0.5
             },
             "pattern": {
              "fillmode": "overlay",
              "size": 10,
              "solidity": 0.2
             }
            },
            "type": "bar"
           }
          ],
          "barpolar": [
           {
            "marker": {
             "line": {
              "color": "#E5ECF6",
              "width": 0.5
             },
             "pattern": {
              "fillmode": "overlay",
              "size": 10,
              "solidity": 0.2
             }
            },
            "type": "barpolar"
           }
          ],
          "carpet": [
           {
            "aaxis": {
             "endlinecolor": "#2a3f5f",
             "gridcolor": "white",
             "linecolor": "white",
             "minorgridcolor": "white",
             "startlinecolor": "#2a3f5f"
            },
            "baxis": {
             "endlinecolor": "#2a3f5f",
             "gridcolor": "white",
             "linecolor": "white",
             "minorgridcolor": "white",
             "startlinecolor": "#2a3f5f"
            },
            "type": "carpet"
           }
          ],
          "choropleth": [
           {
            "colorbar": {
             "outlinewidth": 0,
             "ticks": ""
            },
            "type": "choropleth"
           }
          ],
          "contour": [
           {
            "colorbar": {
             "outlinewidth": 0,
             "ticks": ""
            },
            "colorscale": [
             [
              0,
              "#0d0887"
             ],
             [
              0.1111111111111111,
              "#46039f"
             ],
             [
              0.2222222222222222,
              "#7201a8"
             ],
             [
              0.3333333333333333,
              "#9c179e"
             ],
             [
              0.4444444444444444,
              "#bd3786"
             ],
             [
              0.5555555555555556,
              "#d8576b"
             ],
             [
              0.6666666666666666,
              "#ed7953"
             ],
             [
              0.7777777777777778,
              "#fb9f3a"
             ],
             [
              0.8888888888888888,
              "#fdca26"
             ],
             [
              1,
              "#f0f921"
             ]
            ],
            "type": "contour"
           }
          ],
          "contourcarpet": [
           {
            "colorbar": {
             "outlinewidth": 0,
             "ticks": ""
            },
            "type": "contourcarpet"
           }
          ],
          "heatmap": [
           {
            "colorbar": {
             "outlinewidth": 0,
             "ticks": ""
            },
            "colorscale": [
             [
              0,
              "#0d0887"
             ],
             [
              0.1111111111111111,
              "#46039f"
             ],
             [
              0.2222222222222222,
              "#7201a8"
             ],
             [
              0.3333333333333333,
              "#9c179e"
             ],
             [
              0.4444444444444444,
              "#bd3786"
             ],
             [
              0.5555555555555556,
              "#d8576b"
             ],
             [
              0.6666666666666666,
              "#ed7953"
             ],
             [
              0.7777777777777778,
              "#fb9f3a"
             ],
             [
              0.8888888888888888,
              "#fdca26"
             ],
             [
              1,
              "#f0f921"
             ]
            ],
            "type": "heatmap"
           }
          ],
          "heatmapgl": [
           {
            "colorbar": {
             "outlinewidth": 0,
             "ticks": ""
            },
            "colorscale": [
             [
              0,
              "#0d0887"
             ],
             [
              0.1111111111111111,
              "#46039f"
             ],
             [
              0.2222222222222222,
              "#7201a8"
             ],
             [
              0.3333333333333333,
              "#9c179e"
             ],
             [
              0.4444444444444444,
              "#bd3786"
             ],
             [
              0.5555555555555556,
              "#d8576b"
             ],
             [
              0.6666666666666666,
              "#ed7953"
             ],
             [
              0.7777777777777778,
              "#fb9f3a"
             ],
             [
              0.8888888888888888,
              "#fdca26"
             ],
             [
              1,
              "#f0f921"
             ]
            ],
            "type": "heatmapgl"
           }
          ],
          "histogram": [
           {
            "marker": {
             "pattern": {
              "fillmode": "overlay",
              "size": 10,
              "solidity": 0.2
             }
            },
            "type": "histogram"
           }
          ],
          "histogram2d": [
           {
            "colorbar": {
             "outlinewidth": 0,
             "ticks": ""
            },
            "colorscale": [
             [
              0,
              "#0d0887"
             ],
             [
              0.1111111111111111,
              "#46039f"
             ],
             [
              0.2222222222222222,
              "#7201a8"
             ],
             [
              0.3333333333333333,
              "#9c179e"
             ],
             [
              0.4444444444444444,
              "#bd3786"
             ],
             [
              0.5555555555555556,
              "#d8576b"
             ],
             [
              0.6666666666666666,
              "#ed7953"
             ],
             [
              0.7777777777777778,
              "#fb9f3a"
             ],
             [
              0.8888888888888888,
              "#fdca26"
             ],
             [
              1,
              "#f0f921"
             ]
            ],
            "type": "histogram2d"
           }
          ],
          "histogram2dcontour": [
           {
            "colorbar": {
             "outlinewidth": 0,
             "ticks": ""
            },
            "colorscale": [
             [
              0,
              "#0d0887"
             ],
             [
              0.1111111111111111,
              "#46039f"
             ],
             [
              0.2222222222222222,
              "#7201a8"
             ],
             [
              0.3333333333333333,
              "#9c179e"
             ],
             [
              0.4444444444444444,
              "#bd3786"
             ],
             [
              0.5555555555555556,
              "#d8576b"
             ],
             [
              0.6666666666666666,
              "#ed7953"
             ],
             [
              0.7777777777777778,
              "#fb9f3a"
             ],
             [
              0.8888888888888888,
              "#fdca26"
             ],
             [
              1,
              "#f0f921"
             ]
            ],
            "type": "histogram2dcontour"
           }
          ],
          "mesh3d": [
           {
            "colorbar": {
             "outlinewidth": 0,
             "ticks": ""
            },
            "type": "mesh3d"
           }
          ],
          "parcoords": [
           {
            "line": {
             "colorbar": {
              "outlinewidth": 0,
              "ticks": ""
             }
            },
            "type": "parcoords"
           }
          ],
          "pie": [
           {
            "automargin": true,
            "type": "pie"
           }
          ],
          "scatter": [
           {
            "fillpattern": {
             "fillmode": "overlay",
             "size": 10,
             "solidity": 0.2
            },
            "type": "scatter"
           }
          ],
          "scatter3d": [
           {
            "line": {
             "colorbar": {
              "outlinewidth": 0,
              "ticks": ""
             }
            },
            "marker": {
             "colorbar": {
              "outlinewidth": 0,
              "ticks": ""
             }
            },
            "type": "scatter3d"
           }
          ],
          "scattercarpet": [
           {
            "marker": {
             "colorbar": {
              "outlinewidth": 0,
              "ticks": ""
             }
            },
            "type": "scattercarpet"
           }
          ],
          "scattergeo": [
           {
            "marker": {
             "colorbar": {
              "outlinewidth": 0,
              "ticks": ""
             }
            },
            "type": "scattergeo"
           }
          ],
          "scattergl": [
           {
            "marker": {
             "colorbar": {
              "outlinewidth": 0,
              "ticks": ""
             }
            },
            "type": "scattergl"
           }
          ],
          "scattermapbox": [
           {
            "marker": {
             "colorbar": {
              "outlinewidth": 0,
              "ticks": ""
             }
            },
            "type": "scattermapbox"
           }
          ],
          "scatterpolar": [
           {
            "marker": {
             "colorbar": {
              "outlinewidth": 0,
              "ticks": ""
             }
            },
            "type": "scatterpolar"
           }
          ],
          "scatterpolargl": [
           {
            "marker": {
             "colorbar": {
              "outlinewidth": 0,
              "ticks": ""
             }
            },
            "type": "scatterpolargl"
           }
          ],
          "scatterternary": [
           {
            "marker": {
             "colorbar": {
              "outlinewidth": 0,
              "ticks": ""
             }
            },
            "type": "scatterternary"
           }
          ],
          "surface": [
           {
            "colorbar": {
             "outlinewidth": 0,
             "ticks": ""
            },
            "colorscale": [
             [
              0,
              "#0d0887"
             ],
             [
              0.1111111111111111,
              "#46039f"
             ],
             [
              0.2222222222222222,
              "#7201a8"
             ],
             [
              0.3333333333333333,
              "#9c179e"
             ],
             [
              0.4444444444444444,
              "#bd3786"
             ],
             [
              0.5555555555555556,
              "#d8576b"
             ],
             [
              0.6666666666666666,
              "#ed7953"
             ],
             [
              0.7777777777777778,
              "#fb9f3a"
             ],
             [
              0.8888888888888888,
              "#fdca26"
             ],
             [
              1,
              "#f0f921"
             ]
            ],
            "type": "surface"
           }
          ],
          "table": [
           {
            "cells": {
             "fill": {
              "color": "#EBF0F8"
             },
             "line": {
              "color": "white"
             }
            },
            "header": {
             "fill": {
              "color": "#C8D4E3"
             },
             "line": {
              "color": "white"
             }
            },
            "type": "table"
           }
          ]
         },
         "layout": {
          "annotationdefaults": {
           "arrowcolor": "#2a3f5f",
           "arrowhead": 0,
           "arrowwidth": 1
          },
          "autotypenumbers": "strict",
          "coloraxis": {
           "colorbar": {
            "outlinewidth": 0,
            "ticks": ""
           }
          },
          "colorscale": {
           "diverging": [
            [
             0,
             "#8e0152"
            ],
            [
             0.1,
             "#c51b7d"
            ],
            [
             0.2,
             "#de77ae"
            ],
            [
             0.3,
             "#f1b6da"
            ],
            [
             0.4,
             "#fde0ef"
            ],
            [
             0.5,
             "#f7f7f7"
            ],
            [
             0.6,
             "#e6f5d0"
            ],
            [
             0.7,
             "#b8e186"
            ],
            [
             0.8,
             "#7fbc41"
            ],
            [
             0.9,
             "#4d9221"
            ],
            [
             1,
             "#276419"
            ]
           ],
           "sequential": [
            [
             0,
             "#0d0887"
            ],
            [
             0.1111111111111111,
             "#46039f"
            ],
            [
             0.2222222222222222,
             "#7201a8"
            ],
            [
             0.3333333333333333,
             "#9c179e"
            ],
            [
             0.4444444444444444,
             "#bd3786"
            ],
            [
             0.5555555555555556,
             "#d8576b"
            ],
            [
             0.6666666666666666,
             "#ed7953"
            ],
            [
             0.7777777777777778,
             "#fb9f3a"
            ],
            [
             0.8888888888888888,
             "#fdca26"
            ],
            [
             1,
             "#f0f921"
            ]
           ],
           "sequentialminus": [
            [
             0,
             "#0d0887"
            ],
            [
             0.1111111111111111,
             "#46039f"
            ],
            [
             0.2222222222222222,
             "#7201a8"
            ],
            [
             0.3333333333333333,
             "#9c179e"
            ],
            [
             0.4444444444444444,
             "#bd3786"
            ],
            [
             0.5555555555555556,
             "#d8576b"
            ],
            [
             0.6666666666666666,
             "#ed7953"
            ],
            [
             0.7777777777777778,
             "#fb9f3a"
            ],
            [
             0.8888888888888888,
             "#fdca26"
            ],
            [
             1,
             "#f0f921"
            ]
           ]
          },
          "colorway": [
           "#636efa",
           "#EF553B",
           "#00cc96",
           "#ab63fa",
           "#FFA15A",
           "#19d3f3",
           "#FF6692",
           "#B6E880",
           "#FF97FF",
           "#FECB52"
          ],
          "font": {
           "color": "#2a3f5f"
          },
          "geo": {
           "bgcolor": "white",
           "lakecolor": "white",
           "landcolor": "#E5ECF6",
           "showlakes": true,
           "showland": true,
           "subunitcolor": "white"
          },
          "hoverlabel": {
           "align": "left"
          },
          "hovermode": "closest",
          "mapbox": {
           "style": "light"
          },
          "paper_bgcolor": "white",
          "plot_bgcolor": "#E5ECF6",
          "polar": {
           "angularaxis": {
            "gridcolor": "white",
            "linecolor": "white",
            "ticks": ""
           },
           "bgcolor": "#E5ECF6",
           "radialaxis": {
            "gridcolor": "white",
            "linecolor": "white",
            "ticks": ""
           }
          },
          "scene": {
           "xaxis": {
            "backgroundcolor": "#E5ECF6",
            "gridcolor": "white",
            "gridwidth": 2,
            "linecolor": "white",
            "showbackground": true,
            "ticks": "",
            "zerolinecolor": "white"
           },
           "yaxis": {
            "backgroundcolor": "#E5ECF6",
            "gridcolor": "white",
            "gridwidth": 2,
            "linecolor": "white",
            "showbackground": true,
            "ticks": "",
            "zerolinecolor": "white"
           },
           "zaxis": {
            "backgroundcolor": "#E5ECF6",
            "gridcolor": "white",
            "gridwidth": 2,
            "linecolor": "white",
            "showbackground": true,
            "ticks": "",
            "zerolinecolor": "white"
           }
          },
          "shapedefaults": {
           "line": {
            "color": "#2a3f5f"
           }
          },
          "ternary": {
           "aaxis": {
            "gridcolor": "white",
            "linecolor": "white",
            "ticks": ""
           },
           "baxis": {
            "gridcolor": "white",
            "linecolor": "white",
            "ticks": ""
           },
           "bgcolor": "#E5ECF6",
           "caxis": {
            "gridcolor": "white",
            "linecolor": "white",
            "ticks": ""
           }
          },
          "title": {
           "x": 0.05
          },
          "xaxis": {
           "automargin": true,
           "gridcolor": "white",
           "linecolor": "white",
           "ticks": "",
           "title": {
            "standoff": 15
           },
           "zerolinecolor": "white",
           "zerolinewidth": 2
          },
          "yaxis": {
           "automargin": true,
           "gridcolor": "white",
           "linecolor": "white",
           "ticks": "",
           "title": {
            "standoff": 15
           },
           "zerolinecolor": "white",
           "zerolinewidth": 2
          }
         }
        },
        "title": {
         "text": "Oil consumption by continent between 1965 and 2019"
        },
        "yaxis": {
         "range": [
          0,
          20000
         ],
         "title": {
          "text": "Oil Consumption (terawatt-hours)"
         }
        }
       }
      }
     },
     "metadata": {},
     "output_type": "display_data"
    }
   ],
   "source": [
    "oil_consumption_region = oil_consumption_df.loc[oil_consumption_df['region']!='OWID_WRL'].groupby(['region', 'year']).sum()\n",
    "oil_consumption_region = oil_consumption_region.reset_index()[['region', 'year', 'oil_consumption']]\n",
    "# An empty graph object\n",
    "fig_bar = go.Figure()\n",
    "\n",
    "# Loop through each unique year in the dataset and create a trace for each year\n",
    "for year in oil_consumption_region['year'].unique():\n",
    "    # Filter the dataframe to only include data for the current year\n",
    "    data_for_year = oil_consumption_region[oil_consumption_region['year'] == year]\n",
    "    # Create a trace for the current year\n",
    "    fig_bar.add_trace(dict(type='bar',\n",
    "                     x=data_for_year['region'],\n",
    "                     y=data_for_year['oil_consumption'],\n",
    "                     showlegend=False,\n",
    "                     visible=False,\n",
    "                     marker=dict(color='orange'),\n",
    "                     hovertemplate='<b>%{x}</b> <br><b>Oil Consumption:</b> %{y:.1f}',\n",
    "                     name=''\n",
    "                    )\n",
    "               )\n",
    "\n",
    "# First seen trace\n",
    "fig_bar.data[0].visible = True\n",
    "\n",
    "# Create a slider step for each year\n",
    "steps = []\n",
    "for i, year in enumerate(oil_consumption_region['year'].unique()):\n",
    "    visible_traces = [False] * len(oil_consumption_region['year'].unique())\n",
    "    visible_traces[i] = True\n",
    "    step = dict(\n",
    "        label=str(year),\n",
    "        method=\"update\",\n",
    "        args=[{\"visible\": visible_traces},\n",
    "              {\"title\": \"Oil consumption by continent in \" + str(year)}],\n",
    "    )\n",
    "    steps.append(step)\n",
    "\n",
    "# Add slider to the layout\n",
    "sliders = [dict(\n",
    "    active=0,\n",
    "    steps=steps\n",
    ")]\n",
    "\n",
    "fig_bar.update_layout(dict(title=dict(text='Oil consumption by continent between 1965 and 2019'),\n",
    "                  yaxis=dict(title='Oil Consumption (terawatt-hours)',\n",
    "                             range=[0,2*(10**4)]\n",
    "                            ),\n",
    "                  sliders=sliders,\n",
    "                  plot_bgcolor='white'\n",
    "                ))\n",
    "\n",
    "fig_bar.show()\n"
   ]
  },
  {
   "cell_type": "code",
   "execution_count": 138,
   "id": "7d68de83",
   "metadata": {},
   "outputs": [],
   "source": [
    "consumption_df = data[data['nuclear_consumption'].notna()][['nuclear_consumption', 'year', 'iso_code', 'country', 'region', 'sub_region']]\n",
    "    # Filter the data\n",
    "consumption_df = consumption_df[consumption_df['country'] == 'World']\n",
    "# consumption_df"
   ]
  },
  {
   "cell_type": "code",
   "execution_count": 139,
   "id": "cdbc9807",
   "metadata": {},
   "outputs": [
    {
     "data": {
      "text/html": [
       "<div>\n",
       "<style scoped>\n",
       "    .dataframe tbody tr th:only-of-type {\n",
       "        vertical-align: middle;\n",
       "    }\n",
       "\n",
       "    .dataframe tbody tr th {\n",
       "        vertical-align: top;\n",
       "    }\n",
       "\n",
       "    .dataframe thead th {\n",
       "        text-align: right;\n",
       "    }\n",
       "</style>\n",
       "<table border=\"1\" class=\"dataframe\">\n",
       "  <thead>\n",
       "    <tr style=\"text-align: right;\">\n",
       "      <th></th>\n",
       "      <th>country</th>\n",
       "      <th>continent</th>\n",
       "      <th>year</th>\n",
       "      <th>lifeExp</th>\n",
       "      <th>pop</th>\n",
       "      <th>gdpPercap</th>\n",
       "      <th>iso_alpha</th>\n",
       "      <th>iso_num</th>\n",
       "    </tr>\n",
       "  </thead>\n",
       "  <tbody>\n",
       "    <tr>\n",
       "      <th>11</th>\n",
       "      <td>Afghanistan</td>\n",
       "      <td>Asia</td>\n",
       "      <td>2007</td>\n",
       "      <td>43.828</td>\n",
       "      <td>31889923</td>\n",
       "      <td>974.580338</td>\n",
       "      <td>AFG</td>\n",
       "      <td>4</td>\n",
       "    </tr>\n",
       "    <tr>\n",
       "      <th>23</th>\n",
       "      <td>Albania</td>\n",
       "      <td>Europe</td>\n",
       "      <td>2007</td>\n",
       "      <td>76.423</td>\n",
       "      <td>3600523</td>\n",
       "      <td>5937.029526</td>\n",
       "      <td>ALB</td>\n",
       "      <td>8</td>\n",
       "    </tr>\n",
       "    <tr>\n",
       "      <th>35</th>\n",
       "      <td>Algeria</td>\n",
       "      <td>Africa</td>\n",
       "      <td>2007</td>\n",
       "      <td>72.301</td>\n",
       "      <td>33333216</td>\n",
       "      <td>6223.367465</td>\n",
       "      <td>DZA</td>\n",
       "      <td>12</td>\n",
       "    </tr>\n",
       "    <tr>\n",
       "      <th>47</th>\n",
       "      <td>Angola</td>\n",
       "      <td>Africa</td>\n",
       "      <td>2007</td>\n",
       "      <td>42.731</td>\n",
       "      <td>12420476</td>\n",
       "      <td>4797.231267</td>\n",
       "      <td>AGO</td>\n",
       "      <td>24</td>\n",
       "    </tr>\n",
       "    <tr>\n",
       "      <th>59</th>\n",
       "      <td>Argentina</td>\n",
       "      <td>Americas</td>\n",
       "      <td>2007</td>\n",
       "      <td>75.320</td>\n",
       "      <td>40301927</td>\n",
       "      <td>12779.379640</td>\n",
       "      <td>ARG</td>\n",
       "      <td>32</td>\n",
       "    </tr>\n",
       "    <tr>\n",
       "      <th>...</th>\n",
       "      <td>...</td>\n",
       "      <td>...</td>\n",
       "      <td>...</td>\n",
       "      <td>...</td>\n",
       "      <td>...</td>\n",
       "      <td>...</td>\n",
       "      <td>...</td>\n",
       "      <td>...</td>\n",
       "    </tr>\n",
       "    <tr>\n",
       "      <th>1655</th>\n",
       "      <td>Vietnam</td>\n",
       "      <td>Asia</td>\n",
       "      <td>2007</td>\n",
       "      <td>74.249</td>\n",
       "      <td>85262356</td>\n",
       "      <td>2441.576404</td>\n",
       "      <td>VNM</td>\n",
       "      <td>704</td>\n",
       "    </tr>\n",
       "    <tr>\n",
       "      <th>1667</th>\n",
       "      <td>West Bank and Gaza</td>\n",
       "      <td>Asia</td>\n",
       "      <td>2007</td>\n",
       "      <td>73.422</td>\n",
       "      <td>4018332</td>\n",
       "      <td>3025.349798</td>\n",
       "      <td>PSE</td>\n",
       "      <td>275</td>\n",
       "    </tr>\n",
       "    <tr>\n",
       "      <th>1679</th>\n",
       "      <td>Yemen, Rep.</td>\n",
       "      <td>Asia</td>\n",
       "      <td>2007</td>\n",
       "      <td>62.698</td>\n",
       "      <td>22211743</td>\n",
       "      <td>2280.769906</td>\n",
       "      <td>YEM</td>\n",
       "      <td>887</td>\n",
       "    </tr>\n",
       "    <tr>\n",
       "      <th>1691</th>\n",
       "      <td>Zambia</td>\n",
       "      <td>Africa</td>\n",
       "      <td>2007</td>\n",
       "      <td>42.384</td>\n",
       "      <td>11746035</td>\n",
       "      <td>1271.211593</td>\n",
       "      <td>ZMB</td>\n",
       "      <td>894</td>\n",
       "    </tr>\n",
       "    <tr>\n",
       "      <th>1703</th>\n",
       "      <td>Zimbabwe</td>\n",
       "      <td>Africa</td>\n",
       "      <td>2007</td>\n",
       "      <td>43.487</td>\n",
       "      <td>12311143</td>\n",
       "      <td>469.709298</td>\n",
       "      <td>ZWE</td>\n",
       "      <td>716</td>\n",
       "    </tr>\n",
       "  </tbody>\n",
       "</table>\n",
       "<p>142 rows × 8 columns</p>\n",
       "</div>"
      ],
      "text/plain": [
       "                 country continent  year  lifeExp       pop     gdpPercap  \\\n",
       "11           Afghanistan      Asia  2007   43.828  31889923    974.580338   \n",
       "23               Albania    Europe  2007   76.423   3600523   5937.029526   \n",
       "35               Algeria    Africa  2007   72.301  33333216   6223.367465   \n",
       "47                Angola    Africa  2007   42.731  12420476   4797.231267   \n",
       "59             Argentina  Americas  2007   75.320  40301927  12779.379640   \n",
       "...                  ...       ...   ...      ...       ...           ...   \n",
       "1655             Vietnam      Asia  2007   74.249  85262356   2441.576404   \n",
       "1667  West Bank and Gaza      Asia  2007   73.422   4018332   3025.349798   \n",
       "1679         Yemen, Rep.      Asia  2007   62.698  22211743   2280.769906   \n",
       "1691              Zambia    Africa  2007   42.384  11746035   1271.211593   \n",
       "1703            Zimbabwe    Africa  2007   43.487  12311143    469.709298   \n",
       "\n",
       "     iso_alpha  iso_num  \n",
       "11         AFG        4  \n",
       "23         ALB        8  \n",
       "35         DZA       12  \n",
       "47         AGO       24  \n",
       "59         ARG       32  \n",
       "...        ...      ...  \n",
       "1655       VNM      704  \n",
       "1667       PSE      275  \n",
       "1679       YEM      887  \n",
       "1691       ZMB      894  \n",
       "1703       ZWE      716  \n",
       "\n",
       "[142 rows x 8 columns]"
      ]
     },
     "execution_count": 139,
     "metadata": {},
     "output_type": "execute_result"
    }
   ],
   "source": [
    "px.data.gapminder().query(\"year == 2007\")"
   ]
  },
  {
   "cell_type": "code",
   "execution_count": 144,
   "id": "422ab1de",
   "metadata": {},
   "outputs": [
    {
     "ename": "KeyError",
     "evalue": "'geometry'",
     "output_type": "error",
     "traceback": [
      "\u001b[1;31m---------------------------------------------------------------------------\u001b[0m",
      "\u001b[1;31mKeyError\u001b[0m                                  Traceback (most recent call last)",
      "\u001b[1;32mc:\\Users\\henri\\anaconda3\\lib\\site-packages\\pandas\\core\\indexes\\base.py\u001b[0m in \u001b[0;36mget_loc\u001b[1;34m(self, key, method, tolerance)\u001b[0m\n\u001b[0;32m   3802\u001b[0m             \u001b[1;32mtry\u001b[0m\u001b[1;33m:\u001b[0m\u001b[1;33m\u001b[0m\u001b[1;33m\u001b[0m\u001b[0m\n\u001b[1;32m-> 3803\u001b[1;33m                 \u001b[1;32mreturn\u001b[0m \u001b[0mself\u001b[0m\u001b[1;33m.\u001b[0m\u001b[0m_engine\u001b[0m\u001b[1;33m.\u001b[0m\u001b[0mget_loc\u001b[0m\u001b[1;33m(\u001b[0m\u001b[0mcasted_key\u001b[0m\u001b[1;33m)\u001b[0m\u001b[1;33m\u001b[0m\u001b[1;33m\u001b[0m\u001b[0m\n\u001b[0m\u001b[0;32m   3804\u001b[0m             \u001b[1;32mexcept\u001b[0m \u001b[0mKeyError\u001b[0m \u001b[1;32mas\u001b[0m \u001b[0merr\u001b[0m\u001b[1;33m:\u001b[0m\u001b[1;33m\u001b[0m\u001b[1;33m\u001b[0m\u001b[0m\n",
      "\u001b[1;32mc:\\Users\\henri\\anaconda3\\lib\\site-packages\\pandas\\_libs\\index.pyx\u001b[0m in \u001b[0;36mpandas._libs.index.IndexEngine.get_loc\u001b[1;34m()\u001b[0m\n",
      "\u001b[1;32mc:\\Users\\henri\\anaconda3\\lib\\site-packages\\pandas\\_libs\\index.pyx\u001b[0m in \u001b[0;36mpandas._libs.index.IndexEngine.get_loc\u001b[1;34m()\u001b[0m\n",
      "\u001b[1;32mpandas\\_libs\\hashtable_class_helper.pxi\u001b[0m in \u001b[0;36mpandas._libs.hashtable.PyObjectHashTable.get_item\u001b[1;34m()\u001b[0m\n",
      "\u001b[1;32mpandas\\_libs\\hashtable_class_helper.pxi\u001b[0m in \u001b[0;36mpandas._libs.hashtable.PyObjectHashTable.get_item\u001b[1;34m()\u001b[0m\n",
      "\u001b[1;31mKeyError\u001b[0m: 'geometry'",
      "\nThe above exception was the direct cause of the following exception:\n",
      "\u001b[1;31mKeyError\u001b[0m                                  Traceback (most recent call last)",
      "\u001b[1;32m~\\AppData\\Local\\Temp\\ipykernel_19852\\852198042.py\u001b[0m in \u001b[0;36m<cell line: 11>\u001b[1;34m()\u001b[0m\n\u001b[0;32m     10\u001b[0m \u001b[1;31m# Create the choropleth map\u001b[0m\u001b[1;33m\u001b[0m\u001b[1;33m\u001b[0m\u001b[0m\n\u001b[0;32m     11\u001b[0m fig = go.Figure(go.Choroplethmapbox(\n\u001b[1;32m---> 12\u001b[1;33m         \u001b[0mgeojson\u001b[0m\u001b[1;33m=\u001b[0m\u001b[0mmerged_data\u001b[0m\u001b[1;33m[\u001b[0m\u001b[1;34m'geometry'\u001b[0m\u001b[1;33m]\u001b[0m\u001b[1;33m,\u001b[0m\u001b[1;33m\u001b[0m\u001b[1;33m\u001b[0m\u001b[0m\n\u001b[0m\u001b[0;32m     13\u001b[0m         \u001b[0mlocations\u001b[0m\u001b[1;33m=\u001b[0m\u001b[0mmerged_data\u001b[0m\u001b[1;33m[\u001b[0m\u001b[1;34m'iso_alpha'\u001b[0m\u001b[1;33m]\u001b[0m\u001b[1;33m,\u001b[0m\u001b[1;33m\u001b[0m\u001b[1;33m\u001b[0m\u001b[0m\n\u001b[0;32m     14\u001b[0m         \u001b[0mz\u001b[0m\u001b[1;33m=\u001b[0m\u001b[0mmerged_data\u001b[0m\u001b[1;33m[\u001b[0m\u001b[1;34m'oil_consumption'\u001b[0m\u001b[1;33m]\u001b[0m\u001b[1;33m,\u001b[0m\u001b[1;33m\u001b[0m\u001b[1;33m\u001b[0m\u001b[0m\n",
      "\u001b[1;32mc:\\Users\\henri\\anaconda3\\lib\\site-packages\\pandas\\core\\frame.py\u001b[0m in \u001b[0;36m__getitem__\u001b[1;34m(self, key)\u001b[0m\n\u001b[0;32m   3803\u001b[0m             \u001b[1;32mif\u001b[0m \u001b[0mself\u001b[0m\u001b[1;33m.\u001b[0m\u001b[0mcolumns\u001b[0m\u001b[1;33m.\u001b[0m\u001b[0mnlevels\u001b[0m \u001b[1;33m>\u001b[0m \u001b[1;36m1\u001b[0m\u001b[1;33m:\u001b[0m\u001b[1;33m\u001b[0m\u001b[1;33m\u001b[0m\u001b[0m\n\u001b[0;32m   3804\u001b[0m                 \u001b[1;32mreturn\u001b[0m \u001b[0mself\u001b[0m\u001b[1;33m.\u001b[0m\u001b[0m_getitem_multilevel\u001b[0m\u001b[1;33m(\u001b[0m\u001b[0mkey\u001b[0m\u001b[1;33m)\u001b[0m\u001b[1;33m\u001b[0m\u001b[1;33m\u001b[0m\u001b[0m\n\u001b[1;32m-> 3805\u001b[1;33m             \u001b[0mindexer\u001b[0m \u001b[1;33m=\u001b[0m \u001b[0mself\u001b[0m\u001b[1;33m.\u001b[0m\u001b[0mcolumns\u001b[0m\u001b[1;33m.\u001b[0m\u001b[0mget_loc\u001b[0m\u001b[1;33m(\u001b[0m\u001b[0mkey\u001b[0m\u001b[1;33m)\u001b[0m\u001b[1;33m\u001b[0m\u001b[1;33m\u001b[0m\u001b[0m\n\u001b[0m\u001b[0;32m   3806\u001b[0m             \u001b[1;32mif\u001b[0m \u001b[0mis_integer\u001b[0m\u001b[1;33m(\u001b[0m\u001b[0mindexer\u001b[0m\u001b[1;33m)\u001b[0m\u001b[1;33m:\u001b[0m\u001b[1;33m\u001b[0m\u001b[1;33m\u001b[0m\u001b[0m\n\u001b[0;32m   3807\u001b[0m                 \u001b[0mindexer\u001b[0m \u001b[1;33m=\u001b[0m \u001b[1;33m[\u001b[0m\u001b[0mindexer\u001b[0m\u001b[1;33m]\u001b[0m\u001b[1;33m\u001b[0m\u001b[1;33m\u001b[0m\u001b[0m\n",
      "\u001b[1;32mc:\\Users\\henri\\anaconda3\\lib\\site-packages\\pandas\\core\\indexes\\base.py\u001b[0m in \u001b[0;36mget_loc\u001b[1;34m(self, key, method, tolerance)\u001b[0m\n\u001b[0;32m   3803\u001b[0m                 \u001b[1;32mreturn\u001b[0m \u001b[0mself\u001b[0m\u001b[1;33m.\u001b[0m\u001b[0m_engine\u001b[0m\u001b[1;33m.\u001b[0m\u001b[0mget_loc\u001b[0m\u001b[1;33m(\u001b[0m\u001b[0mcasted_key\u001b[0m\u001b[1;33m)\u001b[0m\u001b[1;33m\u001b[0m\u001b[1;33m\u001b[0m\u001b[0m\n\u001b[0;32m   3804\u001b[0m             \u001b[1;32mexcept\u001b[0m \u001b[0mKeyError\u001b[0m \u001b[1;32mas\u001b[0m \u001b[0merr\u001b[0m\u001b[1;33m:\u001b[0m\u001b[1;33m\u001b[0m\u001b[1;33m\u001b[0m\u001b[0m\n\u001b[1;32m-> 3805\u001b[1;33m                 \u001b[1;32mraise\u001b[0m \u001b[0mKeyError\u001b[0m\u001b[1;33m(\u001b[0m\u001b[0mkey\u001b[0m\u001b[1;33m)\u001b[0m \u001b[1;32mfrom\u001b[0m \u001b[0merr\u001b[0m\u001b[1;33m\u001b[0m\u001b[1;33m\u001b[0m\u001b[0m\n\u001b[0m\u001b[0;32m   3806\u001b[0m             \u001b[1;32mexcept\u001b[0m \u001b[0mTypeError\u001b[0m\u001b[1;33m:\u001b[0m\u001b[1;33m\u001b[0m\u001b[1;33m\u001b[0m\u001b[0m\n\u001b[0;32m   3807\u001b[0m                 \u001b[1;31m# If we have a listlike key, _check_indexing_error will raise\u001b[0m\u001b[1;33m\u001b[0m\u001b[1;33m\u001b[0m\u001b[0m\n",
      "\u001b[1;31mKeyError\u001b[0m: 'geometry'"
     ]
    }
   ],
   "source": [
    "\n",
    "# Load the pre-embedded data\n",
    "df = px.data.gapminder().query(\"year == 2007\")\n",
    "\n",
    "# Load your data\n",
    "oil_consumption_region = data\n",
    "\n",
    "# Merge the two datasets based on the country ISO code\n",
    "merged_data = pd.merge(df, oil_consumption_region, left_on='iso_alpha', right_on='iso_code')\n",
    "\n",
    "# Create the choropleth map\n",
    "fig = go.Figure(go.Choroplethmapbox(\n",
    "        geojson=merged_data['geometry'],\n",
    "        locations=merged_data['iso_alpha'],\n",
    "        z=merged_data['oil_consumption'],\n",
    "        colorscale='Blues',\n",
    "        zmin=0,\n",
    "        zmax=20000,\n",
    "        marker_opacity=0.7,\n",
    "        marker_line_width=0,\n",
    "        colorbar=dict(\n",
    "            thickness=20,\n",
    "            ticklen=3,\n",
    "            title='Oil Consumption (terawatt-hours)',\n",
    "            titleside='right'\n",
    "        )\n",
    "    ))\n",
    "\n",
    "fig.update_layout(\n",
    "    title_text='Oil Consumption by Region (2007)',\n",
    "    mapbox_style='carto-positron',\n",
    "    mapbox_zoom=1,\n",
    "    mapbox_center = {'lat': 30, 'lon': 0},\n",
    ")\n",
    "fig.show()\n"
   ]
  },
  {
   "cell_type": "code",
   "execution_count": 153,
   "id": "c6070f9e",
   "metadata": {},
   "outputs": [
    {
     "data": {
      "text/plain": [
       "216"
      ]
     },
     "execution_count": 153,
     "metadata": {},
     "output_type": "execute_result"
    }
   ],
   "source": [
    "data['country'].unique().size"
   ]
  }
 ],
 "metadata": {
  "kernelspec": {
   "display_name": "Python 3 (ipykernel)",
   "language": "python",
   "name": "python3"
  },
  "language_info": {
   "codemirror_mode": {
    "name": "ipython",
    "version": 3
   },
   "file_extension": ".py",
   "mimetype": "text/x-python",
   "name": "python",
   "nbconvert_exporter": "python",
   "pygments_lexer": "ipython3",
   "version": "3.9.12"
  }
 },
 "nbformat": 4,
 "nbformat_minor": 5
}
